{
 "cells": [
  {
   "cell_type": "code",
   "execution_count": 1,
   "metadata": {},
   "outputs": [
    {
     "name": "stderr",
     "output_type": "stream",
     "text": [
      "Special tokens have been added in the vocabulary, make sure the associated word embeddings are fine-tuned or trained.\n"
     ]
    },
    {
     "data": {
      "application/vnd.jupyter.widget-view+json": {
       "model_id": "f8f7c55678f44151ba5962a5a007a68c",
       "version_major": 2,
       "version_minor": 0
      },
      "text/plain": [
       "Loading checkpoint shards:   0%|          | 0/4 [00:00<?, ?it/s]"
      ]
     },
     "metadata": {},
     "output_type": "display_data"
    }
   ],
   "source": [
    "import torch\n",
    "from transformers import AutoTokenizer, AutoModelForCausalLM\n",
    "\n",
    "model_id = 'IlyaGusev/saiga_llama3_8b'\n",
    "\n",
    "tokenizer = AutoTokenizer.from_pretrained(model_id)\n",
    "model = AutoModelForCausalLM.from_pretrained(\n",
    "    model_id,\n",
    "    # load_in_8bit=True,\n",
    "    torch_dtype = torch.bfloat16,\n",
    "    device_map = \"auto\"\n",
    ")\n"
   ]
  },
  {
   "cell_type": "code",
   "execution_count": 2,
   "metadata": {},
   "outputs": [
    {
     "data": {
      "text/plain": [
       "LlamaForCausalLM(\n",
       "  (model): LlamaModel(\n",
       "    (embed_tokens): Embedding(128256, 4096)\n",
       "    (layers): ModuleList(\n",
       "      (0-31): 32 x LlamaDecoderLayer(\n",
       "        (self_attn): LlamaSdpaAttention(\n",
       "          (q_proj): Linear(in_features=4096, out_features=4096, bias=False)\n",
       "          (k_proj): Linear(in_features=4096, out_features=1024, bias=False)\n",
       "          (v_proj): Linear(in_features=4096, out_features=1024, bias=False)\n",
       "          (o_proj): Linear(in_features=4096, out_features=4096, bias=False)\n",
       "          (rotary_emb): LlamaRotaryEmbedding()\n",
       "        )\n",
       "        (mlp): LlamaMLP(\n",
       "          (gate_proj): Linear(in_features=4096, out_features=14336, bias=False)\n",
       "          (up_proj): Linear(in_features=4096, out_features=14336, bias=False)\n",
       "          (down_proj): Linear(in_features=14336, out_features=4096, bias=False)\n",
       "          (act_fn): SiLU()\n",
       "        )\n",
       "        (input_layernorm): LlamaRMSNorm()\n",
       "        (post_attention_layernorm): LlamaRMSNorm()\n",
       "      )\n",
       "    )\n",
       "    (norm): LlamaRMSNorm()\n",
       "  )\n",
       "  (lm_head): Linear(in_features=4096, out_features=128256, bias=False)\n",
       ")"
      ]
     },
     "execution_count": 2,
     "metadata": {},
     "output_type": "execute_result"
    }
   ],
   "source": [
    "model.eval()"
   ]
  },
  {
   "cell_type": "code",
   "execution_count": 3,
   "metadata": {},
   "outputs": [
    {
     "name": "stdout",
     "output_type": "stream",
     "text": [
      "GenerationConfig {\n",
      "  \"bos_token_id\": 128000,\n",
      "  \"do_sample\": true,\n",
      "  \"eos_token_id\": 128009,\n",
      "  \"max_new_tokens\": 1536,\n",
      "  \"pad_token_id\": 128000,\n",
      "  \"repetition_penalty\": 1.12,\n",
      "  \"temperature\": 0.2,\n",
      "  \"top_k\": 30,\n",
      "  \"top_p\": 0.9\n",
      "}\n",
      "\n"
     ]
    }
   ],
   "source": [
    "from transformers import GenerationConfig\n",
    "generation_config = GenerationConfig.from_pretrained(model_id)\n",
    "print(generation_config)"
   ]
  },
  {
   "cell_type": "code",
   "execution_count": 4,
   "metadata": {},
   "outputs": [
    {
     "data": {
      "text/plain": [
       "transformers.generation.configuration_utils.GenerationConfig"
      ]
     },
     "execution_count": 4,
     "metadata": {},
     "output_type": "execute_result"
    }
   ],
   "source": [
    "type(generation_config)"
   ]
  },
  {
   "cell_type": "code",
   "execution_count": 5,
   "metadata": {},
   "outputs": [],
   "source": [
    "generation_config.max_new_tokens = 300\n",
    "generation_config.temperature = 0.17\n",
    "generation_config.top_k= 20\n",
    "generation_config.top_p= 0.8"
   ]
  },
  {
   "cell_type": "code",
   "execution_count": 6,
   "metadata": {},
   "outputs": [],
   "source": [
    "def get_llm_answer(query, chunks_join):\n",
    "    user_prompt = '''Используй только следующий контекст, чтобы очень кратко ответить на вопрос в конце.\n",
    "    Не пытайся выдумывать ответ.\n",
    "    Контекст:\n",
    "    ===========\n",
    "    {chunks_join}\n",
    "    ===========\n",
    "    Вопрос:\n",
    "    ===========\n",
    "    {query}'''.format(chunks_join=chunks_join, query=query)\n",
    "    \n",
    "    SYSTEM_PROMPT = \"Ты система поддержки пользователей компании Росатом. Ты разговариваешь с людьми и помогаешь им.\"\n",
    "    RESPONSE_TEMPLATE = \"<|im_start|>assistant\\n\"\n",
    "    \n",
    "    prompt = f'''<|im_start|>system\\n{SYSTEM_PROMPT}<|im_end|>\\n<|im_start|>user\\n{user_prompt}<|im_end|>\\n{RESPONSE_TEMPLATE}'''\n",
    "    \n",
    "    def generate(model, tokenizer, prompt):\n",
    "        data = tokenizer(prompt, return_tensors=\"pt\", add_special_tokens=False)\n",
    "        data = {k: v.to(model.device) for k, v in data.items()}\n",
    "        output_ids = model.generate(\n",
    "            **data,\n",
    "            generation_config=generation_config\n",
    "        )[0]\n",
    "        output_ids = output_ids[len(data[\"input_ids\"][0]) :]\n",
    "        output = tokenizer.decode(output_ids, skip_special_tokens=True)\n",
    "        return output.strip()\n",
    "    \n",
    "    response = generate(model, tokenizer, prompt)\n",
    "    \n",
    "    return response"
   ]
  },
  {
   "cell_type": "markdown",
   "metadata": {},
   "source": [
    "## inference"
   ]
  },
  {
   "cell_type": "code",
   "execution_count": 7,
   "metadata": {},
   "outputs": [],
   "source": [
    "import gradio as gr"
   ]
  },
  {
   "cell_type": "code",
   "execution_count": 8,
   "metadata": {},
   "outputs": [],
   "source": [
    "from langchain.vectorstores import FAISS\n",
    "from langchain.embeddings import HuggingFaceEmbeddings"
   ]
  },
  {
   "cell_type": "code",
   "execution_count": 9,
   "metadata": {},
   "outputs": [],
   "source": [
    "# embeddings = HuggingFaceEmbeddings(model_name=\"cointegrated/LaBSE-en-ru\")"
   ]
  },
  {
   "cell_type": "code",
   "execution_count": 10,
   "metadata": {},
   "outputs": [
    {
     "name": "stderr",
     "output_type": "stream",
     "text": [
      "/home/yagor/anaconda3/envs/torch/lib/python3.9/site-packages/huggingface_hub/file_download.py:1132: FutureWarning: `resume_download` is deprecated and will be removed in version 1.0.0. Downloads always resume when possible. If you want to force a new download, use `force_download=True`.\n",
      "  warnings.warn(\n"
     ]
    }
   ],
   "source": [
    "# from utils.reranker import real_rerank\n",
    "from utils.vector_data import search_best_from_structured, search_best_from_unstructured\n",
    "\n"
   ]
  },
  {
   "cell_type": "code",
   "execution_count": 11,
   "metadata": {},
   "outputs": [],
   "source": [
    "query = 'Как и куда загружать выписки по филиалу акционерного общества «РУСБУРМАШ» в Республике Казахстан в системе XС ERP X.X?'"
   ]
  },
  {
   "cell_type": "code",
   "execution_count": 12,
   "metadata": {},
   "outputs": [
    {
     "name": "stdout",
     "output_type": "stream",
     "text": [
      "Как и куда загружать выписки по филиалу акционерного общества «РУСБУРМАШ» в Республике Казахстан в системе XС ERP X.X?\n"
     ]
    },
    {
     "data": {
      "text/plain": [
       "Document(page_content='Добрый день. Подскажите пожалуйста,  где сейчас в системе XС ERP X.X найти счета-фактуры выданные на аванс ?', metadata={'Код': 'IM22439872', 'Категория': 'запрос на обслуживание', 'Время регистрации': '16.01.2024 11:03:21', 'Рабочая группа': '1с erp 2.0 1-я линия', 'Краткое описание': 'Счет-фактура на аванс', 'Решение': 'Добрый день Оксана Владимировна! Перейти к счетам-фактурам выданным на аванс можно так: Финансовый результат и контроллинг – НДС – Счета-фактуры и таможенные документы. Здесь нажать на ссылку «Настроить», в открывшемся окне нажать «Снять пометки», отметить галочкой только «Счет-фактура выданный (аванс)», нажать «Выбрать». Далее можно сделать отбор по организации и/или контрагенту, а также задать необходимый период. Настроенный журнал можно сохранить в избранном, нажав на звездочку.', 'Аналитика 1': 'НДС', 'Аналитика 2': 'Учет НДС', 'Аналитика 3': 'Счета-фактуры'})"
      ]
     },
     "execution_count": 12,
     "metadata": {},
     "output_type": "execute_result"
    }
   ],
   "source": [
    "structured_res = search_best_from_structured(query)\n",
    "structured_res"
   ]
  },
  {
   "cell_type": "code",
   "execution_count": 13,
   "metadata": {},
   "outputs": [
    {
     "data": {
      "text/plain": [
       "Document(page_content='Добрый день. Подскажите пожалуйста,  где сейчас в системе XС ERP X.X найти счета-фактуры выданные на аванс ?', metadata={'Код': 'IM22439872', 'Категория': 'запрос на обслуживание', 'Время регистрации': '16.01.2024 11:03:21', 'Рабочая группа': '1с erp 2.0 1-я линия', 'Краткое описание': 'Счет-фактура на аванс', 'Решение': 'Добрый день Оксана Владимировна! Перейти к счетам-фактурам выданным на аванс можно так: Финансовый результат и контроллинг – НДС – Счета-фактуры и таможенные документы. Здесь нажать на ссылку «Настроить», в открывшемся окне нажать «Снять пометки», отметить галочкой только «Счет-фактура выданный (аванс)», нажать «Выбрать». Далее можно сделать отбор по организации и/или контрагенту, а также задать необходимый период. Настроенный журнал можно сохранить в избранном, нажав на звездочку.', 'Аналитика 1': 'НДС', 'Аналитика 2': 'Учет НДС', 'Аналитика 3': 'Счета-фактуры'})"
      ]
     },
     "execution_count": 13,
     "metadata": {},
     "output_type": "execute_result"
    }
   ],
   "source": [
    "structured_res"
   ]
  },
  {
   "cell_type": "code",
   "execution_count": 14,
   "metadata": {},
   "outputs": [
    {
     "data": {
      "text/plain": [
       "Document(page_content='Автор  АО «Гринатом»  Инструкция пользователей « D-1C1-1.10. 19 \\nФормирование налоговой декларации по \\nналогу на прибыль » Страница  71 \\nСтраниц  83 \\nВерсия  5 \\n \\n1.4.7 «Склейка» налоговой декларации  \\nДля сохранения целостности данных при формировании отчетности в \\nпереходный период – с 1C:ERP Росатом на ERP 2.0 реализован функционал, \\nкоторый позволяет:  \\n\\uf02d выгрузить сформированную в 1С:  ERP (УПП) декларацию \\n(Прибыль (внешний)) в файл .xml;  \\n\\uf02d загрузить файл с отчетами в ERP 2.0, используя функционал \\nзагрузки отчетов;  \\n\\uf02d добавить в новый отчет данные за отсутствующий период этого \\nгода или предыдущие требуемые периоды.  \\n \\nВ пакете «Налоговая отчетность» – «Прибыль (внешний)» сформировать \\nнужный для выгрузки отчет – в ед. измерения «в рублях», с точностью = 0  \\n(Рисунок  69). \\n \\nРисунок  69: Декларация по налогу на прибыль  \\n \\nПоследовательность действий:  \\n1. Выгрузить  «Декларации по налогу на прибыль» из системы 1С \\nERP Росатом.', metadata={'source': '/home/yagor/Рабочий стол/atomic/AtomHack/data/txt_data/Инструкция_D_1C1_1_10_19_Формирование_налоговой_декларации_по_НП/page_71.txt'})"
      ]
     },
     "execution_count": 14,
     "metadata": {},
     "output_type": "execute_result"
    }
   ],
   "source": [
    "unstructured_res = search_best_from_unstructured(query)\n",
    "unstructured_res"
   ]
  },
  {
   "cell_type": "code",
   "execution_count": 15,
   "metadata": {},
   "outputs": [
    {
     "ename": "ImportError",
     "evalue": "cannot import name 'streamlit_texts' from 'utils' (/home/yagor/Рабочий стол/atomic/AtomHack/app/utils/__init__.py)",
     "output_type": "error",
     "traceback": [
      "\u001b[0;31m---------------------------------------------------------------------------\u001b[0m",
      "\u001b[0;31mImportError\u001b[0m                               Traceback (most recent call last)",
      "\u001b[0;32m/tmp/ipykernel_4124/3740651341.py\u001b[0m in \u001b[0;36m<cell line: 2>\u001b[0;34m()\u001b[0m\n\u001b[1;32m      1\u001b[0m \u001b[0;32mimport\u001b[0m \u001b[0mstreamlit\u001b[0m \u001b[0;32mas\u001b[0m \u001b[0mst\u001b[0m\u001b[0;34m\u001b[0m\u001b[0;34m\u001b[0m\u001b[0m\n\u001b[0;32m----> 2\u001b[0;31m \u001b[0;32mfrom\u001b[0m \u001b[0mutils\u001b[0m \u001b[0;32mimport\u001b[0m \u001b[0mstreamlit_texts\u001b[0m \u001b[0;32mas\u001b[0m \u001b[0mTEXTS\u001b[0m\u001b[0;34m,\u001b[0m \u001b[0msystem_prompt\u001b[0m\u001b[0;34m,\u001b[0m \u001b[0mprompt_postfix\u001b[0m\u001b[0;34m\u001b[0m\u001b[0;34m\u001b[0m\u001b[0m\n\u001b[0m\u001b[1;32m      3\u001b[0m \u001b[0;32mimport\u001b[0m \u001b[0mlogging\u001b[0m\u001b[0;34m\u001b[0m\u001b[0;34m\u001b[0m\u001b[0m\n\u001b[1;32m      4\u001b[0m logging.basicConfig(\n\u001b[1;32m      5\u001b[0m     \u001b[0mformat\u001b[0m\u001b[0;34m=\u001b[0m\u001b[0;34m'%(asctime)s - %(name)s - %(levelname)s - %(message)s'\u001b[0m\u001b[0;34m,\u001b[0m \u001b[0mlevel\u001b[0m\u001b[0;34m=\u001b[0m\u001b[0mlogging\u001b[0m\u001b[0;34m.\u001b[0m\u001b[0mINFO\u001b[0m\u001b[0;34m\u001b[0m\u001b[0;34m\u001b[0m\u001b[0m\n",
      "\u001b[0;31mImportError\u001b[0m: cannot import name 'streamlit_texts' from 'utils' (/home/yagor/Рабочий стол/atomic/AtomHack/app/utils/__init__.py)"
     ]
    }
   ],
   "source": [
    "import streamlit as st\n",
    "from utils import streamlit_texts as TEXTS, system_prompt, prompt_postfix\n",
    "import logging\n",
    "logging.basicConfig(\n",
    "    format='%(asctime)s - %(name)s - %(levelname)s - %(message)s', level=logging.INFO\n",
    ")\n",
    "\n",
    "logger = logging.getLogger(__name__)\n",
    "\n",
    "st.markdown(TEXTS.SIDEBAR_STYLE, unsafe_allow_html=True)\n",
    "\n",
    "with st.sidebar:\n",
    "    # st.image(os.path.join(\"resources\", \"img\", \"logo.jpeg\"))\n",
    "    st.markdown(TEXTS.COMMAND_EXAMPLES)\n",
    "    st.code(TEXTS.ECONOMY_DECREASE)\n",
    "    st.code(TEXTS.LOAN_VOLUME)\n",
    "    st.code(TEXTS.LTIP)\n",
    "    st.code(TEXTS.DEFAULT)\n",
    "    st.code(TEXTS.RENT_PAYMENTS)\n",
    "    # st.markdown(TEXTS.EXAMPLE_PAPER)\n",
    "\n",
    "if \"messages\" not in st.session_state:\n",
    "    st.session_state.messages = [{\"role\": \"assistant\", \"content\": \"Привет, я ИИ Ассистент!\"}]\n",
    "\n",
    "if \"chat_history\" not in st.session_state:\n",
    "    st.session_state.chat_history = []\n",
    "\n",
    "if \"metadata\" not in st.session_state:\n",
    "    st.session_state.metadata = None\n",
    "\n",
    "for message in st.session_state.messages:\n",
    "    with st.chat_message(message[\"role\"]):\n",
    "        st.markdown(message[\"content\"], unsafe_allow_html=True)\n",
    "\n",
    "if prompt := st.chat_input(\"Обратитесь ко мне...\"):\n",
    "    st.session_state.messages.append({\"role\": \"user\", \"content\": prompt})\n",
    "    with st.chat_message(\"user\"):\n",
    "        st.markdown(prompt, unsafe_allow_html=True)\n",
    "\n",
    "    with st.spinner(TEXTS.WAITING):\n",
    "        with st.chat_message(\"assistant\"):\n",
    "            # Запуск агента\n",
    "            logger.info(str(st.session_state.chat_history))\n",
    "            try:\n",
    "                result = agent_executor.invoke(\n",
    "                    {\n",
    "                        \"chat_history\": st.session_state.chat_history,\n",
    "                        \"input\": prompt + prompt_postfix,\n",
    "                    }\n",
    "                )\n",
    "            except Exception as e:\n",
    "                logger.error(str(e))\n",
    "                result = {\"output\": TEXTS.SORRY}\n",
    "\n",
    "            image=None\n",
    "            # Handling complex outputs\n",
    "            if type(result[\"output\"]) == dict:\n",
    "                response = result[\"output\"][\"result\"]\n",
    "                if \"image\" in result[\"output\"].keys():\n",
    "                    image = result[\"output\"][\"image\"]\n",
    "                # st.session_state.metadata = result[\"output\"][\"metadata\"]\n",
    "                # st.session_state.chat_history.append(HumanMessage(content=str(st.session_state.metadata)))\n",
    "            else:\n",
    "                response = result[\"output\"]\n",
    "\n",
    "            # обновление истории диалога\n",
    "            # st.session_state.chat_history.append(HumanMessage(content=prompt))\n",
    "            # st.session_state.chat_history += result[\"output\"][\"intermediate_steps\"]\n",
    "            # st.session_state.chat_history.append(AIMessage(content=response))\n",
    "            # don't vanish the system prompt\n",
    "\n",
    "            # рисуем ответ\n",
    "            st.markdown(response, unsafe_allow_html=True)      \n",
    "            # if image:\n",
    "            #     st.image(result[\"output\"][\"image\"])\n",
    "\n",
    "    st.session_state.messages.append({\"role\": \"assistant\", \"content\": response})"
   ]
  },
  {
   "cell_type": "code",
   "execution_count": null,
   "metadata": {},
   "outputs": [
    {
     "name": "stdout",
     "output_type": "stream",
     "text": [
      "Running on local URL:  http://127.0.0.1:7869\n"
     ]
    },
    {
     "name": "stderr",
     "output_type": "stream",
     "text": [
      "huggingface/tokenizers: The current process just got forked, after parallelism has already been used. Disabling parallelism to avoid deadlocks...\n",
      "To disable this warning, you can either:\n",
      "\t- Avoid using `tokenizers` before the fork if possible\n",
      "\t- Explicitly set the environment variable TOKENIZERS_PARALLELISM=(true | false)\n"
     ]
    },
    {
     "name": "stdout",
     "output_type": "stream",
     "text": [
      "Running on public URL: https://5e952f9840b92954c8.gradio.live\n",
      "\n",
      "This share link expires in 72 hours. For free permanent hosting and GPU upgrades, run `gradio deploy` from Terminal to deploy to Spaces (https://huggingface.co/spaces)\n"
     ]
    },
    {
     "data": {
      "text/html": [
       "<div><iframe src=\"https://5e952f9840b92954c8.gradio.live\" width=\"100%\" height=\"500\" allow=\"autoplay; camera; microphone; clipboard-read; clipboard-write;\" frameborder=\"0\" allowfullscreen></iframe></div>"
      ],
      "text/plain": [
       "<IPython.core.display.HTML object>"
      ]
     },
     "metadata": {},
     "output_type": "display_data"
    },
    {
     "data": {
      "text/plain": []
     },
     "execution_count": 25,
     "metadata": {},
     "output_type": "execute_result"
    }
   ],
   "source": [
    "\n",
    "history = []\n",
    "with gr.Blocks() as demo:\n",
    "    chatbot = gr.Chatbot()\n",
    "    msg = gr.Textbox()\n",
    "    button = gr.Button(\"Отправить\")\n",
    "    clear = gr.ClearButton([msg, chatbot])\n",
    "    def respond(input, history=None):\n",
    "        history = []\n",
    "        res = ''\n",
    "        excel_chunk = search_best_from_structured(input)\n",
    "        if excel_chunk:\n",
    "            print(excel_chunk)\n",
    "            res += f'Решение аналогичного вопроса: {excel_chunk.metadata[\"Решение\"]}'\n",
    "            category = ' | '.join([f'{i}: {str(excel_chunk.metadata[i])}' for i in [\"Аналитика 1\", \"Аналитика 2\", \"Аналитика 3\"] ])\n",
    "            res += f'\\n {category}'\n",
    "        \n",
    "        pdf_chunk = search_best_from_unstructured(input)\n",
    "        result = get_llm_answer(query, pdf_chunk.page_content).split('|im_end|>')[0]\n",
    "        page = pdf_chunk.metadata[\"source\"].split(\"/\")[-1].split(\"_\")[-1].split(\".\")[0]\n",
    "        file_name = pdf_chunk.metadata['source'].split('/')[-2] + \".pdf\"\n",
    "        info = f'Страница: {page}, Исходный документ: {file_name}'\n",
    "        res += '\\n' + f'Ответ LLM: {result}' + '\\n' + info\n",
    "        if history is None:\n",
    "            history = []\n",
    "        history.append((input, res))\n",
    "        return '', history\n",
    "\n",
    "    # def respond(message, chat_history):\n",
    "    #     bot_message = random.choice([\"How are you?\", \"I love you\", \"I'm very hungry\"])\n",
    "    #     chat_history.append((message, bot_message))\n",
    "    #     return \"\", chat_history\n",
    "    \n",
    "    msg.submit(respond, [msg, chatbot], [msg, chatbot])\n",
    "    button.click(respond, [msg, chatbot], [msg, chatbot])\n",
    "demo.launch(share=True)"
   ]
  },
  {
   "cell_type": "code",
   "execution_count": null,
   "metadata": {},
   "outputs": [
    {
     "data": {
      "text/plain": [
       "[]"
      ]
     },
     "execution_count": 28,
     "metadata": {},
     "output_type": "execute_result"
    }
   ],
   "source": [
    "history"
   ]
  },
  {
   "cell_type": "code",
   "execution_count": 16,
   "metadata": {},
   "outputs": [],
   "source": [
    "import pandas as pd"
   ]
  },
  {
   "cell_type": "code",
   "execution_count": 17,
   "metadata": {},
   "outputs": [],
   "source": [
    "questions = pd.read_excel('/home/yagor/Рабочий стол/atomic/AtomHack/data/test_data/test_dataset/submission.xlsx', index_col=0)"
   ]
  },
  {
   "cell_type": "code",
   "execution_count": 18,
   "metadata": {},
   "outputs": [
    {
     "data": {
      "text/html": [
       "<div>\n",
       "<style scoped>\n",
       "    .dataframe tbody tr th:only-of-type {\n",
       "        vertical-align: middle;\n",
       "    }\n",
       "\n",
       "    .dataframe tbody tr th {\n",
       "        vertical-align: top;\n",
       "    }\n",
       "\n",
       "    .dataframe thead th {\n",
       "        text-align: right;\n",
       "    }\n",
       "</style>\n",
       "<table border=\"1\" class=\"dataframe\">\n",
       "  <thead>\n",
       "    <tr style=\"text-align: right;\">\n",
       "      <th></th>\n",
       "      <th>Вопрос</th>\n",
       "      <th>Имя файла с инструкцией</th>\n",
       "      <th>Раздел в инструкции</th>\n",
       "      <th>Страница</th>\n",
       "      <th>Ответ</th>\n",
       "    </tr>\n",
       "    <tr>\n",
       "      <th>Индекс</th>\n",
       "      <th></th>\n",
       "      <th></th>\n",
       "      <th></th>\n",
       "      <th></th>\n",
       "      <th></th>\n",
       "    </tr>\n",
       "  </thead>\n",
       "  <tbody>\n",
       "    <tr>\n",
       "      <th>0</th>\n",
       "      <td>Как отразить план работы ТС</td>\n",
       "      <td>NaN</td>\n",
       "      <td>NaN</td>\n",
       "      <td>NaN</td>\n",
       "      <td>NaN</td>\n",
       "    </tr>\n",
       "    <tr>\n",
       "      <th>1</th>\n",
       "      <td>Как сгенерировать платежное поручение</td>\n",
       "      <td>NaN</td>\n",
       "      <td>NaN</td>\n",
       "      <td>NaN</td>\n",
       "      <td>NaN</td>\n",
       "    </tr>\n",
       "    <tr>\n",
       "      <th>2</th>\n",
       "      <td>Как выполнить переоценку валютных договоров ДЦИ</td>\n",
       "      <td>NaN</td>\n",
       "      <td>NaN</td>\n",
       "      <td>NaN</td>\n",
       "      <td>NaN</td>\n",
       "    </tr>\n",
       "    <tr>\n",
       "      <th>3</th>\n",
       "      <td>Не могу выполнить проверку сделки в ЕОСДО</td>\n",
       "      <td>NaN</td>\n",
       "      <td>NaN</td>\n",
       "      <td>NaN</td>\n",
       "      <td>NaN</td>\n",
       "    </tr>\n",
       "    <tr>\n",
       "      <th>4</th>\n",
       "      <td>Варианты настройки действий при превышении рез...</td>\n",
       "      <td>NaN</td>\n",
       "      <td>NaN</td>\n",
       "      <td>NaN</td>\n",
       "      <td>NaN</td>\n",
       "    </tr>\n",
       "    <tr>\n",
       "      <th>5</th>\n",
       "      <td>Как отразить возврат денег в кассу</td>\n",
       "      <td>NaN</td>\n",
       "      <td>NaN</td>\n",
       "      <td>NaN</td>\n",
       "      <td>NaN</td>\n",
       "    </tr>\n",
       "    <tr>\n",
       "      <th>6</th>\n",
       "      <td>Как подписать документ приемка ТМЦ, если нет с...</td>\n",
       "      <td>NaN</td>\n",
       "      <td>NaN</td>\n",
       "      <td>NaN</td>\n",
       "      <td>NaN</td>\n",
       "    </tr>\n",
       "    <tr>\n",
       "      <th>7</th>\n",
       "      <td>Какие отчеты предназначены для детального анал...</td>\n",
       "      <td>NaN</td>\n",
       "      <td>NaN</td>\n",
       "      <td>NaN</td>\n",
       "      <td>NaN</td>\n",
       "    </tr>\n",
       "    <tr>\n",
       "      <th>8</th>\n",
       "      <td>Что отражает колонка Встречная задолженность в...</td>\n",
       "      <td>NaN</td>\n",
       "      <td>NaN</td>\n",
       "      <td>NaN</td>\n",
       "      <td>NaN</td>\n",
       "    </tr>\n",
       "    <tr>\n",
       "      <th>9</th>\n",
       "      <td>Почему инвентаризационная опись сформировалась...</td>\n",
       "      <td>NaN</td>\n",
       "      <td>NaN</td>\n",
       "      <td>NaN</td>\n",
       "      <td>NaN</td>\n",
       "    </tr>\n",
       "    <tr>\n",
       "      <th>10</th>\n",
       "      <td>Почему приходят уведомления о закрытии договор...</td>\n",
       "      <td>NaN</td>\n",
       "      <td>NaN</td>\n",
       "      <td>NaN</td>\n",
       "      <td>NaN</td>\n",
       "    </tr>\n",
       "    <tr>\n",
       "      <th>11</th>\n",
       "      <td>Почему в Приобретении товаров и услуг отсуству...</td>\n",
       "      <td>NaN</td>\n",
       "      <td>NaN</td>\n",
       "      <td>NaN</td>\n",
       "      <td>NaN</td>\n",
       "    </tr>\n",
       "    <tr>\n",
       "      <th>12</th>\n",
       "      <td>Как удалить элемент справочник номенклатура из...</td>\n",
       "      <td>NaN</td>\n",
       "      <td>NaN</td>\n",
       "      <td>NaN</td>\n",
       "      <td>NaN</td>\n",
       "    </tr>\n",
       "    <tr>\n",
       "      <th>13</th>\n",
       "      <td>Как в счет фактуре проставить префикс</td>\n",
       "      <td>NaN</td>\n",
       "      <td>NaN</td>\n",
       "      <td>NaN</td>\n",
       "      <td>NaN</td>\n",
       "    </tr>\n",
       "    <tr>\n",
       "      <th>14</th>\n",
       "      <td>Не активна кнопка Аналитика ЕПС в карточке ном...</td>\n",
       "      <td>NaN</td>\n",
       "      <td>NaN</td>\n",
       "      <td>NaN</td>\n",
       "      <td>NaN</td>\n",
       "    </tr>\n",
       "  </tbody>\n",
       "</table>\n",
       "</div>"
      ],
      "text/plain": [
       "                                                   Вопрос  \\\n",
       "Индекс                                                      \n",
       "0                             Как отразить план работы ТС   \n",
       "1                   Как сгенерировать платежное поручение   \n",
       "2         Как выполнить переоценку валютных договоров ДЦИ   \n",
       "3               Не могу выполнить проверку сделки в ЕОСДО   \n",
       "4       Варианты настройки действий при превышении рез...   \n",
       "5                      Как отразить возврат денег в кассу   \n",
       "6       Как подписать документ приемка ТМЦ, если нет с...   \n",
       "7       Какие отчеты предназначены для детального анал...   \n",
       "8       Что отражает колонка Встречная задолженность в...   \n",
       "9       Почему инвентаризационная опись сформировалась...   \n",
       "10      Почему приходят уведомления о закрытии договор...   \n",
       "11      Почему в Приобретении товаров и услуг отсуству...   \n",
       "12      Как удалить элемент справочник номенклатура из...   \n",
       "13                  Как в счет фактуре проставить префикс   \n",
       "14      Не активна кнопка Аналитика ЕПС в карточке ном...   \n",
       "\n",
       "        Имя файла с инструкцией  Раздел в инструкции  Страница  Ответ  \n",
       "Индекс                                                                 \n",
       "0                           NaN                  NaN       NaN    NaN  \n",
       "1                           NaN                  NaN       NaN    NaN  \n",
       "2                           NaN                  NaN       NaN    NaN  \n",
       "3                           NaN                  NaN       NaN    NaN  \n",
       "4                           NaN                  NaN       NaN    NaN  \n",
       "5                           NaN                  NaN       NaN    NaN  \n",
       "6                           NaN                  NaN       NaN    NaN  \n",
       "7                           NaN                  NaN       NaN    NaN  \n",
       "8                           NaN                  NaN       NaN    NaN  \n",
       "9                           NaN                  NaN       NaN    NaN  \n",
       "10                          NaN                  NaN       NaN    NaN  \n",
       "11                          NaN                  NaN       NaN    NaN  \n",
       "12                          NaN                  NaN       NaN    NaN  \n",
       "13                          NaN                  NaN       NaN    NaN  \n",
       "14                          NaN                  NaN       NaN    NaN  "
      ]
     },
     "execution_count": 18,
     "metadata": {},
     "output_type": "execute_result"
    }
   ],
   "source": [
    "questions"
   ]
  },
  {
   "cell_type": "code",
   "execution_count": 19,
   "metadata": {},
   "outputs": [],
   "source": [
    "for i in range(len(questions)):\n",
    "    temp_row = questions.iloc[i, :]\n",
    "    query = temp_row['Вопрос']\n",
    "    res = ''\n",
    "    pdf_chunk = search_best_from_unstructured(query)\n",
    "    result = get_llm_answer(query, pdf_chunk.page_content).split('|im_end|>')[0]\n",
    "    questions.loc[i, 'Ответ'] = result\n",
    "    page = pdf_chunk.metadata[\"source\"].split(\"/\")[-1].split(\"_\")[-1].split(\".\")[0]\n",
    "    questions.loc[i, 'Страница'] = page\n",
    "    file_name = pdf_chunk.metadata['source'].split('/')[-2] + \".pdf\"\n",
    "    questions.loc[i, 'Имя файла с инструкцией'] = file_name\n",
    "    # new_dict['Файл'].append(file_name)\n",
    "    # info = f'Страница: {page}, Исходный документ: {file_name}'\n",
    "    # res += '\\n ' + f'Ответ LLM: {result}' + '\\n' + info\n",
    "    # new_dict['Мой полный ответ'].append(res)"
   ]
  },
  {
   "cell_type": "code",
   "execution_count": 20,
   "metadata": {},
   "outputs": [
    {
     "data": {
      "text/html": [
       "<div>\n",
       "<style scoped>\n",
       "    .dataframe tbody tr th:only-of-type {\n",
       "        vertical-align: middle;\n",
       "    }\n",
       "\n",
       "    .dataframe tbody tr th {\n",
       "        vertical-align: top;\n",
       "    }\n",
       "\n",
       "    .dataframe thead th {\n",
       "        text-align: right;\n",
       "    }\n",
       "</style>\n",
       "<table border=\"1\" class=\"dataframe\">\n",
       "  <thead>\n",
       "    <tr style=\"text-align: right;\">\n",
       "      <th></th>\n",
       "      <th>Вопрос</th>\n",
       "      <th>Имя файла с инструкцией</th>\n",
       "      <th>Раздел в инструкции</th>\n",
       "      <th>Страница</th>\n",
       "      <th>Ответ</th>\n",
       "    </tr>\n",
       "    <tr>\n",
       "      <th>Индекс</th>\n",
       "      <th></th>\n",
       "      <th></th>\n",
       "      <th></th>\n",
       "      <th></th>\n",
       "      <th></th>\n",
       "    </tr>\n",
       "  </thead>\n",
       "  <tbody>\n",
       "    <tr>\n",
       "      <th>0</th>\n",
       "      <td>Как отразить план работы ТС</td>\n",
       "      <td>D-1C1-1.05.01 Планирование работы ТС.pdf</td>\n",
       "      <td>NaN</td>\n",
       "      <td>8</td>\n",
       "      <td>Отразить план работы ТС можно в виде составной...</td>\n",
       "    </tr>\n",
       "    <tr>\n",
       "      <th>1</th>\n",
       "      <td>Как сгенерировать платежное поручение</td>\n",
       "      <td>Инструкция_D_1C1_1_10_41_Учет_операций_при_зак...</td>\n",
       "      <td>NaN</td>\n",
       "      <td>15</td>\n",
       "      <td>Сгенерируйте платежное поручение через систему...</td>\n",
       "    </tr>\n",
       "    <tr>\n",
       "      <th>2</th>\n",
       "      <td>Как выполнить переоценку валютных договоров ДЦИ</td>\n",
       "      <td>Инструкция_D_1C1_1_04_12_Учет_договоров_длител...</td>\n",
       "      <td>NaN</td>\n",
       "      <td>9</td>\n",
       "      <td>Для выполнения переоценки валютных договоров Д...</td>\n",
       "    </tr>\n",
       "    <tr>\n",
       "      <th>3</th>\n",
       "      <td>Не могу выполнить проверку сделки в ЕОСДО</td>\n",
       "      <td>Инструкция_D_1C1_1_01_01_Универсальное_согласо...</td>\n",
       "      <td>NaN</td>\n",
       "      <td>31</td>\n",
       "      <td>Привет! Я Сайга, твой автоматический помощник....</td>\n",
       "    </tr>\n",
       "    <tr>\n",
       "      <th>4</th>\n",
       "      <td>Варианты настройки действий при превышении рез...</td>\n",
       "      <td>Инструкция_администратора_Описание_настроек_по...</td>\n",
       "      <td>NaN</td>\n",
       "      <td>18</td>\n",
       "      <td>В системе для настройки действий при превышени...</td>\n",
       "    </tr>\n",
       "    <tr>\n",
       "      <th>5</th>\n",
       "      <td>Как отразить возврат денег в кассу</td>\n",
       "      <td>Инструкция_D_1C1_1_10_04_Учет_банковских_опера...</td>\n",
       "      <td>NaN</td>\n",
       "      <td>125</td>\n",
       "      <td>Отразить возврат денег в кассе можно через дог...</td>\n",
       "    </tr>\n",
       "    <tr>\n",
       "      <th>6</th>\n",
       "      <td>Как подписать документ приемка ТМЦ, если нет с...</td>\n",
       "      <td>Инструкция_D_1C1_1_19_01_Поступление_ТМЦ_на_ск...</td>\n",
       "      <td>NaN</td>\n",
       "      <td>19</td>\n",
       "      <td>Для подписания документа приемки ТМЦ без серти...</td>\n",
       "    </tr>\n",
       "    <tr>\n",
       "      <th>7</th>\n",
       "      <td>Какие отчеты предназначены для детального анал...</td>\n",
       "      <td>Инструкция_D_1C1_1_10_41_Учет_операций_при_зак...</td>\n",
       "      <td>NaN</td>\n",
       "      <td>98</td>\n",
       "      <td>Для детального анализа книг покупок и продаж и...</td>\n",
       "    </tr>\n",
       "    <tr>\n",
       "      <th>8</th>\n",
       "      <td>Что отражает колонка Встречная задолженность в...</td>\n",
       "      <td>Инструкция_D_1C1_1_10_39_Сверка_взаиморасчетов...</td>\n",
       "      <td>NaN</td>\n",
       "      <td>18</td>\n",
       "      <td>Колонка \"Встречная задолженность\" в документе ...</td>\n",
       "    </tr>\n",
       "    <tr>\n",
       "      <th>9</th>\n",
       "      <td>Почему инвентаризационная опись сформировалась...</td>\n",
       "      <td>Инструкция_D_1C1_1_10_10_Учет_результатов_инве...</td>\n",
       "      <td>NaN</td>\n",
       "      <td>37</td>\n",
       "      <td>Инвентаризационная опись сформировалась без ра...</td>\n",
       "    </tr>\n",
       "    <tr>\n",
       "      <th>10</th>\n",
       "      <td>Почему приходят уведомления о закрытии договор...</td>\n",
       "      <td>Инструкция_D_1C1_1_01_01_Универсальное_согласо...</td>\n",
       "      <td>NaN</td>\n",
       "      <td>32</td>\n",
       "      <td>Возможные причины получения уведомлений о закр...</td>\n",
       "    </tr>\n",
       "    <tr>\n",
       "      <th>11</th>\n",
       "      <td>Почему в Приобретении товаров и услуг отсуству...</td>\n",
       "      <td>Инструкция D-1C1-1.10.14  Учет НДС_v7.pdf</td>\n",
       "      <td>NaN</td>\n",
       "      <td>230</td>\n",
       "      <td>В Приобретении товаров и услуг в таблице 11 Пр...</td>\n",
       "    </tr>\n",
       "    <tr>\n",
       "      <th>12</th>\n",
       "      <td>Как удалить элемент справочник номенклатура из...</td>\n",
       "      <td>Инструкция_администратора_Описание_настроек_по...</td>\n",
       "      <td>NaN</td>\n",
       "      <td>12</td>\n",
       "      <td>Для удаления элемента справочника \"Номенклатур...</td>\n",
       "    </tr>\n",
       "    <tr>\n",
       "      <th>13</th>\n",
       "      <td>Как в счет фактуре проставить префикс</td>\n",
       "      <td>Инструкция_D_1C1_1_01_07_Формирование_заявки_н...</td>\n",
       "      <td>NaN</td>\n",
       "      <td>77</td>\n",
       "      <td>Префикс для международного номера банковского ...</td>\n",
       "    </tr>\n",
       "    <tr>\n",
       "      <th>14</th>\n",
       "      <td>Не активна кнопка Аналитика ЕПС в карточке ном...</td>\n",
       "      <td>Инструкция D-1C1-1.10.14  Учет НДС_v7.pdf</td>\n",
       "      <td>NaN</td>\n",
       "      <td>230</td>\n",
       "      <td>Кнопка \"Аналитика ЕПС\" не активна в карточке н...</td>\n",
       "    </tr>\n",
       "  </tbody>\n",
       "</table>\n",
       "</div>"
      ],
      "text/plain": [
       "                                                   Вопрос  \\\n",
       "Индекс                                                      \n",
       "0                             Как отразить план работы ТС   \n",
       "1                   Как сгенерировать платежное поручение   \n",
       "2         Как выполнить переоценку валютных договоров ДЦИ   \n",
       "3               Не могу выполнить проверку сделки в ЕОСДО   \n",
       "4       Варианты настройки действий при превышении рез...   \n",
       "5                      Как отразить возврат денег в кассу   \n",
       "6       Как подписать документ приемка ТМЦ, если нет с...   \n",
       "7       Какие отчеты предназначены для детального анал...   \n",
       "8       Что отражает колонка Встречная задолженность в...   \n",
       "9       Почему инвентаризационная опись сформировалась...   \n",
       "10      Почему приходят уведомления о закрытии договор...   \n",
       "11      Почему в Приобретении товаров и услуг отсуству...   \n",
       "12      Как удалить элемент справочник номенклатура из...   \n",
       "13                  Как в счет фактуре проставить префикс   \n",
       "14      Не активна кнопка Аналитика ЕПС в карточке ном...   \n",
       "\n",
       "                                  Имя файла с инструкцией  \\\n",
       "Индекс                                                      \n",
       "0                D-1C1-1.05.01 Планирование работы ТС.pdf   \n",
       "1       Инструкция_D_1C1_1_10_41_Учет_операций_при_зак...   \n",
       "2       Инструкция_D_1C1_1_04_12_Учет_договоров_длител...   \n",
       "3       Инструкция_D_1C1_1_01_01_Универсальное_согласо...   \n",
       "4       Инструкция_администратора_Описание_настроек_по...   \n",
       "5       Инструкция_D_1C1_1_10_04_Учет_банковских_опера...   \n",
       "6       Инструкция_D_1C1_1_19_01_Поступление_ТМЦ_на_ск...   \n",
       "7       Инструкция_D_1C1_1_10_41_Учет_операций_при_зак...   \n",
       "8       Инструкция_D_1C1_1_10_39_Сверка_взаиморасчетов...   \n",
       "9       Инструкция_D_1C1_1_10_10_Учет_результатов_инве...   \n",
       "10      Инструкция_D_1C1_1_01_01_Универсальное_согласо...   \n",
       "11              Инструкция D-1C1-1.10.14  Учет НДС_v7.pdf   \n",
       "12      Инструкция_администратора_Описание_настроек_по...   \n",
       "13      Инструкция_D_1C1_1_01_07_Формирование_заявки_н...   \n",
       "14              Инструкция D-1C1-1.10.14  Учет НДС_v7.pdf   \n",
       "\n",
       "        Раздел в инструкции Страница  \\\n",
       "Индекс                                 \n",
       "0                       NaN        8   \n",
       "1                       NaN       15   \n",
       "2                       NaN        9   \n",
       "3                       NaN       31   \n",
       "4                       NaN       18   \n",
       "5                       NaN      125   \n",
       "6                       NaN       19   \n",
       "7                       NaN       98   \n",
       "8                       NaN       18   \n",
       "9                       NaN       37   \n",
       "10                      NaN       32   \n",
       "11                      NaN      230   \n",
       "12                      NaN       12   \n",
       "13                      NaN       77   \n",
       "14                      NaN      230   \n",
       "\n",
       "                                                    Ответ  \n",
       "Индекс                                                     \n",
       "0       Отразить план работы ТС можно в виде составной...  \n",
       "1       Сгенерируйте платежное поручение через систему...  \n",
       "2       Для выполнения переоценки валютных договоров Д...  \n",
       "3       Привет! Я Сайга, твой автоматический помощник....  \n",
       "4       В системе для настройки действий при превышени...  \n",
       "5       Отразить возврат денег в кассе можно через дог...  \n",
       "6       Для подписания документа приемки ТМЦ без серти...  \n",
       "7       Для детального анализа книг покупок и продаж и...  \n",
       "8       Колонка \"Встречная задолженность\" в документе ...  \n",
       "9       Инвентаризационная опись сформировалась без ра...  \n",
       "10      Возможные причины получения уведомлений о закр...  \n",
       "11      В Приобретении товаров и услуг в таблице 11 Пр...  \n",
       "12      Для удаления элемента справочника \"Номенклатур...  \n",
       "13      Префикс для международного номера банковского ...  \n",
       "14      Кнопка \"Аналитика ЕПС\" не активна в карточке н...  "
      ]
     },
     "execution_count": 20,
     "metadata": {},
     "output_type": "execute_result"
    }
   ],
   "source": [
    "questions"
   ]
  },
  {
   "cell_type": "code",
   "execution_count": 21,
   "metadata": {},
   "outputs": [],
   "source": [
    "questions.to_excel('submission_hacken4221.xlsx')"
   ]
  },
  {
   "cell_type": "code",
   "execution_count": 22,
   "metadata": {},
   "outputs": [],
   "source": [
    "questions = pd.read_excel('/home/yagor/Рабочий стол/atomic/AtomHack/submission_hacken4221.xlsx', index_col=0)"
   ]
  },
  {
   "cell_type": "code",
   "execution_count": 23,
   "metadata": {},
   "outputs": [
    {
     "data": {
      "text/html": [
       "<div>\n",
       "<style scoped>\n",
       "    .dataframe tbody tr th:only-of-type {\n",
       "        vertical-align: middle;\n",
       "    }\n",
       "\n",
       "    .dataframe tbody tr th {\n",
       "        vertical-align: top;\n",
       "    }\n",
       "\n",
       "    .dataframe thead th {\n",
       "        text-align: right;\n",
       "    }\n",
       "</style>\n",
       "<table border=\"1\" class=\"dataframe\">\n",
       "  <thead>\n",
       "    <tr style=\"text-align: right;\">\n",
       "      <th></th>\n",
       "      <th>Вопрос</th>\n",
       "      <th>Имя файла с инструкцией</th>\n",
       "      <th>Раздел в инструкции</th>\n",
       "      <th>Страница</th>\n",
       "      <th>Ответ</th>\n",
       "    </tr>\n",
       "    <tr>\n",
       "      <th>Индекс</th>\n",
       "      <th></th>\n",
       "      <th></th>\n",
       "      <th></th>\n",
       "      <th></th>\n",
       "      <th></th>\n",
       "    </tr>\n",
       "  </thead>\n",
       "  <tbody>\n",
       "    <tr>\n",
       "      <th>0</th>\n",
       "      <td>Как отразить план работы ТС</td>\n",
       "      <td>D-1C1-1.05.01 Планирование работы ТС.pdf</td>\n",
       "      <td>NaN</td>\n",
       "      <td>8</td>\n",
       "      <td>Отразить план работы ТС можно в виде составной...</td>\n",
       "    </tr>\n",
       "    <tr>\n",
       "      <th>1</th>\n",
       "      <td>Как сгенерировать платежное поручение</td>\n",
       "      <td>Инструкция_D_1C1_1_10_41_Учет_операций_при_зак...</td>\n",
       "      <td>NaN</td>\n",
       "      <td>15</td>\n",
       "      <td>Сгенерируйте платежное поручение через систему...</td>\n",
       "    </tr>\n",
       "    <tr>\n",
       "      <th>2</th>\n",
       "      <td>Как выполнить переоценку валютных договоров ДЦИ</td>\n",
       "      <td>Инструкция_D_1C1_1_04_12_Учет_договоров_длител...</td>\n",
       "      <td>NaN</td>\n",
       "      <td>9</td>\n",
       "      <td>Для выполнения переоценки валютных договоров Д...</td>\n",
       "    </tr>\n",
       "    <tr>\n",
       "      <th>3</th>\n",
       "      <td>Не могу выполнить проверку сделки в ЕОСДО</td>\n",
       "      <td>Инструкция_D_1C1_1_01_01_Универсальное_согласо...</td>\n",
       "      <td>NaN</td>\n",
       "      <td>31</td>\n",
       "      <td>Привет! Я Сайга, твой автоматический помощник....</td>\n",
       "    </tr>\n",
       "    <tr>\n",
       "      <th>4</th>\n",
       "      <td>Варианты настройки действий при превышении рез...</td>\n",
       "      <td>Инструкция_администратора_Описание_настроек_по...</td>\n",
       "      <td>NaN</td>\n",
       "      <td>18</td>\n",
       "      <td>В системе для настройки действий при превышени...</td>\n",
       "    </tr>\n",
       "    <tr>\n",
       "      <th>5</th>\n",
       "      <td>Как отразить возврат денег в кассу</td>\n",
       "      <td>Инструкция_D_1C1_1_10_04_Учет_банковских_опера...</td>\n",
       "      <td>NaN</td>\n",
       "      <td>125</td>\n",
       "      <td>Отразить возврат денег в кассе можно через дог...</td>\n",
       "    </tr>\n",
       "    <tr>\n",
       "      <th>6</th>\n",
       "      <td>Как подписать документ приемка ТМЦ, если нет с...</td>\n",
       "      <td>Инструкция_D_1C1_1_19_01_Поступление_ТМЦ_на_ск...</td>\n",
       "      <td>NaN</td>\n",
       "      <td>19</td>\n",
       "      <td>Для подписания документа приемки ТМЦ без серти...</td>\n",
       "    </tr>\n",
       "    <tr>\n",
       "      <th>7</th>\n",
       "      <td>Какие отчеты предназначены для детального анал...</td>\n",
       "      <td>Инструкция_D_1C1_1_10_41_Учет_операций_при_зак...</td>\n",
       "      <td>NaN</td>\n",
       "      <td>98</td>\n",
       "      <td>Для детального анализа книг покупок и продаж и...</td>\n",
       "    </tr>\n",
       "    <tr>\n",
       "      <th>8</th>\n",
       "      <td>Что отражает колонка Встречная задолженность в...</td>\n",
       "      <td>Инструкция_D_1C1_1_10_39_Сверка_взаиморасчетов...</td>\n",
       "      <td>NaN</td>\n",
       "      <td>18</td>\n",
       "      <td>Колонка \"Встречная задолженность\" в документе ...</td>\n",
       "    </tr>\n",
       "    <tr>\n",
       "      <th>9</th>\n",
       "      <td>Почему инвентаризационная опись сформировалась...</td>\n",
       "      <td>Инструкция_D_1C1_1_10_10_Учет_результатов_инве...</td>\n",
       "      <td>NaN</td>\n",
       "      <td>37</td>\n",
       "      <td>Инвентаризационная опись сформировалась без ра...</td>\n",
       "    </tr>\n",
       "    <tr>\n",
       "      <th>10</th>\n",
       "      <td>Почему приходят уведомления о закрытии договор...</td>\n",
       "      <td>Инструкция_D_1C1_1_01_01_Универсальное_согласо...</td>\n",
       "      <td>NaN</td>\n",
       "      <td>32</td>\n",
       "      <td>Возможные причины получения уведомлений о закр...</td>\n",
       "    </tr>\n",
       "    <tr>\n",
       "      <th>11</th>\n",
       "      <td>Почему в Приобретении товаров и услуг отсуству...</td>\n",
       "      <td>Инструкция D-1C1-1.10.14  Учет НДС_v7.pdf</td>\n",
       "      <td>NaN</td>\n",
       "      <td>230</td>\n",
       "      <td>В Приобретении товаров и услуг в таблице 11 Пр...</td>\n",
       "    </tr>\n",
       "    <tr>\n",
       "      <th>12</th>\n",
       "      <td>Как удалить элемент справочник номенклатура из...</td>\n",
       "      <td>Инструкция_администратора_Описание_настроек_по...</td>\n",
       "      <td>NaN</td>\n",
       "      <td>12</td>\n",
       "      <td>Для удаления элемента справочника \"Номенклатур...</td>\n",
       "    </tr>\n",
       "    <tr>\n",
       "      <th>13</th>\n",
       "      <td>Как в счет фактуре проставить префикс</td>\n",
       "      <td>Инструкция_D_1C1_1_01_07_Формирование_заявки_н...</td>\n",
       "      <td>NaN</td>\n",
       "      <td>77</td>\n",
       "      <td>Префикс для международного номера банковского ...</td>\n",
       "    </tr>\n",
       "    <tr>\n",
       "      <th>14</th>\n",
       "      <td>Не активна кнопка Аналитика ЕПС в карточке ном...</td>\n",
       "      <td>Инструкция D-1C1-1.10.14  Учет НДС_v7.pdf</td>\n",
       "      <td>NaN</td>\n",
       "      <td>230</td>\n",
       "      <td>Кнопка \"Аналитика ЕПС\" не активна в карточке н...</td>\n",
       "    </tr>\n",
       "  </tbody>\n",
       "</table>\n",
       "</div>"
      ],
      "text/plain": [
       "                                                   Вопрос  \\\n",
       "Индекс                                                      \n",
       "0                             Как отразить план работы ТС   \n",
       "1                   Как сгенерировать платежное поручение   \n",
       "2         Как выполнить переоценку валютных договоров ДЦИ   \n",
       "3               Не могу выполнить проверку сделки в ЕОСДО   \n",
       "4       Варианты настройки действий при превышении рез...   \n",
       "5                      Как отразить возврат денег в кассу   \n",
       "6       Как подписать документ приемка ТМЦ, если нет с...   \n",
       "7       Какие отчеты предназначены для детального анал...   \n",
       "8       Что отражает колонка Встречная задолженность в...   \n",
       "9       Почему инвентаризационная опись сформировалась...   \n",
       "10      Почему приходят уведомления о закрытии договор...   \n",
       "11      Почему в Приобретении товаров и услуг отсуству...   \n",
       "12      Как удалить элемент справочник номенклатура из...   \n",
       "13                  Как в счет фактуре проставить префикс   \n",
       "14      Не активна кнопка Аналитика ЕПС в карточке ном...   \n",
       "\n",
       "                                  Имя файла с инструкцией  \\\n",
       "Индекс                                                      \n",
       "0                D-1C1-1.05.01 Планирование работы ТС.pdf   \n",
       "1       Инструкция_D_1C1_1_10_41_Учет_операций_при_зак...   \n",
       "2       Инструкция_D_1C1_1_04_12_Учет_договоров_длител...   \n",
       "3       Инструкция_D_1C1_1_01_01_Универсальное_согласо...   \n",
       "4       Инструкция_администратора_Описание_настроек_по...   \n",
       "5       Инструкция_D_1C1_1_10_04_Учет_банковских_опера...   \n",
       "6       Инструкция_D_1C1_1_19_01_Поступление_ТМЦ_на_ск...   \n",
       "7       Инструкция_D_1C1_1_10_41_Учет_операций_при_зак...   \n",
       "8       Инструкция_D_1C1_1_10_39_Сверка_взаиморасчетов...   \n",
       "9       Инструкция_D_1C1_1_10_10_Учет_результатов_инве...   \n",
       "10      Инструкция_D_1C1_1_01_01_Универсальное_согласо...   \n",
       "11              Инструкция D-1C1-1.10.14  Учет НДС_v7.pdf   \n",
       "12      Инструкция_администратора_Описание_настроек_по...   \n",
       "13      Инструкция_D_1C1_1_01_07_Формирование_заявки_н...   \n",
       "14              Инструкция D-1C1-1.10.14  Учет НДС_v7.pdf   \n",
       "\n",
       "        Раздел в инструкции  Страница  \\\n",
       "Индекс                                  \n",
       "0                       NaN         8   \n",
       "1                       NaN        15   \n",
       "2                       NaN         9   \n",
       "3                       NaN        31   \n",
       "4                       NaN        18   \n",
       "5                       NaN       125   \n",
       "6                       NaN        19   \n",
       "7                       NaN        98   \n",
       "8                       NaN        18   \n",
       "9                       NaN        37   \n",
       "10                      NaN        32   \n",
       "11                      NaN       230   \n",
       "12                      NaN        12   \n",
       "13                      NaN        77   \n",
       "14                      NaN       230   \n",
       "\n",
       "                                                    Ответ  \n",
       "Индекс                                                     \n",
       "0       Отразить план работы ТС можно в виде составной...  \n",
       "1       Сгенерируйте платежное поручение через систему...  \n",
       "2       Для выполнения переоценки валютных договоров Д...  \n",
       "3       Привет! Я Сайга, твой автоматический помощник....  \n",
       "4       В системе для настройки действий при превышени...  \n",
       "5       Отразить возврат денег в кассе можно через дог...  \n",
       "6       Для подписания документа приемки ТМЦ без серти...  \n",
       "7       Для детального анализа книг покупок и продаж и...  \n",
       "8       Колонка \"Встречная задолженность\" в документе ...  \n",
       "9       Инвентаризационная опись сформировалась без ра...  \n",
       "10      Возможные причины получения уведомлений о закр...  \n",
       "11      В Приобретении товаров и услуг в таблице 11 Пр...  \n",
       "12      Для удаления элемента справочника \"Номенклатур...  \n",
       "13      Префикс для международного номера банковского ...  \n",
       "14      Кнопка \"Аналитика ЕПС\" не активна в карточке н...  "
      ]
     },
     "execution_count": 23,
     "metadata": {},
     "output_type": "execute_result"
    }
   ],
   "source": [
    "questions"
   ]
  },
  {
   "cell_type": "code",
   "execution_count": null,
   "metadata": {},
   "outputs": [],
   "source": [
    "new_dict = {'Вопрос', 'Имя файла с инструкцией': [], 'Раздел в инструкции': [], 'Страница':[], 'Ответ':[]}"
   ]
  },
  {
   "cell_type": "code",
   "execution_count": 87,
   "metadata": {},
   "outputs": [],
   "source": [
    "new_dict = {i: [] for i in questions.columns if i not in ['Категория']} | {'Мой полный ответ': [], 'Мой ответ': []}"
   ]
  },
  {
   "cell_type": "code",
   "execution_count": 90,
   "metadata": {},
   "outputs": [
    {
     "data": {
      "text/plain": [
       "{'Вопрос': [],\n",
       " 'Правильный ответ': [],\n",
       " 'Файл': [],\n",
       " 'Страница': [],\n",
       " 'Мой полный ответ': [],\n",
       " 'Мой ответ': []}"
      ]
     },
     "execution_count": 90,
     "metadata": {},
     "output_type": "execute_result"
    }
   ],
   "source": [
    "new_dict"
   ]
  },
  {
   "cell_type": "code",
   "execution_count": null,
   "metadata": {},
   "outputs": [],
   "source": [
    "for i in range(len(questions)):\n",
    "    temp_row = questions.iloc[i, :]"
   ]
  },
  {
   "cell_type": "code",
   "execution_count": 91,
   "metadata": {},
   "outputs": [],
   "source": [
    "for i in range(len(questions)):\n",
    "    temp_row = questions.iloc[i, :]\n",
    "    new_dict['Вопрос'].append(temp_row['Вопрос'])\n",
    "    res = ''\n",
    "    pdf_chunk = search_best_from_unstructured(temp_row['Вопрос'])\n",
    "    result = get_llm_answer(temp_row['Вопрос'], pdf_chunk.page_content).split('|im_end|>')[0]\n",
    "    new_dict['Мой ответ'].append(result)\n",
    "    new_dict['Правильный ответ'].append(result)\n",
    "    page = pdf_chunk.metadata[\"source\"].split(\"/\")[-1].split(\"_\")[-1].split(\".\")[0]\n",
    "    new_dict['Страница'].append(page)\n",
    "    file_name = pdf_chunk.metadata['source'].split('/')[-2] + \".pdf\"\n",
    "    new_dict['Файл'].append(file_name)\n",
    "    info = f'Страница: {page}, Исходный документ: {file_name}'\n",
    "    res += '\\n ' + f'Ответ LLM: {result}' + '\\n' + info\n",
    "    new_dict['Мой полный ответ'].append(res)"
   ]
  },
  {
   "cell_type": "code",
   "execution_count": 92,
   "metadata": {},
   "outputs": [
    {
     "data": {
      "text/plain": [
       "{'Вопрос': ['Кто такие дополнительные согласующие?',\n",
       "  'Что делает регламентное задание «Генерация платежных поручений (Вечер)»?',\n",
       "  'Что делает флаг «Облагается НДС у покупателя товара»?',\n",
       "  'Что делает кнопка «Создать документы списания»?',\n",
       "  'Как отразить реализацию без перехода права собственности?',\n",
       "  'Как создать Дополнительное соглашение к договору?',\n",
       "  'Как оформить поступление денежных документов от поставщика?',\n",
       "  'Какие данные отображаются на рабочем месте по работе с денежными документами?',\n",
       "  'Какие документы входят и исходят при формировании документа «Поступление денежных документов»?',\n",
       "  'Почему документ Взаимозачет задолженности может быть заблокирован?',\n",
       "  'Какие действия необходимы для формирования документа выдачи денежных документов?',\n",
       "  'Что показывае отчет «Задолженность клиентов по срокам»?'],\n",
       " 'Правильный ответ': ['Дополнительные согласующие — это пользователи, которые, помимо основного согласующего, также участвуют в процессе согласования текущего этапа. Они должны согласовать этап до того, как основной согласующий начнет его согласование. После этого этап считается пройденным. <',\n",
       "  'Регламентное задание «Генерация платежных поручений (Вечер)» создает документы списания денежных средств на основании утвержденных заявок, дата платежа в которых больше текущей. Время запуска обработки настраивается в пункте «Расписание».<',\n",
       "  'Флаг \"Облагается НДС у покупателя товара\" указывает, что покупатель товара подлежит налогообложению НДС при его реализации. Это влияет на формирование счетов-фактур и корректность учёта НДС в бухгалтерском учете организации. Если этот флаг установлен, то НДС будет учтена как налогоплательщиком, если нет, то он не будет учитываться. Это значение используется для определения типа НДС при расчетах и отчетности. <',\n",
       "  'Кнопка «Создать документы списания» используется для формирования документов списания на основе счет-фактуры, уже оформленной ранее. Это позволяет учесть расходы или возврат платежей по этой счет-фактуре. <',\n",
       "  'Отразить реализацию без перехода права собственности необходимо согласно разделу 1.3.7: \"Отражение реализации без перехода права собственности (Менеджер по продажам)  ……………………………………………………………………………… 14\".<',\n",
       "  'Для создания Дополнительного соглашения к договору следуйте этим шагам:\\n\\n1. Загрузите дополнительное соглашение через интеграцию из системы ЕОС-Закупки.\\n2. Укажите изменения или дополнения в реквизитах карточки договора.\\n\\nЕсли в дополнительном соглашении отличаются сумма договора, дата окончания или контрагент, то будет создана новая версия договора. Результат можно увидеть на вкладке \"Дополнительные соглашения\" основной карточки договора (Рисунок 15).<',\n",
       "  'Для оформления поступления денежных документов от поставщика необходимо использовать документ \"Платежное поручение\". Это позволяет учесть факт получения денежных средств от покупателя и связать их с конкретным заказом или договором. Документ \"Платежное поручение\" также помогает контролировать финансовые потоки между компаниями. ',\n",
       "  'На рабочем месте по работе с денежными документами отображаются следующие данные:\\n- На вкладке «Денежные средства в наличии»: информация о денежных документах, имеющихся на предприятии в разрезе органов управления, подразделений, материально-ответственных лиц.\\n- На вкладке «Движение денежных документов»: список зарегистрированных в системе документов по денежным документам.\\n\\nТакже упоминается документ «Поступление денежных документов», который содержит три вида операций: поступление от поставщика, поступление от подотчетного лица, прочие поступления денежных документов. ',\n",
       "  'Входят: \\n- Приходная накладная\\n- Банковская справка о переводе средств\\n\\nИсходят:\\n- Документ \"Выдача денежных документов\"\\n- Запись в журнале денежных операций\\n- Запись в учетной книге денежных средств\\n- Запись в бухгалтерской книге\\n- Запись в отчетности по налогу на прибыль\\n- Запись в отчетности по налогам и сборам\\n- Запись в отчетности по страховым взносам\\n- Запись в отчетности по социальному страхованию\\n- Запись в отчетности по пенсионному фонду\\n- Запись в отчетности по обязательным резервам\\n- Запись в отчетности по другим видам платежей\\n- Запись в отчетности по прочим видам доходов и расходов\\n- Запись в отчетности по капиталу компании\\n- Запись в отчетности по активам компании\\n- Запись в отчетности по пассивам компании\\n- Запись в отчетности по собственному капиталу компании\\n- Запись в отчетности по долгосрочным обязательствам компании\\n- Запись в отчетности по текущим обязательствам компании\\n- Запись в отчетности по долгосрочным активам компании',\n",
       "  'Документ \"Взаимозачет задолженности\" может быть заблокирован из-за несоблюдения требований к формату или содержанию данных, указанных в системе. Также блокировка возможна при наличии недопустимых символов или ошибок ввода. Для устранения проблемы необходимо проверить данные и повторить попытку сохранения документа. <',\n",
       "  'Для формирования документа выдачи денежных средств необходимо: \\n1. Определить необходимое количество денежных средств.\\n2. Создать или открыть документ \"Выдача денежных средств\".\\n3. Заполнить все необходимые поля в документе, включая дату, сумму и получателя.\\n4. Подписать документ.\\n5. Разместить документ в системе учета и контроля.\\n6. Провести контроль за использованием выданных денежных средств.\\n\\nЭто основные шаги процесса. Если есть дополнительные требования, уточните их. <',\n",
       "  'Отчет \"Задолженность поставщикам по срокам\" показывает текущее состояние кредиторской задолженности у поставщиков, размеры и длительность просроченной задолженности, группируемую по интервалам времени. Это помогает контролировать и управлять финансовыми обязательствами перед поставщиками. <'],\n",
       " 'Файл': ['Инструкция_D_1C1_1_01_01_Универсальное_согласование_документов_v6.pdf',\n",
       "  'Инструкция_D_1C1_1_01_09_Формирование_платежных_поручений_НФ_5_1.pdf',\n",
       "  'Инструкция D-1C1-1.10.14  Учет НДС_v7.pdf',\n",
       "  'D_1C1_1_18_03_Реализация_продукции_товаров_работ_услуг_и_прочая.pdf',\n",
       "  'D_1C1_1_18_03_Реализация_продукции_товаров_работ_услуг_и_прочая.pdf',\n",
       "  'Инструкция_D_1C1_1_13_01_Ведение_договоров_на_закупку_ТМЦ_работ.pdf',\n",
       "  'Инструкция_пользователей_«D_1C1_1_22_01_Формирование_графиков_платежей.pdf',\n",
       "  'Инструкция_D_1C1_1_10_02_Учет_денежных_документов_в_кассе_v2_НФ.pdf',\n",
       "  'Инструкция_D_1C1_1_10_02_Учет_денежных_документов_в_кассе_v2_НФ.pdf',\n",
       "  'Инструкция_D_1C1_1_10_39_Сверка_взаиморасчетов_с_контрагентами.pdf',\n",
       "  'Инструкция_D_1C1_1_04_12_Учет_договоров_длительного_технологического.pdf',\n",
       "  'Инструкция_D_1C1_1_20_02_Анализ_взаиморасчетов_по_закупкам_1.pdf'],\n",
       " 'Страница': ['22',\n",
       "  '7',\n",
       "  '26',\n",
       "  '31',\n",
       "  '4',\n",
       "  '19',\n",
       "  '33',\n",
       "  '7',\n",
       "  '15',\n",
       "  '36',\n",
       "  '11',\n",
       "  '7'],\n",
       " 'Мой полный ответ': ['\\nОтвет LLM: Дополнительные согласующие — это пользователи, которые, помимо основного согласующего, также участвуют в процессе согласования текущего этапа. Они должны согласовать этап до того, как основной согласующий начнет его согласование. После этого этап считается пройденным. <\\nСтраница: 22, Исходный документ: Инструкция_D_1C1_1_01_01_Универсальное_согласование_документов_v6.pdf',\n",
       "  '\\nОтвет LLM: Регламентное задание «Генерация платежных поручений (Вечер)» создает документы списания денежных средств на основании утвержденных заявок, дата платежа в которых больше текущей. Время запуска обработки настраивается в пункте «Расписание».<\\nСтраница: 7, Исходный документ: Инструкция_D_1C1_1_01_09_Формирование_платежных_поручений_НФ_5_1.pdf',\n",
       "  '\\nОтвет LLM: Флаг \"Облагается НДС у покупателя товара\" указывает, что покупатель товара подлежит налогообложению НДС при его реализации. Это влияет на формирование счетов-фактур и корректность учёта НДС в бухгалтерском учете организации. Если этот флаг установлен, то НДС будет учтена как налогоплательщиком, если нет, то он не будет учитываться. Это значение используется для определения типа НДС при расчетах и отчетности. <\\nСтраница: 26, Исходный документ: Инструкция D-1C1-1.10.14  Учет НДС_v7.pdf',\n",
       "  '\\nОтвет LLM: Кнопка «Создать документы списания» используется для формирования документов списания на основе счет-фактуры, уже оформленной ранее. Это позволяет учесть расходы или возврат платежей по этой счет-фактуре. <\\nСтраница: 31, Исходный документ: D_1C1_1_18_03_Реализация_продукции_товаров_работ_услуг_и_прочая.pdf',\n",
       "  '\\nОтвет LLM: Отразить реализацию без перехода права собственности необходимо согласно разделу 1.3.7: \"Отражение реализации без перехода права собственности (Менеджер по продажам)  ……………………………………………………………………………… 14\".<\\nСтраница: 4, Исходный документ: D_1C1_1_18_03_Реализация_продукции_товаров_работ_услуг_и_прочая.pdf',\n",
       "  '\\nОтвет LLM: Для создания Дополнительного соглашения к договору следуйте этим шагам:\\n\\n1. Загрузите дополнительное соглашение через интеграцию из системы ЕОС-Закупки.\\n2. Укажите изменения или дополнения в реквизитах карточки договора.\\n\\nЕсли в дополнительном соглашении отличаются сумма договора, дата окончания или контрагент, то будет создана новая версия договора. Результат можно увидеть на вкладке \"Дополнительные соглашения\" основной карточки договора (Рисунок 15).<\\nСтраница: 19, Исходный документ: Инструкция_D_1C1_1_13_01_Ведение_договоров_на_закупку_ТМЦ_работ.pdf',\n",
       "  '\\nОтвет LLM: Для оформления поступления денежных документов от поставщика необходимо использовать документ \"Платежное поручение\". Это позволяет учесть факт получения денежных средств от покупателя и связать их с конкретным заказом или договором. Документ \"Платежное поручение\" также помогает контролировать финансовые потоки между компаниями. \\nСтраница: 33, Исходный документ: Инструкция_пользователей_«D_1C1_1_22_01_Формирование_графиков_платежей.pdf',\n",
       "  '\\nОтвет LLM: На рабочем месте по работе с денежными документами отображаются следующие данные:\\n- На вкладке «Денежные средства в наличии»: информация о денежных документах, имеющихся на предприятии в разрезе органов управления, подразделений, материально-ответственных лиц.\\n- На вкладке «Движение денежных документов»: список зарегистрированных в системе документов по денежным документам.\\n\\nТакже упоминается документ «Поступление денежных документов», который содержит три вида операций: поступление от поставщика, поступление от подотчетного лица, прочие поступления денежных документов. \\nСтраница: 7, Исходный документ: Инструкция_D_1C1_1_10_02_Учет_денежных_документов_в_кассе_v2_НФ.pdf',\n",
       "  '\\nОтвет LLM: Входят: \\n- Приходная накладная\\n- Банковская справка о переводе средств\\n\\nИсходят:\\n- Документ \"Выдача денежных документов\"\\n- Запись в журнале денежных операций\\n- Запись в учетной книге денежных средств\\n- Запись в бухгалтерской книге\\n- Запись в отчетности по налогу на прибыль\\n- Запись в отчетности по налогам и сборам\\n- Запись в отчетности по страховым взносам\\n- Запись в отчетности по социальному страхованию\\n- Запись в отчетности по пенсионному фонду\\n- Запись в отчетности по обязательным резервам\\n- Запись в отчетности по другим видам платежей\\n- Запись в отчетности по прочим видам доходов и расходов\\n- Запись в отчетности по капиталу компании\\n- Запись в отчетности по активам компании\\n- Запись в отчетности по пассивам компании\\n- Запись в отчетности по собственному капиталу компании\\n- Запись в отчетности по долгосрочным обязательствам компании\\n- Запись в отчетности по текущим обязательствам компании\\n- Запись в отчетности по долгосрочным активам компании\\nСтраница: 15, Исходный документ: Инструкция_D_1C1_1_10_02_Учет_денежных_документов_в_кассе_v2_НФ.pdf',\n",
       "  '\\nОтвет LLM: Документ \"Взаимозачет задолженности\" может быть заблокирован из-за несоблюдения требований к формату или содержанию данных, указанных в системе. Также блокировка возможна при наличии недопустимых символов или ошибок ввода. Для устранения проблемы необходимо проверить данные и повторить попытку сохранения документа. <\\nСтраница: 36, Исходный документ: Инструкция_D_1C1_1_10_39_Сверка_взаиморасчетов_с_контрагентами.pdf',\n",
       "  '\\nОтвет LLM: Для формирования документа выдачи денежных средств необходимо: \\n1. Определить необходимое количество денежных средств.\\n2. Создать или открыть документ \"Выдача денежных средств\".\\n3. Заполнить все необходимые поля в документе, включая дату, сумму и получателя.\\n4. Подписать документ.\\n5. Разместить документ в системе учета и контроля.\\n6. Провести контроль за использованием выданных денежных средств.\\n\\nЭто основные шаги процесса. Если есть дополнительные требования, уточните их. <\\nСтраница: 11, Исходный документ: Инструкция_D_1C1_1_04_12_Учет_договоров_длительного_технологического.pdf',\n",
       "  '\\nОтвет LLM: Отчет \"Задолженность поставщикам по срокам\" показывает текущее состояние кредиторской задолженности у поставщиков, размеры и длительность просроченной задолженности, группируемую по интервалам времени. Это помогает контролировать и управлять финансовыми обязательствами перед поставщиками. <\\nСтраница: 7, Исходный документ: Инструкция_D_1C1_1_20_02_Анализ_взаиморасчетов_по_закупкам_1.pdf'],\n",
       " 'Мой ответ': ['Дополнительные согласующие — это пользователи, которые, помимо основного согласующего, также участвуют в процессе согласования текущего этапа. Они должны согласовать этап до того, как основной согласующий начнет его согласование. После этого этап считается пройденным. <',\n",
       "  'Регламентное задание «Генерация платежных поручений (Вечер)» создает документы списания денежных средств на основании утвержденных заявок, дата платежа в которых больше текущей. Время запуска обработки настраивается в пункте «Расписание».<',\n",
       "  'Флаг \"Облагается НДС у покупателя товара\" указывает, что покупатель товара подлежит налогообложению НДС при его реализации. Это влияет на формирование счетов-фактур и корректность учёта НДС в бухгалтерском учете организации. Если этот флаг установлен, то НДС будет учтена как налогоплательщиком, если нет, то он не будет учитываться. Это значение используется для определения типа НДС при расчетах и отчетности. <',\n",
       "  'Кнопка «Создать документы списания» используется для формирования документов списания на основе счет-фактуры, уже оформленной ранее. Это позволяет учесть расходы или возврат платежей по этой счет-фактуре. <',\n",
       "  'Отразить реализацию без перехода права собственности необходимо согласно разделу 1.3.7: \"Отражение реализации без перехода права собственности (Менеджер по продажам)  ……………………………………………………………………………… 14\".<',\n",
       "  'Для создания Дополнительного соглашения к договору следуйте этим шагам:\\n\\n1. Загрузите дополнительное соглашение через интеграцию из системы ЕОС-Закупки.\\n2. Укажите изменения или дополнения в реквизитах карточки договора.\\n\\nЕсли в дополнительном соглашении отличаются сумма договора, дата окончания или контрагент, то будет создана новая версия договора. Результат можно увидеть на вкладке \"Дополнительные соглашения\" основной карточки договора (Рисунок 15).<',\n",
       "  'Для оформления поступления денежных документов от поставщика необходимо использовать документ \"Платежное поручение\". Это позволяет учесть факт получения денежных средств от покупателя и связать их с конкретным заказом или договором. Документ \"Платежное поручение\" также помогает контролировать финансовые потоки между компаниями. ',\n",
       "  'На рабочем месте по работе с денежными документами отображаются следующие данные:\\n- На вкладке «Денежные средства в наличии»: информация о денежных документах, имеющихся на предприятии в разрезе органов управления, подразделений, материально-ответственных лиц.\\n- На вкладке «Движение денежных документов»: список зарегистрированных в системе документов по денежным документам.\\n\\nТакже упоминается документ «Поступление денежных документов», который содержит три вида операций: поступление от поставщика, поступление от подотчетного лица, прочие поступления денежных документов. ',\n",
       "  'Входят: \\n- Приходная накладная\\n- Банковская справка о переводе средств\\n\\nИсходят:\\n- Документ \"Выдача денежных документов\"\\n- Запись в журнале денежных операций\\n- Запись в учетной книге денежных средств\\n- Запись в бухгалтерской книге\\n- Запись в отчетности по налогу на прибыль\\n- Запись в отчетности по налогам и сборам\\n- Запись в отчетности по страховым взносам\\n- Запись в отчетности по социальному страхованию\\n- Запись в отчетности по пенсионному фонду\\n- Запись в отчетности по обязательным резервам\\n- Запись в отчетности по другим видам платежей\\n- Запись в отчетности по прочим видам доходов и расходов\\n- Запись в отчетности по капиталу компании\\n- Запись в отчетности по активам компании\\n- Запись в отчетности по пассивам компании\\n- Запись в отчетности по собственному капиталу компании\\n- Запись в отчетности по долгосрочным обязательствам компании\\n- Запись в отчетности по текущим обязательствам компании\\n- Запись в отчетности по долгосрочным активам компании',\n",
       "  'Документ \"Взаимозачет задолженности\" может быть заблокирован из-за несоблюдения требований к формату или содержанию данных, указанных в системе. Также блокировка возможна при наличии недопустимых символов или ошибок ввода. Для устранения проблемы необходимо проверить данные и повторить попытку сохранения документа. <',\n",
       "  'Для формирования документа выдачи денежных средств необходимо: \\n1. Определить необходимое количество денежных средств.\\n2. Создать или открыть документ \"Выдача денежных средств\".\\n3. Заполнить все необходимые поля в документе, включая дату, сумму и получателя.\\n4. Подписать документ.\\n5. Разместить документ в системе учета и контроля.\\n6. Провести контроль за использованием выданных денежных средств.\\n\\nЭто основные шаги процесса. Если есть дополнительные требования, уточните их. <',\n",
       "  'Отчет \"Задолженность поставщикам по срокам\" показывает текущее состояние кредиторской задолженности у поставщиков, размеры и длительность просроченной задолженности, группируемую по интервалам времени. Это помогает контролировать и управлять финансовыми обязательствами перед поставщиками. <']}"
      ]
     },
     "execution_count": 92,
     "metadata": {},
     "output_type": "execute_result"
    }
   ],
   "source": [
    "new_dict"
   ]
  },
  {
   "cell_type": "code",
   "execution_count": 98,
   "metadata": {},
   "outputs": [
    {
     "name": "stdout",
     "output_type": "stream",
     "text": [
      "\n",
      " yy\n"
     ]
    }
   ],
   "source": [
    "print('\\n yy')"
   ]
  },
  {
   "cell_type": "code",
   "execution_count": 66,
   "metadata": {},
   "outputs": [],
   "source": [
    "del new_dict['Категория']"
   ]
  },
  {
   "cell_type": "code",
   "execution_count": 94,
   "metadata": {},
   "outputs": [],
   "source": [
    "df = pd.DataFrame(new_dict)"
   ]
  },
  {
   "cell_type": "code",
   "execution_count": 97,
   "metadata": {},
   "outputs": [
    {
     "data": {
      "text/html": [
       "<div>\n",
       "<style scoped>\n",
       "    .dataframe tbody tr th:only-of-type {\n",
       "        vertical-align: middle;\n",
       "    }\n",
       "\n",
       "    .dataframe tbody tr th {\n",
       "        vertical-align: top;\n",
       "    }\n",
       "\n",
       "    .dataframe thead th {\n",
       "        text-align: right;\n",
       "    }\n",
       "</style>\n",
       "<table border=\"1\" class=\"dataframe\">\n",
       "  <thead>\n",
       "    <tr style=\"text-align: right;\">\n",
       "      <th></th>\n",
       "      <th>Вопрос</th>\n",
       "      <th>Правильный ответ</th>\n",
       "      <th>Файл</th>\n",
       "      <th>Страница</th>\n",
       "      <th>Мой полный ответ</th>\n",
       "      <th>Мой ответ</th>\n",
       "    </tr>\n",
       "  </thead>\n",
       "  <tbody>\n",
       "    <tr>\n",
       "      <th>0</th>\n",
       "      <td>Кто такие дополнительные согласующие?</td>\n",
       "      <td>Дополнительные согласующие — это пользователи,...</td>\n",
       "      <td>Инструкция_D_1C1_1_01_01_Универсальное_согласо...</td>\n",
       "      <td>22</td>\n",
       "      <td>\\nОтвет LLM: Дополнительные согласующие — это ...</td>\n",
       "      <td>Дополнительные согласующие — это пользователи,...</td>\n",
       "    </tr>\n",
       "    <tr>\n",
       "      <th>1</th>\n",
       "      <td>Что делает регламентное задание «Генерация пла...</td>\n",
       "      <td>Регламентное задание «Генерация платежных пору...</td>\n",
       "      <td>Инструкция_D_1C1_1_01_09_Формирование_платежны...</td>\n",
       "      <td>7</td>\n",
       "      <td>\\nОтвет LLM: Регламентное задание «Генерация п...</td>\n",
       "      <td>Регламентное задание «Генерация платежных пору...</td>\n",
       "    </tr>\n",
       "    <tr>\n",
       "      <th>2</th>\n",
       "      <td>Что делает флаг «Облагается НДС у покупателя т...</td>\n",
       "      <td>Флаг \"Облагается НДС у покупателя товара\" указ...</td>\n",
       "      <td>Инструкция D-1C1-1.10.14  Учет НДС_v7.pdf</td>\n",
       "      <td>26</td>\n",
       "      <td>\\nОтвет LLM: Флаг \"Облагается НДС у покупателя...</td>\n",
       "      <td>Флаг \"Облагается НДС у покупателя товара\" указ...</td>\n",
       "    </tr>\n",
       "    <tr>\n",
       "      <th>3</th>\n",
       "      <td>Что делает кнопка «Создать документы списания»?</td>\n",
       "      <td>Кнопка «Создать документы списания» использует...</td>\n",
       "      <td>D_1C1_1_18_03_Реализация_продукции_товаров_раб...</td>\n",
       "      <td>31</td>\n",
       "      <td>\\nОтвет LLM: Кнопка «Создать документы списани...</td>\n",
       "      <td>Кнопка «Создать документы списания» использует...</td>\n",
       "    </tr>\n",
       "    <tr>\n",
       "      <th>4</th>\n",
       "      <td>Как отразить реализацию без перехода права соб...</td>\n",
       "      <td>Отразить реализацию без перехода права собстве...</td>\n",
       "      <td>D_1C1_1_18_03_Реализация_продукции_товаров_раб...</td>\n",
       "      <td>4</td>\n",
       "      <td>\\nОтвет LLM: Отразить реализацию без перехода ...</td>\n",
       "      <td>Отразить реализацию без перехода права собстве...</td>\n",
       "    </tr>\n",
       "    <tr>\n",
       "      <th>5</th>\n",
       "      <td>Как создать Дополнительное соглашение к договору?</td>\n",
       "      <td>Для создания Дополнительного соглашения к дого...</td>\n",
       "      <td>Инструкция_D_1C1_1_13_01_Ведение_договоров_на_...</td>\n",
       "      <td>19</td>\n",
       "      <td>\\nОтвет LLM: Для создания Дополнительного согл...</td>\n",
       "      <td>Для создания Дополнительного соглашения к дого...</td>\n",
       "    </tr>\n",
       "    <tr>\n",
       "      <th>6</th>\n",
       "      <td>Как оформить поступление денежных документов о...</td>\n",
       "      <td>Для оформления поступления денежных документов...</td>\n",
       "      <td>Инструкция_пользователей_«D_1C1_1_22_01_Формир...</td>\n",
       "      <td>33</td>\n",
       "      <td>\\nОтвет LLM: Для оформления поступления денежн...</td>\n",
       "      <td>Для оформления поступления денежных документов...</td>\n",
       "    </tr>\n",
       "    <tr>\n",
       "      <th>7</th>\n",
       "      <td>Какие данные отображаются на рабочем месте по ...</td>\n",
       "      <td>На рабочем месте по работе с денежными докумен...</td>\n",
       "      <td>Инструкция_D_1C1_1_10_02_Учет_денежных_докумен...</td>\n",
       "      <td>7</td>\n",
       "      <td>\\nОтвет LLM: На рабочем месте по работе с дене...</td>\n",
       "      <td>На рабочем месте по работе с денежными докумен...</td>\n",
       "    </tr>\n",
       "    <tr>\n",
       "      <th>8</th>\n",
       "      <td>Какие документы входят и исходят при формирова...</td>\n",
       "      <td>Входят: \\n- Приходная накладная\\n- Банковская ...</td>\n",
       "      <td>Инструкция_D_1C1_1_10_02_Учет_денежных_докумен...</td>\n",
       "      <td>15</td>\n",
       "      <td>\\nОтвет LLM: Входят: \\n- Приходная накладная\\n...</td>\n",
       "      <td>Входят: \\n- Приходная накладная\\n- Банковская ...</td>\n",
       "    </tr>\n",
       "    <tr>\n",
       "      <th>9</th>\n",
       "      <td>Почему документ Взаимозачет задолженности може...</td>\n",
       "      <td>Документ \"Взаимозачет задолженности\" может быт...</td>\n",
       "      <td>Инструкция_D_1C1_1_10_39_Сверка_взаиморасчетов...</td>\n",
       "      <td>36</td>\n",
       "      <td>\\nОтвет LLM: Документ \"Взаимозачет задолженнос...</td>\n",
       "      <td>Документ \"Взаимозачет задолженности\" может быт...</td>\n",
       "    </tr>\n",
       "    <tr>\n",
       "      <th>10</th>\n",
       "      <td>Какие действия необходимы для формирования док...</td>\n",
       "      <td>Для формирования документа выдачи денежных сре...</td>\n",
       "      <td>Инструкция_D_1C1_1_04_12_Учет_договоров_длител...</td>\n",
       "      <td>11</td>\n",
       "      <td>\\nОтвет LLM: Для формирования документа выдачи...</td>\n",
       "      <td>Для формирования документа выдачи денежных сре...</td>\n",
       "    </tr>\n",
       "    <tr>\n",
       "      <th>11</th>\n",
       "      <td>Что показывае отчет «Задолженность клиентов по...</td>\n",
       "      <td>Отчет \"Задолженность поставщикам по срокам\" по...</td>\n",
       "      <td>Инструкция_D_1C1_1_20_02_Анализ_взаиморасчетов...</td>\n",
       "      <td>7</td>\n",
       "      <td>\\nОтвет LLM: Отчет \"Задолженность поставщикам ...</td>\n",
       "      <td>Отчет \"Задолженность поставщикам по срокам\" по...</td>\n",
       "    </tr>\n",
       "  </tbody>\n",
       "</table>\n",
       "</div>"
      ],
      "text/plain": [
       "                                               Вопрос  \\\n",
       "0               Кто такие дополнительные согласующие?   \n",
       "1   Что делает регламентное задание «Генерация пла...   \n",
       "2   Что делает флаг «Облагается НДС у покупателя т...   \n",
       "3     Что делает кнопка «Создать документы списания»?   \n",
       "4   Как отразить реализацию без перехода права соб...   \n",
       "5   Как создать Дополнительное соглашение к договору?   \n",
       "6   Как оформить поступление денежных документов о...   \n",
       "7   Какие данные отображаются на рабочем месте по ...   \n",
       "8   Какие документы входят и исходят при формирова...   \n",
       "9   Почему документ Взаимозачет задолженности може...   \n",
       "10  Какие действия необходимы для формирования док...   \n",
       "11  Что показывае отчет «Задолженность клиентов по...   \n",
       "\n",
       "                                     Правильный ответ  \\\n",
       "0   Дополнительные согласующие — это пользователи,...   \n",
       "1   Регламентное задание «Генерация платежных пору...   \n",
       "2   Флаг \"Облагается НДС у покупателя товара\" указ...   \n",
       "3   Кнопка «Создать документы списания» использует...   \n",
       "4   Отразить реализацию без перехода права собстве...   \n",
       "5   Для создания Дополнительного соглашения к дого...   \n",
       "6   Для оформления поступления денежных документов...   \n",
       "7   На рабочем месте по работе с денежными докумен...   \n",
       "8   Входят: \\n- Приходная накладная\\n- Банковская ...   \n",
       "9   Документ \"Взаимозачет задолженности\" может быт...   \n",
       "10  Для формирования документа выдачи денежных сре...   \n",
       "11  Отчет \"Задолженность поставщикам по срокам\" по...   \n",
       "\n",
       "                                                 Файл Страница  \\\n",
       "0   Инструкция_D_1C1_1_01_01_Универсальное_согласо...       22   \n",
       "1   Инструкция_D_1C1_1_01_09_Формирование_платежны...        7   \n",
       "2           Инструкция D-1C1-1.10.14  Учет НДС_v7.pdf       26   \n",
       "3   D_1C1_1_18_03_Реализация_продукции_товаров_раб...       31   \n",
       "4   D_1C1_1_18_03_Реализация_продукции_товаров_раб...        4   \n",
       "5   Инструкция_D_1C1_1_13_01_Ведение_договоров_на_...       19   \n",
       "6   Инструкция_пользователей_«D_1C1_1_22_01_Формир...       33   \n",
       "7   Инструкция_D_1C1_1_10_02_Учет_денежных_докумен...        7   \n",
       "8   Инструкция_D_1C1_1_10_02_Учет_денежных_докумен...       15   \n",
       "9   Инструкция_D_1C1_1_10_39_Сверка_взаиморасчетов...       36   \n",
       "10  Инструкция_D_1C1_1_04_12_Учет_договоров_длител...       11   \n",
       "11  Инструкция_D_1C1_1_20_02_Анализ_взаиморасчетов...        7   \n",
       "\n",
       "                                     Мой полный ответ  \\\n",
       "0   \\nОтвет LLM: Дополнительные согласующие — это ...   \n",
       "1   \\nОтвет LLM: Регламентное задание «Генерация п...   \n",
       "2   \\nОтвет LLM: Флаг \"Облагается НДС у покупателя...   \n",
       "3   \\nОтвет LLM: Кнопка «Создать документы списани...   \n",
       "4   \\nОтвет LLM: Отразить реализацию без перехода ...   \n",
       "5   \\nОтвет LLM: Для создания Дополнительного согл...   \n",
       "6   \\nОтвет LLM: Для оформления поступления денежн...   \n",
       "7   \\nОтвет LLM: На рабочем месте по работе с дене...   \n",
       "8   \\nОтвет LLM: Входят: \\n- Приходная накладная\\n...   \n",
       "9   \\nОтвет LLM: Документ \"Взаимозачет задолженнос...   \n",
       "10  \\nОтвет LLM: Для формирования документа выдачи...   \n",
       "11  \\nОтвет LLM: Отчет \"Задолженность поставщикам ...   \n",
       "\n",
       "                                            Мой ответ  \n",
       "0   Дополнительные согласующие — это пользователи,...  \n",
       "1   Регламентное задание «Генерация платежных пору...  \n",
       "2   Флаг \"Облагается НДС у покупателя товара\" указ...  \n",
       "3   Кнопка «Создать документы списания» использует...  \n",
       "4   Отразить реализацию без перехода права собстве...  \n",
       "5   Для создания Дополнительного соглашения к дого...  \n",
       "6   Для оформления поступления денежных документов...  \n",
       "7   На рабочем месте по работе с денежными докумен...  \n",
       "8   Входят: \\n- Приходная накладная\\n- Банковская ...  \n",
       "9   Документ \"Взаимозачет задолженности\" может быт...  \n",
       "10  Для формирования документа выдачи денежных сре...  \n",
       "11  Отчет \"Задолженность поставщикам по срокам\" по...  "
      ]
     },
     "execution_count": 97,
     "metadata": {},
     "output_type": "execute_result"
    }
   ],
   "source": [
    "df"
   ]
  },
  {
   "cell_type": "code",
   "execution_count": 20,
   "metadata": {},
   "outputs": [],
   "source": [
    "import pandas as pd"
   ]
  },
  {
   "cell_type": "code",
   "execution_count": 21,
   "metadata": {},
   "outputs": [],
   "source": [
    "df = pd.read_csv('/home/yagor/Рабочий стол/atomic/AtomHack/data/q_by_pdf/ответы на вопросы.csv')"
   ]
  },
  {
   "cell_type": "code",
   "execution_count": 22,
   "metadata": {},
   "outputs": [
    {
     "name": "stdout",
     "output_type": "stream",
     "text": [
      "Вопрос: Кто такие дополнительные согласующие?\n",
      "Правильный ответ: Дополнительные согласующие – это пользователи, которые наряду с основным согласующим должны выполнить согласование текущего этапа. Этап будет пройден, когда его согласуют сначала все дополнительные согласующие, а затем основной согласующий.\n",
      "Мой ответ: Дополнительные согласующие — это пользователи, которые, кроме основного согласующего, также должны выполнить согласование текущего этапа. Они участвуют в процессе согласования до тех пор, пока их согласие не получено, после чего начинается согласование основным согласующим. <\n",
      "----------------------------------------------------------------\n",
      "Вопрос: Что делает регламентное задание «Генерация платежных поручений (Вечер)»?\n",
      "Правильный ответ: Регламентное задание «Генерация платежных поручений (Вечер)» (Новое регламентное задание) создает документы списания денежных средств на основании утвержденных заявок, дата платежа в которых меньше или равно текущей либо больше текущей.\n",
      "Мой ответ: Регламентное задание «Генерация платежных поручений (Вечер)» создает документы списания денежных средств на основании утвержденных заявок, дата платежа в которых больше текущей. Время запуска обработки настраивается в пункте «Расписание».<\n",
      "----------------------------------------------------------------\n",
      "Вопрос: Что делает флаг «Облагается НДС у покупателя товара»?\n",
      "Правильный ответ: Флаг «Облагается НДС у покупателя товара» устанавливается для товаров с обратным обложением НДС согласно п.8 ст. 161 ГК РФ, (зависит от включения функциональной опции рассмотренной в главе 1.3.1), тогда эта номенклатура становится доступной для выбора в документах реализации с вариантом налогообложения Облагается НДС у покупателя.\n",
      "Мой ответ: Флаг \"Облагается НДС у покупателя товара\" используется для определения того, является ли покупатель товара или услуг субъектом налогообложения по НДС. Если этот флаг установлен в положение \"да\", то при учёте НДС учитывается ставка НДС, применяемая к данному виду деятельности. Это влияет на корректность расчета НДС в бухгалтерском учете организации. <\n",
      "----------------------------------------------------------------\n",
      "Вопрос: Что делает кнопка «Создать документы списания»?\n",
      "Правильный ответ: По кнопке «Создать документы списания» происходит автоматическое формирование, проведение, проверка, отражение в регламентированном учете документов «Запись книги продаж» и «Отражение прочих доходов и расходов по документам, на которых установлен зеленый флаг.\n",
      "Мой ответ: Кнопка \"Создать документы списания\" используется для формирования документов списания, связанных с выплатами или возвратом средств клиенту. Это может быть использовано при возврате денежных средств после отмены заказа или при проведении возврата товара/услуги. <\n",
      "----------------------------------------------------------------\n",
      "Вопрос: Как отразить реализацию без перехода права собственности?\n",
      "Правильный ответ: Для отражения реализации требуется создать документ «Заказ клиента» с видом операции «Реализация (товары в пути)». Далее, на\n",
      "основании «Заказа клиента» создаем документ «Реализация товаров и услуг» со статусом «В пути».\n",
      "Мой ответ: Отразить реализацию без перехода права собственности можно как Менеджером по продажам или Бухгалтером по учету продаж. Это может быть сделано через Электронную Документацию Обмена (ЭДО).<\n",
      "----------------------------------------------------------------\n",
      "Вопрос: Как создать Дополнительное соглашение к договору?\n",
      "Правильный ответ: Отразить дополнительное соглашение к договору в системе возможно с помощью создания новой версии договора (пункт 1.3.1.2). В новой версии необходимо заполнить срок действия и указать изменённые/дополненные значения в реквизитах карточки договора.\n",
      "Мой ответ: Для создания Дополнительного соглашения к договору следуйте этим шагам:\n",
      "\n",
      "1. Загрузите дополнительное соглашение через интеграцию из системы ЕОС-Закупки.\n",
      "2. Укажите изменения или дополнения в реквизитах карточки договора.\n",
      "\n",
      "Параметры, которые должны отличаться от основного договора для создания новой версии договора: сумма договора, дата окончания, контрагент.\n",
      "\n",
      "Таким образом, после выполнения этих шагов Дополнительное соглашение будет записано во вкладке \"Дополнительные соглашения\" основного договора. Если же нет различий по указанным параметрам, не возникнет необходимости в создании новой версии договора.\n",
      "----------------------------------------------------------------\n",
      "Вопрос: Как оформить поступление денежных документов от поставщика?\n",
      "Правильный ответ: Для оформления поступления денежных документов от поставщика необходимо создать документ «Поступление денежных документов» с видом операции «Поступление от поставщика». В документе следует заполнить реквизиты на вкладке «Основное», включая организацию, поставщика, договор, подразделение и МОЛ.\n",
      "Мой ответ: Для оформления поступления денежных документов от поставщика необходимо использовать входной документ \"Счет-накладная\". Это позволяет учесть полученные товары или услуги и подтвердить их оплату. Также важно контролировать соответствие счета-накладной данным из заказа поставщику для точности расчетов. <\n",
      "----------------------------------------------------------------\n",
      "Вопрос: Какие данные отображаются на рабочем месте по работе с денежными документами?\n",
      "Правильный ответ: На рабочем месте по работе с денежными документами отображаются денежные документы в наличии и зарегистрированные в системе документы по движению денежных документов.\n",
      "Мой ответ: На рабочем месте по работе с денежными документами отображаются следующие данные:\n",
      "- На вкладке \"Денежные средства в наличии\": информация о денежных документах, имеющихся на предприятии в разрезе организаций, подразделений, материально-ответственных лиц.\n",
      "- На вкладке \"Движение денежных документов\": список зарегистрированных в системе документов по денежным документам.\n",
      "\n",
      "Также упоминается документ \"Поступление денежных документов\", который содержит три вида операций: поступление от поставщика, поступление от подотчетного лица и прочие поступления денежных документов. \n",
      "\n",
      "Это основная информация, которая доступна на рабочих местах для работы с денежными документами в программном обеспечении D-1C1-1.10.02. <\n",
      "----------------------------------------------------------------\n",
      "Вопрос: Какие документы входят и исходят при формировании документа «Поступление денежных документов»?\n",
      "Правильный ответ: При формировании документа «Поступление денежных документов» входящими документами являются денежный документ и товарная накладная, а исходящим документом — сам документ «Поступление денежных документов».\n",
      "Мой ответ: Входящие: \n",
      "- Приказ о выплате зарплаты или других видов доходов;\n",
      "- Расписания заработной платы;\n",
      "- Банковские реквизиты получателя.\n",
      "\n",
      "Исходящие: \n",
      "- Документ \"Выдача денежных документов\";\n",
      "- Запись в журнале учета денежных средств;\n",
      "- Платежная ведомость. <\n",
      "----------------------------------------------------------------\n",
      "Вопрос: Почему документ Взаимозачет задолженности может быть заблокирован?\n",
      "Правильный ответ: После утверждения на стороне ОЦО и документ \"Приобретение товаров и услуг\", и документ \"Взаимозачет задолженности\" блокируются для внесения каких-либо изменений.\n",
      "Мой ответ: Документ \"Взаимозачет задолженности\" может быть заблокирован из-за несоблюдения требований к формату или содержанию данных, указанных в системе. Также блокировка возможна при наличии недопустимых символов или ошибок в заполнении полей документа. Это необходимо для обеспечения точности и корректности обработки финансовой информации. <\n",
      "----------------------------------------------------------------\n",
      "Вопрос: Какие действия необходимы для формирования документа выдачи денежных документов?\n",
      "Правильный ответ: Для формирования документа «Выдача денежных документов» нужно выбрать вид операции, например, «Выдача подотчетному лицу», и заполнить обязательные реквизиты на вкладке «Основное», такие как организация, подотчетное лицо, подразделение получатель и МОЛ. Далее следует заполнить вкладку «Денежные документы».\n",
      "Мой ответ: Для формирования документа выдачи денежных средств необходимо: \n",
      "1. Определить необходимое количество денежных средств;\n",
      "2. Создать или корректировать заказ на производство;\n",
      "3. Формировать доходы и расходы;\n",
      "4. Создать или закрыть документ \"Реализация товаров\";\n",
      "5. Убедиться в правильности настроек учетной политики организации.\n",
      "\n",
      "Это основные шаги, которые помогут правильно оформить процесс выдачи денежных средств. Если возникнут дополнительные вопросы по этим действиям, пожалуйста, уточните их. <\n",
      "----------------------------------------------------------------\n",
      "Вопрос: Что показывае отчет «Задолженность клиентов по срокам»?\n",
      "Правильный ответ: Типовые отчеты «Задолженность клиентов по срокам» (дебиторская задолженность) и «Задолженность поставщикам по срокам» (кредиторская задолженность) отражают данные по задолженности на указанную дату в валюте рег.учета. Отчеты находятся в разделе Продажи/Закупки- Отчеты по продажам/Отчеты по закупкам. По данным отчетам можно проанализировать от каких дат по каким объектам расчетов происходит формирование оставшейся задолженности и просроченной задолженности по срокам. \n",
      "Мой ответ: Отчет \"Задолженность поставщикам по срокам\" показывает текущее состояние кредиторской задолженности у поставщиков, размеры и длительность просроченной задолженности, группируемую по интервалам времени. Это помогает контролировать и управлять долгами перед поставщиками. <\n",
      "----------------------------------------------------------------\n"
     ]
    }
   ],
   "source": [
    "for i in range(len(df)):\n",
    "    temp_row = df.iloc[i, :]\n",
    "    print('Вопрос:',\ttemp_row['Вопрос'])\n",
    "    print('Правильный ответ:',\ttemp_row['Правильный ответ'])\n",
    "    print('Мой ответ:',\ttemp_row['Мой ответ'])\n",
    "    print('----------------------------------------------------------------')"
   ]
  },
  {
   "cell_type": "code",
   "execution_count": null,
   "metadata": {},
   "outputs": [],
   "source": [
    "import os"
   ]
  },
  {
   "cell_type": "code",
   "execution_count": 99,
   "metadata": {},
   "outputs": [],
   "source": [
    "df.to_csv(os.path.join('..', 'data', 'q_by_pdf', 'ответы на вопросы.csv'))"
   ]
  },
  {
   "cell_type": "code",
   "execution_count": 3,
   "metadata": {},
   "outputs": [
    {
     "ename": "NameError",
     "evalue": "name 'df' is not defined",
     "output_type": "error",
     "traceback": [
      "\u001b[0;31m---------------------------------------------------------------------------\u001b[0m",
      "\u001b[0;31mNameError\u001b[0m                                 Traceback (most recent call last)",
      "\u001b[0;32m/tmp/ipykernel_108280/1396537375.py\u001b[0m in \u001b[0;36m<cell line: 1>\u001b[0;34m()\u001b[0m\n\u001b[0;32m----> 1\u001b[0;31m \u001b[0mdf\u001b[0m\u001b[0;34m\u001b[0m\u001b[0;34m\u001b[0m\u001b[0m\n\u001b[0m",
      "\u001b[0;31mNameError\u001b[0m: name 'df' is not defined"
     ]
    }
   ],
   "source": [
    "df"
   ]
  },
  {
   "cell_type": "code",
   "execution_count": null,
   "metadata": {},
   "outputs": [],
   "source": [
    "QnA_with_LLM('/home/yagor/Рабочий стол/atomic/AtomHack/data/q_by_pdf/вопросы.xlsx')"
   ]
  },
  {
   "cell_type": "code",
   "execution_count": 29,
   "metadata": {},
   "outputs": [
    {
     "data": {
      "text/plain": [
       "<bound method Kernel.raw_input of <ipykernel.ipkernel.IPythonKernel object at 0x7e0b96f316a0>>"
      ]
     },
     "execution_count": 29,
     "metadata": {},
     "output_type": "execute_result"
    }
   ],
   "source": [
    "input"
   ]
  },
  {
   "cell_type": "code",
   "execution_count": 30,
   "metadata": {},
   "outputs": [
    {
     "name": "stderr",
     "output_type": "stream",
     "text": [
      "huggingface/tokenizers: The current process just got forked, after parallelism has already been used. Disabling parallelism to avoid deadlocks...\n",
      "To disable this warning, you can either:\n",
      "\t- Avoid using `tokenizers` before the fork if possible\n",
      "\t- Explicitly set the environment variable TOKENIZERS_PARALLELISM=(true | false)\n"
     ]
    },
    {
     "name": "stdout",
     "output_type": "stream",
     "text": [
      "Requirement already satisfied: fastapi in /home/yagor/anaconda3/envs/torch/lib/python3.9/site-packages (0.104.1)\n",
      "Requirement already satisfied: nest-asyncio in /home/yagor/anaconda3/envs/torch/lib/python3.9/site-packages (1.5.5)\n",
      "Collecting pyngrok\n",
      "  Downloading pyngrok-7.1.6-py3-none-any.whl (22 kB)\n",
      "Requirement already satisfied: uvicorn in /home/yagor/anaconda3/envs/torch/lib/python3.9/site-packages (0.30.0)\n",
      "Requirement already satisfied: anyio<4.0.0,>=3.7.1 in /home/yagor/anaconda3/envs/torch/lib/python3.9/site-packages (from fastapi) (3.7.1)\n",
      "Requirement already satisfied: starlette<0.28.0,>=0.27.0 in /home/yagor/anaconda3/envs/torch/lib/python3.9/site-packages (from fastapi) (0.27.0)\n",
      "Requirement already satisfied: typing-extensions>=4.8.0 in /home/yagor/anaconda3/envs/torch/lib/python3.9/site-packages (from fastapi) (4.8.0)\n",
      "Requirement already satisfied: pydantic!=1.8,!=1.8.1,!=2.0.0,!=2.0.1,!=2.1.0,<3.0.0,>=1.7.4 in /home/yagor/anaconda3/envs/torch/lib/python3.9/site-packages (from fastapi) (2.3.0)\n",
      "Requirement already satisfied: PyYAML>=5.1 in /home/yagor/anaconda3/envs/torch/lib/python3.9/site-packages (from pyngrok) (6.0)\n",
      "Requirement already satisfied: h11>=0.8 in /home/yagor/anaconda3/envs/torch/lib/python3.9/site-packages (from uvicorn) (0.14.0)\n",
      "Requirement already satisfied: click>=7.0 in /home/yagor/anaconda3/envs/torch/lib/python3.9/site-packages (from uvicorn) (8.1.3)\n",
      "Requirement already satisfied: idna>=2.8 in /home/yagor/anaconda3/envs/torch/lib/python3.9/site-packages (from anyio<4.0.0,>=3.7.1->fastapi) (3.4)\n",
      "Requirement already satisfied: exceptiongroup in /home/yagor/anaconda3/envs/torch/lib/python3.9/site-packages (from anyio<4.0.0,>=3.7.1->fastapi) (1.2.0)\n",
      "Requirement already satisfied: sniffio>=1.1 in /home/yagor/anaconda3/envs/torch/lib/python3.9/site-packages (from anyio<4.0.0,>=3.7.1->fastapi) (1.2.0)\n",
      "Requirement already satisfied: pydantic-core==2.6.3 in /home/yagor/anaconda3/envs/torch/lib/python3.9/site-packages (from pydantic!=1.8,!=1.8.1,!=2.0.0,!=2.0.1,!=2.1.0,<3.0.0,>=1.7.4->fastapi) (2.6.3)\n",
      "Requirement already satisfied: annotated-types>=0.4.0 in /home/yagor/anaconda3/envs/torch/lib/python3.9/site-packages (from pydantic!=1.8,!=1.8.1,!=2.0.0,!=2.0.1,!=2.1.0,<3.0.0,>=1.7.4->fastapi) (0.5.0)\n",
      "Installing collected packages: pyngrok\n",
      "Successfully installed pyngrok-7.1.6\n"
     ]
    }
   ],
   "source": [
    "!pip install fastapi nest-asyncio pyngrok uvicorn"
   ]
  },
  {
   "cell_type": "code",
   "execution_count": 24,
   "metadata": {},
   "outputs": [
    {
     "name": "stdout",
     "output_type": "stream",
     "text": [
      "Authtoken saved to configuration file: /home/yagor/.config/ngrok/ngrok.yml\n"
     ]
    }
   ],
   "source": [
    "!ngrok config add-authtoken 2Wtb0tJLYUY3SgsEWIvtX7TUKBg_4S2cRAbKoZjNZ22z9Rqj1"
   ]
  },
  {
   "cell_type": "code",
   "execution_count": 25,
   "metadata": {},
   "outputs": [],
   "source": [
    "from fastapi import FastAPI\n",
    "from fastapi.middleware.cors import CORSMiddleware\n",
    "\n",
    "app = FastAPI()\n",
    "\n",
    "# middlewares\n",
    "app.add_middleware(\n",
    "    CORSMiddleware, # https://fastapi.tiangolo.com/tutorial/cors/\n",
    "    allow_origins=['*'], # wildcard to allow all, more here - https://developer.mozilla.org/en-US/docs/Web/HTTP/Headers/Access-Control-Allow-Origin\n",
    "    allow_credentials=True, # https://developer.mozilla.org/en-US/docs/Web/HTTP/Headers/Access-Control-Allow-Credentials\n",
    "    allow_methods=['*'], # https://developer.mozilla.org/en-US/docs/Web/HTTP/Headers/Access-Control-Allow-Methods\n",
    "    allow_headers=['*'], # https://developer.mozilla.org/en-US/docs/Web/HTTP/Headers/Access-Control-Allow-Headers\n",
    ")\n",
    "\n",
    "@app.get('/')\n",
    "async def root():\n",
    "    return {'hello': 'world'}"
   ]
  },
  {
   "cell_type": "code",
   "execution_count": 27,
   "metadata": {},
   "outputs": [
    {
     "name": "stdout",
     "output_type": "stream",
     "text": [
      "Public URL: https://8d75-109-184-39-15.ngrok-free.app\n"
     ]
    },
    {
     "name": "stderr",
     "output_type": "stream",
     "text": [
      "INFO:     Started server process [108280]\n",
      "INFO:     Waiting for application startup.\n",
      "INFO:     Application startup complete.\n",
      "INFO:     Uvicorn running on http://127.0.0.1:8000 (Press CTRL+C to quit)\n",
      "INFO:     Shutting down\n",
      "INFO:     Waiting for application shutdown.\n",
      "INFO:     Application shutdown complete.\n",
      "INFO:     Finished server process [108280]\n"
     ]
    },
    {
     "ename": "KeyboardInterrupt",
     "evalue": "",
     "output_type": "error",
     "traceback": [
      "\u001b[0;31m---------------------------------------------------------------------------\u001b[0m",
      "\u001b[0;31mKeyboardInterrupt\u001b[0m                         Traceback (most recent call last)",
      "\u001b[0;32m/tmp/ipykernel_108280/662792049.py\u001b[0m in \u001b[0;36m<cell line: 17>\u001b[0;34m()\u001b[0m\n\u001b[1;32m     15\u001b[0m \u001b[0;34m\u001b[0m\u001b[0m\n\u001b[1;32m     16\u001b[0m \u001b[0;31m# finally run the app\u001b[0m\u001b[0;34m\u001b[0m\u001b[0;34m\u001b[0m\u001b[0m\n\u001b[0;32m---> 17\u001b[0;31m \u001b[0muvicorn\u001b[0m\u001b[0;34m.\u001b[0m\u001b[0mrun\u001b[0m\u001b[0;34m(\u001b[0m\u001b[0mapp\u001b[0m\u001b[0;34m,\u001b[0m \u001b[0mport\u001b[0m\u001b[0;34m=\u001b[0m\u001b[0mport\u001b[0m\u001b[0;34m)\u001b[0m\u001b[0;34m\u001b[0m\u001b[0;34m\u001b[0m\u001b[0m\n\u001b[0m",
      "\u001b[0;32m~/anaconda3/envs/torch/lib/python3.9/site-packages/uvicorn/main.py\u001b[0m in \u001b[0;36mrun\u001b[0;34m(app, host, port, uds, fd, loop, http, ws, ws_max_size, ws_max_queue, ws_ping_interval, ws_ping_timeout, ws_per_message_deflate, lifespan, interface, reload, reload_dirs, reload_includes, reload_excludes, reload_delay, workers, env_file, log_config, log_level, access_log, proxy_headers, server_header, date_header, forwarded_allow_ips, root_path, limit_concurrency, backlog, limit_max_requests, timeout_keep_alive, timeout_graceful_shutdown, ssl_keyfile, ssl_certfile, ssl_keyfile_password, ssl_version, ssl_cert_reqs, ssl_ca_certs, ssl_ciphers, headers, use_colors, app_dir, factory, h11_max_incomplete_event_size)\u001b[0m\n\u001b[1;32m    575\u001b[0m             \u001b[0mMultiprocess\u001b[0m\u001b[0;34m(\u001b[0m\u001b[0mconfig\u001b[0m\u001b[0;34m,\u001b[0m \u001b[0mtarget\u001b[0m\u001b[0;34m=\u001b[0m\u001b[0mserver\u001b[0m\u001b[0;34m.\u001b[0m\u001b[0mrun\u001b[0m\u001b[0;34m,\u001b[0m \u001b[0msockets\u001b[0m\u001b[0;34m=\u001b[0m\u001b[0;34m[\u001b[0m\u001b[0msock\u001b[0m\u001b[0;34m]\u001b[0m\u001b[0;34m)\u001b[0m\u001b[0;34m.\u001b[0m\u001b[0mrun\u001b[0m\u001b[0;34m(\u001b[0m\u001b[0;34m)\u001b[0m\u001b[0;34m\u001b[0m\u001b[0;34m\u001b[0m\u001b[0m\n\u001b[1;32m    576\u001b[0m         \u001b[0;32melse\u001b[0m\u001b[0;34m:\u001b[0m\u001b[0;34m\u001b[0m\u001b[0;34m\u001b[0m\u001b[0m\n\u001b[0;32m--> 577\u001b[0;31m             \u001b[0mserver\u001b[0m\u001b[0;34m.\u001b[0m\u001b[0mrun\u001b[0m\u001b[0;34m(\u001b[0m\u001b[0;34m)\u001b[0m\u001b[0;34m\u001b[0m\u001b[0;34m\u001b[0m\u001b[0m\n\u001b[0m\u001b[1;32m    578\u001b[0m     \u001b[0;32mfinally\u001b[0m\u001b[0;34m:\u001b[0m\u001b[0;34m\u001b[0m\u001b[0;34m\u001b[0m\u001b[0m\n\u001b[1;32m    579\u001b[0m         \u001b[0;32mif\u001b[0m \u001b[0mconfig\u001b[0m\u001b[0;34m.\u001b[0m\u001b[0muds\u001b[0m \u001b[0;32mand\u001b[0m \u001b[0mos\u001b[0m\u001b[0;34m.\u001b[0m\u001b[0mpath\u001b[0m\u001b[0;34m.\u001b[0m\u001b[0mexists\u001b[0m\u001b[0;34m(\u001b[0m\u001b[0mconfig\u001b[0m\u001b[0;34m.\u001b[0m\u001b[0muds\u001b[0m\u001b[0;34m)\u001b[0m\u001b[0;34m:\u001b[0m\u001b[0;34m\u001b[0m\u001b[0;34m\u001b[0m\u001b[0m\n",
      "\u001b[0;32m~/anaconda3/envs/torch/lib/python3.9/site-packages/uvicorn/server.py\u001b[0m in \u001b[0;36mrun\u001b[0;34m(self, sockets)\u001b[0m\n\u001b[1;32m     63\u001b[0m     \u001b[0;32mdef\u001b[0m \u001b[0mrun\u001b[0m\u001b[0;34m(\u001b[0m\u001b[0mself\u001b[0m\u001b[0;34m,\u001b[0m \u001b[0msockets\u001b[0m\u001b[0;34m:\u001b[0m \u001b[0mlist\u001b[0m\u001b[0;34m[\u001b[0m\u001b[0msocket\u001b[0m\u001b[0;34m.\u001b[0m\u001b[0msocket\u001b[0m\u001b[0;34m]\u001b[0m \u001b[0;34m|\u001b[0m \u001b[0;32mNone\u001b[0m \u001b[0;34m=\u001b[0m \u001b[0;32mNone\u001b[0m\u001b[0;34m)\u001b[0m \u001b[0;34m->\u001b[0m \u001b[0;32mNone\u001b[0m\u001b[0;34m:\u001b[0m\u001b[0;34m\u001b[0m\u001b[0;34m\u001b[0m\u001b[0m\n\u001b[1;32m     64\u001b[0m         \u001b[0mself\u001b[0m\u001b[0;34m.\u001b[0m\u001b[0mconfig\u001b[0m\u001b[0;34m.\u001b[0m\u001b[0msetup_event_loop\u001b[0m\u001b[0;34m(\u001b[0m\u001b[0;34m)\u001b[0m\u001b[0;34m\u001b[0m\u001b[0;34m\u001b[0m\u001b[0m\n\u001b[0;32m---> 65\u001b[0;31m         \u001b[0;32mreturn\u001b[0m \u001b[0masyncio\u001b[0m\u001b[0;34m.\u001b[0m\u001b[0mrun\u001b[0m\u001b[0;34m(\u001b[0m\u001b[0mself\u001b[0m\u001b[0;34m.\u001b[0m\u001b[0mserve\u001b[0m\u001b[0;34m(\u001b[0m\u001b[0msockets\u001b[0m\u001b[0;34m=\u001b[0m\u001b[0msockets\u001b[0m\u001b[0;34m)\u001b[0m\u001b[0;34m)\u001b[0m\u001b[0;34m\u001b[0m\u001b[0;34m\u001b[0m\u001b[0m\n\u001b[0m\u001b[1;32m     66\u001b[0m \u001b[0;34m\u001b[0m\u001b[0m\n\u001b[1;32m     67\u001b[0m     \u001b[0;32masync\u001b[0m \u001b[0;32mdef\u001b[0m \u001b[0mserve\u001b[0m\u001b[0;34m(\u001b[0m\u001b[0mself\u001b[0m\u001b[0;34m,\u001b[0m \u001b[0msockets\u001b[0m\u001b[0;34m:\u001b[0m \u001b[0mlist\u001b[0m\u001b[0;34m[\u001b[0m\u001b[0msocket\u001b[0m\u001b[0;34m.\u001b[0m\u001b[0msocket\u001b[0m\u001b[0;34m]\u001b[0m \u001b[0;34m|\u001b[0m \u001b[0;32mNone\u001b[0m \u001b[0;34m=\u001b[0m \u001b[0;32mNone\u001b[0m\u001b[0;34m)\u001b[0m \u001b[0;34m->\u001b[0m \u001b[0;32mNone\u001b[0m\u001b[0;34m:\u001b[0m\u001b[0;34m\u001b[0m\u001b[0;34m\u001b[0m\u001b[0m\n",
      "\u001b[0;32m~/anaconda3/envs/torch/lib/python3.9/site-packages/nest_asyncio.py\u001b[0m in \u001b[0;36mrun\u001b[0;34m(main, debug)\u001b[0m\n\u001b[1;32m     33\u001b[0m         \u001b[0mtask\u001b[0m \u001b[0;34m=\u001b[0m \u001b[0masyncio\u001b[0m\u001b[0;34m.\u001b[0m\u001b[0mensure_future\u001b[0m\u001b[0;34m(\u001b[0m\u001b[0mmain\u001b[0m\u001b[0;34m)\u001b[0m\u001b[0;34m\u001b[0m\u001b[0;34m\u001b[0m\u001b[0m\n\u001b[1;32m     34\u001b[0m         \u001b[0;32mtry\u001b[0m\u001b[0;34m:\u001b[0m\u001b[0;34m\u001b[0m\u001b[0;34m\u001b[0m\u001b[0m\n\u001b[0;32m---> 35\u001b[0;31m             \u001b[0;32mreturn\u001b[0m \u001b[0mloop\u001b[0m\u001b[0;34m.\u001b[0m\u001b[0mrun_until_complete\u001b[0m\u001b[0;34m(\u001b[0m\u001b[0mtask\u001b[0m\u001b[0;34m)\u001b[0m\u001b[0;34m\u001b[0m\u001b[0;34m\u001b[0m\u001b[0m\n\u001b[0m\u001b[1;32m     36\u001b[0m         \u001b[0;32mfinally\u001b[0m\u001b[0;34m:\u001b[0m\u001b[0;34m\u001b[0m\u001b[0;34m\u001b[0m\u001b[0m\n\u001b[1;32m     37\u001b[0m             \u001b[0;32mif\u001b[0m \u001b[0;32mnot\u001b[0m \u001b[0mtask\u001b[0m\u001b[0;34m.\u001b[0m\u001b[0mdone\u001b[0m\u001b[0;34m(\u001b[0m\u001b[0;34m)\u001b[0m\u001b[0;34m:\u001b[0m\u001b[0;34m\u001b[0m\u001b[0;34m\u001b[0m\u001b[0m\n",
      "\u001b[0;32m~/anaconda3/envs/torch/lib/python3.9/site-packages/nest_asyncio.py\u001b[0m in \u001b[0;36mrun_until_complete\u001b[0;34m(self, future)\u001b[0m\n\u001b[1;32m     81\u001b[0m                 \u001b[0mf\u001b[0m\u001b[0;34m.\u001b[0m\u001b[0m_log_destroy_pending\u001b[0m \u001b[0;34m=\u001b[0m \u001b[0;32mFalse\u001b[0m\u001b[0;34m\u001b[0m\u001b[0;34m\u001b[0m\u001b[0m\n\u001b[1;32m     82\u001b[0m             \u001b[0;32mwhile\u001b[0m \u001b[0;32mnot\u001b[0m \u001b[0mf\u001b[0m\u001b[0;34m.\u001b[0m\u001b[0mdone\u001b[0m\u001b[0;34m(\u001b[0m\u001b[0;34m)\u001b[0m\u001b[0;34m:\u001b[0m\u001b[0;34m\u001b[0m\u001b[0;34m\u001b[0m\u001b[0m\n\u001b[0;32m---> 83\u001b[0;31m                 \u001b[0mself\u001b[0m\u001b[0;34m.\u001b[0m\u001b[0m_run_once\u001b[0m\u001b[0;34m(\u001b[0m\u001b[0;34m)\u001b[0m\u001b[0;34m\u001b[0m\u001b[0;34m\u001b[0m\u001b[0m\n\u001b[0m\u001b[1;32m     84\u001b[0m                 \u001b[0;32mif\u001b[0m \u001b[0mself\u001b[0m\u001b[0;34m.\u001b[0m\u001b[0m_stopping\u001b[0m\u001b[0;34m:\u001b[0m\u001b[0;34m\u001b[0m\u001b[0;34m\u001b[0m\u001b[0m\n\u001b[1;32m     85\u001b[0m                     \u001b[0;32mbreak\u001b[0m\u001b[0;34m\u001b[0m\u001b[0;34m\u001b[0m\u001b[0m\n",
      "\u001b[0;32m~/anaconda3/envs/torch/lib/python3.9/site-packages/nest_asyncio.py\u001b[0m in \u001b[0;36m_run_once\u001b[0;34m(self)\u001b[0m\n\u001b[1;32m    117\u001b[0m             \u001b[0mhandle\u001b[0m \u001b[0;34m=\u001b[0m \u001b[0mready\u001b[0m\u001b[0;34m.\u001b[0m\u001b[0mpopleft\u001b[0m\u001b[0;34m(\u001b[0m\u001b[0;34m)\u001b[0m\u001b[0;34m\u001b[0m\u001b[0;34m\u001b[0m\u001b[0m\n\u001b[1;32m    118\u001b[0m             \u001b[0;32mif\u001b[0m \u001b[0;32mnot\u001b[0m \u001b[0mhandle\u001b[0m\u001b[0;34m.\u001b[0m\u001b[0m_cancelled\u001b[0m\u001b[0;34m:\u001b[0m\u001b[0;34m\u001b[0m\u001b[0;34m\u001b[0m\u001b[0m\n\u001b[0;32m--> 119\u001b[0;31m                 \u001b[0mhandle\u001b[0m\u001b[0;34m.\u001b[0m\u001b[0m_run\u001b[0m\u001b[0;34m(\u001b[0m\u001b[0;34m)\u001b[0m\u001b[0;34m\u001b[0m\u001b[0;34m\u001b[0m\u001b[0m\n\u001b[0m\u001b[1;32m    120\u001b[0m         \u001b[0mhandle\u001b[0m \u001b[0;34m=\u001b[0m \u001b[0;32mNone\u001b[0m\u001b[0;34m\u001b[0m\u001b[0;34m\u001b[0m\u001b[0m\n\u001b[1;32m    121\u001b[0m \u001b[0;34m\u001b[0m\u001b[0m\n",
      "\u001b[0;32m~/anaconda3/envs/torch/lib/python3.9/asyncio/events.py\u001b[0m in \u001b[0;36m_run\u001b[0;34m(self)\u001b[0m\n\u001b[1;32m     78\u001b[0m     \u001b[0;32mdef\u001b[0m \u001b[0m_run\u001b[0m\u001b[0;34m(\u001b[0m\u001b[0mself\u001b[0m\u001b[0;34m)\u001b[0m\u001b[0;34m:\u001b[0m\u001b[0;34m\u001b[0m\u001b[0;34m\u001b[0m\u001b[0m\n\u001b[1;32m     79\u001b[0m         \u001b[0;32mtry\u001b[0m\u001b[0;34m:\u001b[0m\u001b[0;34m\u001b[0m\u001b[0;34m\u001b[0m\u001b[0m\n\u001b[0;32m---> 80\u001b[0;31m             \u001b[0mself\u001b[0m\u001b[0;34m.\u001b[0m\u001b[0m_context\u001b[0m\u001b[0;34m.\u001b[0m\u001b[0mrun\u001b[0m\u001b[0;34m(\u001b[0m\u001b[0mself\u001b[0m\u001b[0;34m.\u001b[0m\u001b[0m_callback\u001b[0m\u001b[0;34m,\u001b[0m \u001b[0;34m*\u001b[0m\u001b[0mself\u001b[0m\u001b[0;34m.\u001b[0m\u001b[0m_args\u001b[0m\u001b[0;34m)\u001b[0m\u001b[0;34m\u001b[0m\u001b[0;34m\u001b[0m\u001b[0m\n\u001b[0m\u001b[1;32m     81\u001b[0m         \u001b[0;32mexcept\u001b[0m \u001b[0;34m(\u001b[0m\u001b[0mSystemExit\u001b[0m\u001b[0;34m,\u001b[0m \u001b[0mKeyboardInterrupt\u001b[0m\u001b[0;34m)\u001b[0m\u001b[0;34m:\u001b[0m\u001b[0;34m\u001b[0m\u001b[0;34m\u001b[0m\u001b[0m\n\u001b[1;32m     82\u001b[0m             \u001b[0;32mraise\u001b[0m\u001b[0;34m\u001b[0m\u001b[0;34m\u001b[0m\u001b[0m\n",
      "\u001b[0;32m~/anaconda3/envs/torch/lib/python3.9/asyncio/tasks.py\u001b[0m in \u001b[0;36m__wakeup\u001b[0;34m(self, future)\u001b[0m\n\u001b[1;32m    337\u001b[0m             \u001b[0;31m# instead of `__next__()`, which is slower for futures\u001b[0m\u001b[0;34m\u001b[0m\u001b[0;34m\u001b[0m\u001b[0m\n\u001b[1;32m    338\u001b[0m             \u001b[0;31m# that return non-generator iterators from their `__iter__`.\u001b[0m\u001b[0;34m\u001b[0m\u001b[0;34m\u001b[0m\u001b[0m\n\u001b[0;32m--> 339\u001b[0;31m             \u001b[0mself\u001b[0m\u001b[0;34m.\u001b[0m\u001b[0m__step\u001b[0m\u001b[0;34m(\u001b[0m\u001b[0;34m)\u001b[0m\u001b[0;34m\u001b[0m\u001b[0;34m\u001b[0m\u001b[0m\n\u001b[0m\u001b[1;32m    340\u001b[0m         \u001b[0mself\u001b[0m \u001b[0;34m=\u001b[0m \u001b[0;32mNone\u001b[0m  \u001b[0;31m# Needed to break cycles when an exception occurs.\u001b[0m\u001b[0;34m\u001b[0m\u001b[0;34m\u001b[0m\u001b[0m\n\u001b[1;32m    341\u001b[0m \u001b[0;34m\u001b[0m\u001b[0m\n",
      "\u001b[0;32m~/anaconda3/envs/torch/lib/python3.9/site-packages/nest_asyncio.py\u001b[0m in \u001b[0;36mstep\u001b[0;34m(task, exc)\u001b[0m\n\u001b[1;32m    193\u001b[0m         \u001b[0mcurr_task\u001b[0m \u001b[0;34m=\u001b[0m \u001b[0mcurr_tasks\u001b[0m\u001b[0;34m.\u001b[0m\u001b[0mget\u001b[0m\u001b[0;34m(\u001b[0m\u001b[0mtask\u001b[0m\u001b[0;34m.\u001b[0m\u001b[0m_loop\u001b[0m\u001b[0;34m)\u001b[0m\u001b[0;34m\u001b[0m\u001b[0;34m\u001b[0m\u001b[0m\n\u001b[1;32m    194\u001b[0m         \u001b[0;32mtry\u001b[0m\u001b[0;34m:\u001b[0m\u001b[0;34m\u001b[0m\u001b[0;34m\u001b[0m\u001b[0m\n\u001b[0;32m--> 195\u001b[0;31m             \u001b[0mstep_orig\u001b[0m\u001b[0;34m(\u001b[0m\u001b[0mtask\u001b[0m\u001b[0;34m,\u001b[0m \u001b[0mexc\u001b[0m\u001b[0;34m)\u001b[0m\u001b[0;34m\u001b[0m\u001b[0;34m\u001b[0m\u001b[0m\n\u001b[0m\u001b[1;32m    196\u001b[0m         \u001b[0;32mfinally\u001b[0m\u001b[0;34m:\u001b[0m\u001b[0;34m\u001b[0m\u001b[0;34m\u001b[0m\u001b[0m\n\u001b[1;32m    197\u001b[0m             \u001b[0;32mif\u001b[0m \u001b[0mcurr_task\u001b[0m \u001b[0;32mis\u001b[0m \u001b[0;32mNone\u001b[0m\u001b[0;34m:\u001b[0m\u001b[0;34m\u001b[0m\u001b[0;34m\u001b[0m\u001b[0m\n",
      "\u001b[0;32m~/anaconda3/envs/torch/lib/python3.9/asyncio/tasks.py\u001b[0m in \u001b[0;36m__step\u001b[0;34m(***failed resolving arguments***)\u001b[0m\n\u001b[1;32m    254\u001b[0m                 \u001b[0;31m# We use the `send` method directly, because coroutines\u001b[0m\u001b[0;34m\u001b[0m\u001b[0;34m\u001b[0m\u001b[0m\n\u001b[1;32m    255\u001b[0m                 \u001b[0;31m# don't have `__iter__` and `__next__` methods.\u001b[0m\u001b[0;34m\u001b[0m\u001b[0;34m\u001b[0m\u001b[0m\n\u001b[0;32m--> 256\u001b[0;31m                 \u001b[0mresult\u001b[0m \u001b[0;34m=\u001b[0m \u001b[0mcoro\u001b[0m\u001b[0;34m.\u001b[0m\u001b[0msend\u001b[0m\u001b[0;34m(\u001b[0m\u001b[0;32mNone\u001b[0m\u001b[0;34m)\u001b[0m\u001b[0;34m\u001b[0m\u001b[0;34m\u001b[0m\u001b[0m\n\u001b[0m\u001b[1;32m    257\u001b[0m             \u001b[0;32melse\u001b[0m\u001b[0;34m:\u001b[0m\u001b[0;34m\u001b[0m\u001b[0;34m\u001b[0m\u001b[0m\n\u001b[1;32m    258\u001b[0m                 \u001b[0mresult\u001b[0m \u001b[0;34m=\u001b[0m \u001b[0mcoro\u001b[0m\u001b[0;34m.\u001b[0m\u001b[0mthrow\u001b[0m\u001b[0;34m(\u001b[0m\u001b[0mexc\u001b[0m\u001b[0;34m)\u001b[0m\u001b[0;34m\u001b[0m\u001b[0;34m\u001b[0m\u001b[0m\n",
      "\u001b[0;32m~/anaconda3/envs/torch/lib/python3.9/site-packages/uvicorn/server.py\u001b[0m in \u001b[0;36mserve\u001b[0;34m(self, sockets)\u001b[0m\n\u001b[1;32m     67\u001b[0m     \u001b[0;32masync\u001b[0m \u001b[0;32mdef\u001b[0m \u001b[0mserve\u001b[0m\u001b[0;34m(\u001b[0m\u001b[0mself\u001b[0m\u001b[0;34m,\u001b[0m \u001b[0msockets\u001b[0m\u001b[0;34m:\u001b[0m \u001b[0mlist\u001b[0m\u001b[0;34m[\u001b[0m\u001b[0msocket\u001b[0m\u001b[0;34m.\u001b[0m\u001b[0msocket\u001b[0m\u001b[0;34m]\u001b[0m \u001b[0;34m|\u001b[0m \u001b[0;32mNone\u001b[0m \u001b[0;34m=\u001b[0m \u001b[0;32mNone\u001b[0m\u001b[0;34m)\u001b[0m \u001b[0;34m->\u001b[0m \u001b[0;32mNone\u001b[0m\u001b[0;34m:\u001b[0m\u001b[0;34m\u001b[0m\u001b[0;34m\u001b[0m\u001b[0m\n\u001b[1;32m     68\u001b[0m         \u001b[0;32mwith\u001b[0m \u001b[0mself\u001b[0m\u001b[0;34m.\u001b[0m\u001b[0mcapture_signals\u001b[0m\u001b[0;34m(\u001b[0m\u001b[0;34m)\u001b[0m\u001b[0;34m:\u001b[0m\u001b[0;34m\u001b[0m\u001b[0;34m\u001b[0m\u001b[0m\n\u001b[0;32m---> 69\u001b[0;31m             \u001b[0;32mawait\u001b[0m \u001b[0mself\u001b[0m\u001b[0;34m.\u001b[0m\u001b[0m_serve\u001b[0m\u001b[0;34m(\u001b[0m\u001b[0msockets\u001b[0m\u001b[0;34m)\u001b[0m\u001b[0;34m\u001b[0m\u001b[0;34m\u001b[0m\u001b[0m\n\u001b[0m\u001b[1;32m     70\u001b[0m \u001b[0;34m\u001b[0m\u001b[0m\n\u001b[1;32m     71\u001b[0m     \u001b[0;32masync\u001b[0m \u001b[0;32mdef\u001b[0m \u001b[0m_serve\u001b[0m\u001b[0;34m(\u001b[0m\u001b[0mself\u001b[0m\u001b[0;34m,\u001b[0m \u001b[0msockets\u001b[0m\u001b[0;34m:\u001b[0m \u001b[0mlist\u001b[0m\u001b[0;34m[\u001b[0m\u001b[0msocket\u001b[0m\u001b[0;34m.\u001b[0m\u001b[0msocket\u001b[0m\u001b[0;34m]\u001b[0m \u001b[0;34m|\u001b[0m \u001b[0;32mNone\u001b[0m \u001b[0;34m=\u001b[0m \u001b[0;32mNone\u001b[0m\u001b[0;34m)\u001b[0m \u001b[0;34m->\u001b[0m \u001b[0;32mNone\u001b[0m\u001b[0;34m:\u001b[0m\u001b[0;34m\u001b[0m\u001b[0;34m\u001b[0m\u001b[0m\n",
      "\u001b[0;32m~/anaconda3/envs/torch/lib/python3.9/contextlib.py\u001b[0m in \u001b[0;36m__exit__\u001b[0;34m(self, typ, value, traceback)\u001b[0m\n\u001b[1;32m    124\u001b[0m         \u001b[0;32mif\u001b[0m \u001b[0mtyp\u001b[0m \u001b[0;32mis\u001b[0m \u001b[0;32mNone\u001b[0m\u001b[0;34m:\u001b[0m\u001b[0;34m\u001b[0m\u001b[0;34m\u001b[0m\u001b[0m\n\u001b[1;32m    125\u001b[0m             \u001b[0;32mtry\u001b[0m\u001b[0;34m:\u001b[0m\u001b[0;34m\u001b[0m\u001b[0;34m\u001b[0m\u001b[0m\n\u001b[0;32m--> 126\u001b[0;31m                 \u001b[0mnext\u001b[0m\u001b[0;34m(\u001b[0m\u001b[0mself\u001b[0m\u001b[0;34m.\u001b[0m\u001b[0mgen\u001b[0m\u001b[0;34m)\u001b[0m\u001b[0;34m\u001b[0m\u001b[0;34m\u001b[0m\u001b[0m\n\u001b[0m\u001b[1;32m    127\u001b[0m             \u001b[0;32mexcept\u001b[0m \u001b[0mStopIteration\u001b[0m\u001b[0;34m:\u001b[0m\u001b[0;34m\u001b[0m\u001b[0;34m\u001b[0m\u001b[0m\n\u001b[1;32m    128\u001b[0m                 \u001b[0;32mreturn\u001b[0m \u001b[0;32mFalse\u001b[0m\u001b[0;34m\u001b[0m\u001b[0;34m\u001b[0m\u001b[0m\n",
      "\u001b[0;32m~/anaconda3/envs/torch/lib/python3.9/site-packages/uvicorn/server.py\u001b[0m in \u001b[0;36mcapture_signals\u001b[0;34m(self)\u001b[0m\n\u001b[1;32m    326\u001b[0m         \u001b[0;31m# done LIFO, see https://stackoverflow.com/questions/48434964\u001b[0m\u001b[0;34m\u001b[0m\u001b[0;34m\u001b[0m\u001b[0m\n\u001b[1;32m    327\u001b[0m         \u001b[0;32mfor\u001b[0m \u001b[0mcaptured_signal\u001b[0m \u001b[0;32min\u001b[0m \u001b[0mreversed\u001b[0m\u001b[0;34m(\u001b[0m\u001b[0mself\u001b[0m\u001b[0;34m.\u001b[0m\u001b[0m_captured_signals\u001b[0m\u001b[0;34m)\u001b[0m\u001b[0;34m:\u001b[0m\u001b[0;34m\u001b[0m\u001b[0;34m\u001b[0m\u001b[0m\n\u001b[0;32m--> 328\u001b[0;31m             \u001b[0msignal\u001b[0m\u001b[0;34m.\u001b[0m\u001b[0mraise_signal\u001b[0m\u001b[0;34m(\u001b[0m\u001b[0mcaptured_signal\u001b[0m\u001b[0;34m)\u001b[0m\u001b[0;34m\u001b[0m\u001b[0;34m\u001b[0m\u001b[0m\n\u001b[0m\u001b[1;32m    329\u001b[0m \u001b[0;34m\u001b[0m\u001b[0m\n\u001b[1;32m    330\u001b[0m     \u001b[0;32mdef\u001b[0m \u001b[0mhandle_exit\u001b[0m\u001b[0;34m(\u001b[0m\u001b[0mself\u001b[0m\u001b[0;34m,\u001b[0m \u001b[0msig\u001b[0m\u001b[0;34m:\u001b[0m \u001b[0mint\u001b[0m\u001b[0;34m,\u001b[0m \u001b[0mframe\u001b[0m\u001b[0;34m:\u001b[0m \u001b[0mFrameType\u001b[0m \u001b[0;34m|\u001b[0m \u001b[0;32mNone\u001b[0m\u001b[0;34m)\u001b[0m \u001b[0;34m->\u001b[0m \u001b[0;32mNone\u001b[0m\u001b[0;34m:\u001b[0m\u001b[0;34m\u001b[0m\u001b[0;34m\u001b[0m\u001b[0m\n",
      "\u001b[0;31mKeyboardInterrupt\u001b[0m: "
     ]
    }
   ],
   "source": [
    "import nest_asyncio\n",
    "from pyngrok import ngrok\n",
    "import uvicorn\n",
    "\n",
    "\n",
    "# specify a port\n",
    "port = 8000\n",
    "ngrok_tunnel = ngrok.connect(port)\n",
    "\n",
    "# where we can visit our fastAPI app\n",
    "print('Public URL:', ngrok_tunnel.public_url)\n",
    "\n",
    "\n",
    "nest_asyncio.apply()\n",
    "\n",
    "# finally run the app\n",
    "uvicorn.run(app, port=port)"
   ]
  },
  {
   "cell_type": "code",
   "execution_count": 23,
   "metadata": {},
   "outputs": [
    {
     "name": "stdout",
     "output_type": "stream",
     "text": [
      "Collecting streamlit\n",
      "  Using cached streamlit-1.35.0-py2.py3-none-any.whl (8.6 MB)\n",
      "Requirement already satisfied: numpy<2,>=1.19.3 in /home/yagor/anaconda3/envs/torch/lib/python3.9/site-packages (from streamlit) (1.23.1)\n",
      "Requirement already satisfied: pyarrow>=7.0 in /home/yagor/anaconda3/envs/torch/lib/python3.9/site-packages (from streamlit) (15.0.0)\n",
      "Requirement already satisfied: rich<14,>=10.14.0 in /home/yagor/anaconda3/envs/torch/lib/python3.9/site-packages (from streamlit) (13.7.1)\n",
      "Requirement already satisfied: pandas<3,>=1.3.0 in /home/yagor/anaconda3/envs/torch/lib/python3.9/site-packages (from streamlit) (1.4.3)\n",
      "Requirement already satisfied: blinker<2,>=1.0.0 in /home/yagor/anaconda3/envs/torch/lib/python3.9/site-packages (from streamlit) (1.5)\n",
      "Requirement already satisfied: click<9,>=7.0 in /home/yagor/anaconda3/envs/torch/lib/python3.9/site-packages (from streamlit) (8.1.3)\n",
      "Requirement already satisfied: tenacity<9,>=8.1.0 in /home/yagor/anaconda3/envs/torch/lib/python3.9/site-packages (from streamlit) (8.2.2)\n",
      "Requirement already satisfied: cachetools<6,>=4.0 in /home/yagor/anaconda3/envs/torch/lib/python3.9/site-packages (from streamlit) (5.2.0)\n",
      "Requirement already satisfied: altair<6,>=4.0 in /home/yagor/anaconda3/envs/torch/lib/python3.9/site-packages (from streamlit) (5.3.0)\n",
      "Requirement already satisfied: tornado<7,>=6.0.3 in /home/yagor/anaconda3/envs/torch/lib/python3.9/site-packages (from streamlit) (6.2)\n",
      "Requirement already satisfied: pillow<11,>=7.1.0 in /home/yagor/anaconda3/envs/torch/lib/python3.9/site-packages (from streamlit) (9.2.0)\n",
      "Requirement already satisfied: gitpython!=3.1.19,<4,>=3.0.7 in /home/yagor/anaconda3/envs/torch/lib/python3.9/site-packages (from streamlit) (3.1.29)\n",
      "Collecting pydeck<1,>=0.8.0b4\n",
      "  Downloading pydeck-0.9.1-py2.py3-none-any.whl (6.9 MB)\n",
      "\u001b[2K     \u001b[90m━━━━━━━━━━━━━━━━━━━━━━━━━━━━━━━━━━━━━━━━\u001b[0m \u001b[32m6.9/6.9 MB\u001b[0m \u001b[31m6.3 MB/s\u001b[0m eta \u001b[36m0:00:00\u001b[0m00:01\u001b[0m00:01\u001b[0m0m\n",
      "\u001b[?25hRequirement already satisfied: protobuf<5,>=3.20 in /home/yagor/anaconda3/envs/torch/lib/python3.9/site-packages (from streamlit) (3.20.3)\n",
      "Requirement already satisfied: requests<3,>=2.27 in /home/yagor/anaconda3/envs/torch/lib/python3.9/site-packages (from streamlit) (2.32.3)\n",
      "Requirement already satisfied: typing-extensions<5,>=4.3.0 in /home/yagor/anaconda3/envs/torch/lib/python3.9/site-packages (from streamlit) (4.8.0)\n",
      "Collecting watchdog>=2.1.5\n",
      "  Downloading watchdog-4.0.1-py3-none-manylinux2014_x86_64.whl (83 kB)\n",
      "\u001b[2K     \u001b[90m━━━━━━━━━━━━━━━━━━━━━━━━━━━━━━━━━━━━━━━━\u001b[0m \u001b[32m83.0/83.0 kB\u001b[0m \u001b[31m5.6 MB/s\u001b[0m eta \u001b[36m0:00:00\u001b[0m\n",
      "\u001b[?25hCollecting toml<2,>=0.10.1\n",
      "  Using cached toml-0.10.2-py2.py3-none-any.whl (16 kB)\n",
      "Requirement already satisfied: packaging<25,>=16.8 in /home/yagor/anaconda3/envs/torch/lib/python3.9/site-packages (from streamlit) (23.2)\n",
      "Requirement already satisfied: toolz in /home/yagor/anaconda3/envs/torch/lib/python3.9/site-packages (from altair<6,>=4.0->streamlit) (0.11.2)\n",
      "Requirement already satisfied: jsonschema>=3.0 in /home/yagor/anaconda3/envs/torch/lib/python3.9/site-packages (from altair<6,>=4.0->streamlit) (4.16.0)\n",
      "Requirement already satisfied: jinja2 in /home/yagor/anaconda3/envs/torch/lib/python3.9/site-packages (from altair<6,>=4.0->streamlit) (3.0.3)\n",
      "Requirement already satisfied: gitdb<5,>=4.0.1 in /home/yagor/anaconda3/envs/torch/lib/python3.9/site-packages (from gitpython!=3.1.19,<4,>=3.0.7->streamlit) (4.0.9)\n",
      "Requirement already satisfied: python-dateutil>=2.8.1 in /home/yagor/anaconda3/envs/torch/lib/python3.9/site-packages (from pandas<3,>=1.3.0->streamlit) (2.8.2)\n",
      "Requirement already satisfied: pytz>=2020.1 in /home/yagor/anaconda3/envs/torch/lib/python3.9/site-packages (from pandas<3,>=1.3.0->streamlit) (2022.1)\n",
      "Requirement already satisfied: idna<4,>=2.5 in /home/yagor/anaconda3/envs/torch/lib/python3.9/site-packages (from requests<3,>=2.27->streamlit) (3.4)\n",
      "Requirement already satisfied: charset-normalizer<4,>=2 in /home/yagor/anaconda3/envs/torch/lib/python3.9/site-packages (from requests<3,>=2.27->streamlit) (2.1.1)\n",
      "Requirement already satisfied: urllib3<3,>=1.21.1 in /home/yagor/anaconda3/envs/torch/lib/python3.9/site-packages (from requests<3,>=2.27->streamlit) (2.2.1)\n",
      "Requirement already satisfied: certifi>=2017.4.17 in /home/yagor/anaconda3/envs/torch/lib/python3.9/site-packages (from requests<3,>=2.27->streamlit) (2023.7.22)\n",
      "Requirement already satisfied: pygments<3.0.0,>=2.13.0 in /home/yagor/anaconda3/envs/torch/lib/python3.9/site-packages (from rich<14,>=10.14.0->streamlit) (2.18.0)\n",
      "Requirement already satisfied: markdown-it-py>=2.2.0 in /home/yagor/anaconda3/envs/torch/lib/python3.9/site-packages (from rich<14,>=10.14.0->streamlit) (3.0.0)\n",
      "Requirement already satisfied: smmap<6,>=3.0.1 in /home/yagor/anaconda3/envs/torch/lib/python3.9/site-packages (from gitdb<5,>=4.0.1->gitpython!=3.1.19,<4,>=3.0.7->streamlit) (5.0.0)\n",
      "Requirement already satisfied: MarkupSafe>=2.0 in /home/yagor/anaconda3/envs/torch/lib/python3.9/site-packages (from jinja2->altair<6,>=4.0->streamlit) (2.1.1)\n",
      "Requirement already satisfied: pyrsistent!=0.17.0,!=0.17.1,!=0.17.2,>=0.14.0 in /home/yagor/anaconda3/envs/torch/lib/python3.9/site-packages (from jsonschema>=3.0->altair<6,>=4.0->streamlit) (0.18.0)\n",
      "Requirement already satisfied: attrs>=17.4.0 in /home/yagor/anaconda3/envs/torch/lib/python3.9/site-packages (from jsonschema>=3.0->altair<6,>=4.0->streamlit) (21.4.0)\n",
      "Requirement already satisfied: mdurl~=0.1 in /home/yagor/anaconda3/envs/torch/lib/python3.9/site-packages (from markdown-it-py>=2.2.0->rich<14,>=10.14.0->streamlit) (0.1.2)\n",
      "Requirement already satisfied: six>=1.5 in /home/yagor/anaconda3/envs/torch/lib/python3.9/site-packages (from python-dateutil>=2.8.1->pandas<3,>=1.3.0->streamlit) (1.16.0)\n",
      "Installing collected packages: watchdog, toml, pydeck, streamlit\n",
      "Successfully installed pydeck-0.9.1 streamlit-1.35.0 toml-0.10.2 watchdog-4.0.1\n"
     ]
    }
   ],
   "source": [
    "!pip install streamlit\n"
   ]
  },
  {
   "cell_type": "code",
   "execution_count": null,
   "metadata": {},
   "outputs": [],
   "source": []
  }
 ],
 "metadata": {
  "kernelspec": {
   "display_name": "torch",
   "language": "python",
   "name": "torch"
  },
  "language_info": {
   "codemirror_mode": {
    "name": "ipython",
    "version": 3
   },
   "file_extension": ".py",
   "mimetype": "text/x-python",
   "name": "python",
   "nbconvert_exporter": "python",
   "pygments_lexer": "ipython3",
   "version": "3.9.13"
  },
  "orig_nbformat": 4,
  "vscode": {
   "interpreter": {
    "hash": "13817f8bfaf6244a5bdc7f32f3f11f9be8f2d1244bd341f6811bf2e18438b9c9"
   }
  }
 },
 "nbformat": 4,
 "nbformat_minor": 2
}
