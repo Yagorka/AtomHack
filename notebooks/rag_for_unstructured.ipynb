{
 "cells": [
  {
   "cell_type": "code",
   "execution_count": 2,
   "metadata": {},
   "outputs": [],
   "source": [
    "import os\n",
    "from langchain_community.document_loaders.text import TextLoader\n",
    "from langchain_community.document_loaders import DirectoryLoader\n",
    "# from langchain_experimental.text_splitter import SemanticChunker\n",
    "from langchain_text_splitters import RecursiveCharacterTextSplitter\n",
    "# from yandex_chain import YandexEmbeddings\n",
    "from langchain_community.vectorstores import FAISS"
   ]
  },
  {
   "cell_type": "code",
   "execution_count": 3,
   "metadata": {},
   "outputs": [
    {
     "name": "stderr",
     "output_type": "stream",
     "text": [
      "100%|██████████| 1834/1834 [00:00<00:00, 20210.33it/s]\n"
     ]
    }
   ],
   "source": [
    "loader = DirectoryLoader(\"/home/yagor/Рабочий стол/atomic/AtomHack/data/txt_data\",\n",
    "                    glob=\"**/*.txt\",\n",
    "                    loader_cls=TextLoader,\n",
    "                    show_progress=True,\n",
    "                    loader_kwargs={\"encoding\":\"utf-8\"})\n",
    "\n",
    "data = loader.load()"
   ]
  },
  {
   "cell_type": "code",
   "execution_count": 4,
   "metadata": {},
   "outputs": [
    {
     "data": {
      "text/plain": [
       "Document(page_content=' \\n  Автор  ООО \"НПЦ \"1С\"  Концепция  миграции данных Инструкция \\nпользователей «D -1C1-1.10.39 Сверка \\nвзаиморасчетов с контрагентами»  Страница  14  \\nСтраниц  52  \\nВерсия   5  \\n  \\n Инструкция пользователей D -1C1 -1.10.39  \\nСверка взаиморасчетов с контрагентами  \\n  \\n  \\n   \\n \\nРисунок 5: Вкладка «Основное» документа «Акт инвентаризации расчетов»   \\nНа вкладке «Счета » устанавливаются счета расчета, по которым необходимо \\nпровести инвентаризацию. По кнопке « Настроить » можно выполнить настройку счетов \\n(Рисунок 6: Вкладка «Счета» документа «Акт инвентаризации расчетов» ).  \\n \\nРисунок 6: Вкладка «Счета» документа «Акт инвентаризации расчетов»   \\nПри нажатии на кнопку « Перезаполнить » происходит заполнение табличных частей \\nна вкладке « Счета » и « Задолженность » (Рисунок 7: Заполненная вкладка «Счета» ).  \\n', metadata={'source': '/home/yagor/Рабочий стол/atomic/AtomHack/data/txt_data/Инструкция_D_1C1_1_10_39_Сверка_взаиморасчетов_с_контрагентами/page_14.txt'})"
      ]
     },
     "execution_count": 4,
     "metadata": {},
     "output_type": "execute_result"
    }
   ],
   "source": [
    "data[0]"
   ]
  },
  {
   "cell_type": "code",
   "execution_count": 65,
   "metadata": {},
   "outputs": [],
   "source": [
    "text_splitter=RecursiveCharacterTextSplitter( # TODO: semantic chunking\n",
    "    chunk_size=1000, # TODO: tune this\n",
    "    chunk_overlap=70\n",
    ")\n",
    "\n",
    "chunks = text_splitter.split_documents(data)"
   ]
  },
  {
   "cell_type": "code",
   "execution_count": 66,
   "metadata": {},
   "outputs": [
    {
     "data": {
      "text/plain": [
       "Document(page_content='Автор  ООО \"НПЦ \"1С\"  Концепция  миграции данных Инструкция \\nпользователей «D -1C1-1.10.39 Сверка \\nвзаиморасчетов с контрагентами»  Страница  14  \\nСтраниц  52  \\nВерсия   5  \\n  \\n Инструкция пользователей D -1C1 -1.10.39  \\nСверка взаиморасчетов с контрагентами  \\n  \\n  \\n   \\n \\nРисунок 5: Вкладка «Основное» документа «Акт инвентаризации расчетов»   \\nНа вкладке «Счета » устанавливаются счета расчета, по которым необходимо \\nпровести инвентаризацию. По кнопке « Настроить » можно выполнить настройку счетов \\n(Рисунок 6: Вкладка «Счета» документа «Акт инвентаризации расчетов» ).  \\n \\nРисунок 6: Вкладка «Счета» документа «Акт инвентаризации расчетов»   \\nПри нажатии на кнопку « Перезаполнить » происходит заполнение табличных частей \\nна вкладке « Счета » и « Задолженность » (Рисунок 7: Заполненная вкладка «Счета» ).', metadata={'source': '/home/yagor/Рабочий стол/atomic/AtomHack/data/txt_data/Инструкция_D_1C1_1_10_39_Сверка_взаиморасчетов_с_контрагентами/page_14.txt'})"
      ]
     },
     "execution_count": 66,
     "metadata": {},
     "output_type": "execute_result"
    }
   ],
   "source": [
    "chunks[0]"
   ]
  },
  {
   "cell_type": "code",
   "execution_count": 67,
   "metadata": {},
   "outputs": [],
   "source": [
    "from langchain.vectorstores import FAISS\n",
    "from langchain.embeddings import HuggingFaceEmbeddings\n",
    "embeddings = HuggingFaceEmbeddings(model_name=\"cointegrated/LaBSE-en-ru\")\n",
    "db = FAISS.from_documents(chunks, embeddings)"
   ]
  },
  {
   "cell_type": "code",
   "execution_count": 68,
   "metadata": {},
   "outputs": [],
   "source": [
    "dir_name = 'unstructured_vdb'\n",
    "all_path_dir = os.path.join(\"..\", \"data\", dir_name)\n",
    "if not os.path.exists(all_path_dir):\n",
    "    os.makedirs(all_path_dir)"
   ]
  },
  {
   "cell_type": "code",
   "execution_count": 69,
   "metadata": {},
   "outputs": [],
   "source": [
    "faiss_vdb = \"index\""
   ]
  },
  {
   "cell_type": "code",
   "execution_count": 70,
   "metadata": {},
   "outputs": [],
   "source": [
    "db.save_local(all_path_dir, faiss_vdb)"
   ]
  },
  {
   "cell_type": "markdown",
   "metadata": {},
   "source": [
    "### Тестирование"
   ]
  },
  {
   "cell_type": "code",
   "execution_count": 71,
   "metadata": {},
   "outputs": [],
   "source": [
    "embeddings = HuggingFaceEmbeddings(model_name=\"cointegrated/LaBSE-en-ru\")"
   ]
  },
  {
   "cell_type": "code",
   "execution_count": 72,
   "metadata": {},
   "outputs": [],
   "source": [
    "# /home/yagor/Рабочий стол/atomic/AtomHack/data/unstructured_vdb\n",
    "db2 = FAISS.load_local(\n",
    "    os.path.join(\"..\", \"data\", 'unstructured_vdb'),\n",
    "    embeddings,\n",
    "    allow_dangerous_deserialization = True\n",
    ")"
   ]
  },
  {
   "cell_type": "code",
   "execution_count": 73,
   "metadata": {},
   "outputs": [],
   "source": [
    "query = \"Что является целью интеграционного сценария «Массовая выгрузка документов из ЕОСДО?\"\n",
    "docs = db2.similarity_search(query)"
   ]
  },
  {
   "cell_type": "code",
   "execution_count": 74,
   "metadata": {},
   "outputs": [
    {
     "data": {
      "text/plain": [
       "[Document(page_content='Автор АО «Гринатом» Инструкция пользователей «Интеграция 1С ERP 2.0: \\nЦифровой Росатом с ЕОСДО » Страница 10 \\nСтраниц 35 \\nВерсия  6 \\n1.2 Интеграционный сценарий «Массовая выгрузка доку ментов из \\nЕОСДО» \\nСхематично интеграционный сценарий изображён на Рис унке 1.2: \\nРисунок 1.2. Сценарий «Массовая выгрузка документов  из ЕОСДО» \\nФормирование \\nреестра и отправка \\nреестра в ЕОСДО \\nПолучение и \\nобработка реестра Выгрузка скан-\\nобразов \\nдокументов на \\nфайловый сервер Подтверждение \\nзавершения \\nвыгрузки \\nM .O.3 M .I.3\\n \\nЦелью интеграционного сценария «Массовая выгрузка д окументов из \\nЕОСДО» является автоматизация предоставления реестр а скан-образов \\nдокументов в контролирующие органы. \\nЗависимые бизнес-процессы:  \\n\\uf0b7 D-1C1-1.10.19 Формирование налоговой декларации по НП; \\n\\uf0b7 D-1C1-1.10.15 Формирование налоговой декларации по НДС; \\n\\uf0b7 D-1C1-1.10.35 Учет средств целевого финансирования;  \\n\\uf0b7 D-1C1-1.10.40 Формирование бухгалтерской отчетности .', metadata={'source': '/home/yagor/Рабочий стол/atomic/AtomHack/data/txt_data/Инструкция Интеграция с ЕОСДО v5/page_10.txt'}),\n",
       " Document(page_content='Автор АО «Гринатом» Инструкция пользователей «Интеграция 1С ERP 2.0: \\nЦифровой Росатом с ЕОСДО » Страница 26 \\nСтраниц 35 \\nВерсия  6 \\n2.2 Интеграционный сценарий «Массовая выгрузка доку ментов из \\nЕОСДО» \\nИнтеграционный сценарий представлен следующими внеш ними \\nобработками: \\n\\uf0b7 «Выгрузка скан-образов первичных документов из ЕОСД О (в части \\nДекларации по НП)»; \\n\\uf0b7 «Выгрузка скан-образов первичных документов из ЕОСД О (в части \\nДекларации по НДС)»; \\n\\uf0b7 «Выгрузка скан-образов первичных документов из ЕОСД О (в части счета \\n41)»; \\n\\uf0b7 «Выгрузка скан-образов платежных документов из ЕОСД О»; \\n\\uf0b7 «Выгрузка скан-образов документов по использованию средств ЦФ из \\nЕОСДО». \\nОбработки доступны из справочника внешние обработки , либо из пункта \\n«Дополнительные обработки» меню «Регламентированный  учет» (Рисунок 2.21). \\nРисунок 2.21. Обработки для массовой выгрузки скан- образов документов', metadata={'source': '/home/yagor/Рабочий стол/atomic/AtomHack/data/txt_data/Инструкция Интеграция с ЕОСДО v5/page_26.txt'}),\n",
       " Document(page_content='Автор АО «Гринатом» Инструкция пользователей «Интеграция 1С ERP 2.0: \\nЦифровой Росатом с ЕОСДО » Страница 5 \\nСтраниц 35 \\nВерсия  6 \\nЦЕЛИ И ЗАДА ЧИ НАСТОЯЩЕЙ ИНСТУКЦИИ \\nЦель настоящего документа – предоставить пользовате лю, не имеющему \\nопыта работы с унифицированной системой управления ресурсами предприятия на \\nбазе ПО «1С ERP 2.0», пособие, с помощью которого о н сможет овладеть \\nосновными приемами работы с системой в соответствии  с унифицированными \\nбизнес-процессами. \\nЗадача - описать последовательность действий и осно вные приемы работы с \\nобъектами системы в рамках интеграции с ЕОСДО.', metadata={'source': '/home/yagor/Рабочий стол/atomic/AtomHack/data/txt_data/Инструкция Интеграция с ЕОСДО v5/page_5.txt'}),\n",
       " Document(page_content='Автор АО «Гринатом» Инструкция пользователей «Интеграция 1С ERP 2.0: \\nЦифровой Росатом с ЕОСДО » Страница 33 \\nСтраниц 35 \\nВерсия  6 \\n Бухгалтер по учету средств целевого финансирования  / \\nГлавный бухгалтер: Формирование реестра документов по \\nиспользованию средств целевого финансирования \\nВыберем в дополнительных обработках обработку «Выгр узка скан-образов \\nдокументов по использованию средств ЦФ из ЕОСДО».  \\nВ обработке пользователь указывает следующие параме тры отбора \\nнеобходимых документов (Рисунок 2.27): \\n\\uf0b7 организация; \\n\\uf0b7 период; \\n\\uf0b7 email; \\n\\uf0b7 источник финансирования. \\nДалее необходимо нажать кнопку «Заполнить». Реестр заполнится \\nдокументами, которые являются основанием для исполь зования средств целевого \\nфинансирования. \\nАлгоритм заполнения реестра аналогичен алгоритму фо рмирования \\nвнешнего отчета «Реестр документов по целевому фина нсированию». \\nРисунок 2.27. Заполнение обработки «Выгрузка скан-о бразов документов по  \\nиспользованию средств ЦФ из ЕОСДО»', metadata={'source': '/home/yagor/Рабочий стол/atomic/AtomHack/data/txt_data/Инструкция Интеграция с ЕОСДО v5/page_33.txt'})]"
      ]
     },
     "execution_count": 74,
     "metadata": {},
     "output_type": "execute_result"
    }
   ],
   "source": [
    "docs"
   ]
  },
  {
   "cell_type": "code",
   "execution_count": 76,
   "metadata": {},
   "outputs": [
    {
     "name": "stdout",
     "output_type": "stream",
     "text": [
      "Автор АО «Гринатом» Инструкция пользователей «Интеграция 1С ERP 2.0: \n",
      "Цифровой Росатом с ЕОСДО » Страница 10 \n",
      "Страниц 35 \n",
      "Версия  6 \n",
      "1.2 Интеграционный сценарий «Массовая выгрузка доку ментов из \n",
      "ЕОСДО» \n",
      "Схематично интеграционный сценарий изображён на Рис унке 1.2: \n",
      "Рисунок 1.2. Сценарий «Массовая выгрузка документов  из ЕОСДО» \n",
      "Формирование \n",
      "реестра и отправка \n",
      "реестра в ЕОСДО \n",
      "Получение и \n",
      "обработка реестра Выгрузка скан-\n",
      "образов \n",
      "документов на \n",
      "файловый сервер Подтверждение \n",
      "завершения \n",
      "выгрузки \n",
      "M .O.3 M .I.3\n",
      " \n",
      "Целью интеграционного сценария «Массовая выгрузка д окументов из \n",
      "ЕОСДО» является автоматизация предоставления реестр а скан-образов \n",
      "документов в контролирующие органы. \n",
      "Зависимые бизнес-процессы:  \n",
      " D-1C1-1.10.19 Формирование налоговой декларации по НП; \n",
      " D-1C1-1.10.15 Формирование налоговой декларации по НДС; \n",
      " D-1C1-1.10.35 Учет средств целевого финансирования;  \n",
      " D-1C1-1.10.40 Формирование бухгалтерской отчетности .\n",
      "Страница: 10 Исходный документ: Инструкция Интеграция с ЕОСДО v5.pdf\n"
     ]
    }
   ],
   "source": [
    "print(docs[0].page_content)\n",
    "page = docs[0].metadata[\"source\"].split(\"/\")[-1].split(\"_\")[-1].split(\".\")[0]\n",
    "file_name = docs[0].metadata['source'].split('/')[-2] + \".pdf\"\n",
    "print(f\"Страница: {page}\", f\"Исходный документ: {file_name}\")"
   ]
  }
 ],
 "metadata": {
  "kernelspec": {
   "display_name": "torch",
   "language": "python",
   "name": "torch"
  },
  "language_info": {
   "codemirror_mode": {
    "name": "ipython",
    "version": 3
   },
   "file_extension": ".py",
   "mimetype": "text/x-python",
   "name": "python",
   "nbconvert_exporter": "python",
   "pygments_lexer": "ipython3",
   "version": "3.9.13"
  },
  "orig_nbformat": 4
 },
 "nbformat": 4,
 "nbformat_minor": 2
}
