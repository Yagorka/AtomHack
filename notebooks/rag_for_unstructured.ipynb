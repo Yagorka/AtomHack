{
 "cells": [
  {
   "cell_type": "code",
   "execution_count": 2,
   "metadata": {},
   "outputs": [],
   "source": [
    "import os\n",
    "from langchain_community.document_loaders.text import TextLoader\n",
    "from langchain_community.document_loaders import DirectoryLoader\n",
    "# from langchain_experimental.text_splitter import SemanticChunker\n",
    "from langchain_text_splitters import RecursiveCharacterTextSplitter\n",
    "# from yandex_chain import YandexEmbeddings\n",
    "from langchain_community.vectorstores import FAISS"
   ]
  },
  {
   "cell_type": "code",
   "execution_count": 3,
   "metadata": {},
   "outputs": [
    {
     "name": "stderr",
     "output_type": "stream",
     "text": [
      "100%|██████████| 1834/1834 [00:00<00:00, 20210.33it/s]\n"
     ]
    }
   ],
   "source": [
    "loader = DirectoryLoader(\"/home/yagor/Рабочий стол/atomic/AtomHack/data/txt_data\",\n",
    "                    glob=\"**/*.txt\",\n",
    "                    loader_cls=TextLoader,\n",
    "                    show_progress=True,\n",
    "                    loader_kwargs={\"encoding\":\"utf-8\"})\n",
    "\n",
    "data = loader.load()"
   ]
  },
  {
   "cell_type": "code",
   "execution_count": 4,
   "metadata": {},
   "outputs": [
    {
     "data": {
      "text/plain": [
       "Document(page_content=' \\n  Автор  ООО \"НПЦ \"1С\"  Концепция  миграции данных Инструкция \\nпользователей «D -1C1-1.10.39 Сверка \\nвзаиморасчетов с контрагентами»  Страница  14  \\nСтраниц  52  \\nВерсия   5  \\n  \\n Инструкция пользователей D -1C1 -1.10.39  \\nСверка взаиморасчетов с контрагентами  \\n  \\n  \\n   \\n \\nРисунок 5: Вкладка «Основное» документа «Акт инвентаризации расчетов»   \\nНа вкладке «Счета » устанавливаются счета расчета, по которым необходимо \\nпровести инвентаризацию. По кнопке « Настроить » можно выполнить настройку счетов \\n(Рисунок 6: Вкладка «Счета» документа «Акт инвентаризации расчетов» ).  \\n \\nРисунок 6: Вкладка «Счета» документа «Акт инвентаризации расчетов»   \\nПри нажатии на кнопку « Перезаполнить » происходит заполнение табличных частей \\nна вкладке « Счета » и « Задолженность » (Рисунок 7: Заполненная вкладка «Счета» ).  \\n', metadata={'source': '/home/yagor/Рабочий стол/atomic/AtomHack/data/txt_data/Инструкция_D_1C1_1_10_39_Сверка_взаиморасчетов_с_контрагентами/page_14.txt'})"
      ]
     },
     "execution_count": 4,
     "metadata": {},
     "output_type": "execute_result"
    }
   ],
   "source": [
    "data[0]"
   ]
  },
  {
   "cell_type": "code",
   "execution_count": 9,
   "metadata": {},
   "outputs": [],
   "source": [
    "text_splitter=RecursiveCharacterTextSplitter( # TODO: semantic chunking\n",
    "    chunk_size=1000, # TODO: tune this\n",
    "    chunk_overlap=70\n",
    ")\n",
    "\n",
    "chunks = text_splitter.split_documents(data)"
   ]
  },
  {
   "cell_type": "code",
   "execution_count": 10,
   "metadata": {},
   "outputs": [
    {
     "data": {
      "text/plain": [
       "Document(page_content='Автор  ООО \"НПЦ \"1С\"  Концепция  миграции данных Инструкция \\nпользователей «D -1C1-1.10.39 Сверка \\nвзаиморасчетов с контрагентами»  Страница  14  \\nСтраниц  52  \\nВерсия   5  \\n  \\n Инструкция пользователей D -1C1 -1.10.39  \\nСверка взаиморасчетов с контрагентами  \\n  \\n  \\n   \\n \\nРисунок 5: Вкладка «Основное» документа «Акт инвентаризации расчетов»   \\nНа вкладке «Счета » устанавливаются счета расчета, по которым необходимо \\nпровести инвентаризацию. По кнопке « Настроить » можно выполнить настройку счетов \\n(Рисунок 6: Вкладка «Счета» документа «Акт инвентаризации расчетов» ).  \\n \\nРисунок 6: Вкладка «Счета» документа «Акт инвентаризации расчетов»   \\nПри нажатии на кнопку « Перезаполнить » происходит заполнение табличных частей \\nна вкладке « Счета » и « Задолженность » (Рисунок 7: Заполненная вкладка «Счета» ).', metadata={'source': '/home/yagor/Рабочий стол/atomic/AtomHack/data/txt_data/Инструкция_D_1C1_1_10_39_Сверка_взаиморасчетов_с_контрагентами/page_14.txt'})"
      ]
     },
     "execution_count": 10,
     "metadata": {},
     "output_type": "execute_result"
    }
   ],
   "source": [
    "chunks[0]"
   ]
  },
  {
   "cell_type": "code",
   "execution_count": 11,
   "metadata": {},
   "outputs": [
    {
     "name": "stderr",
     "output_type": "stream",
     "text": [
      "/home/yagor/anaconda3/envs/torch/lib/python3.9/site-packages/sentence_transformers/cross_encoder/CrossEncoder.py:11: TqdmExperimentalWarning: Using `tqdm.autonotebook.tqdm` in notebook mode. Use `tqdm.tqdm` instead to force console mode (e.g. in jupyter console)\n",
      "  from tqdm.autonotebook import tqdm, trange\n"
     ]
    },
    {
     "data": {
      "application/vnd.jupyter.widget-view+json": {
       "model_id": "f86e0471bcd045a1ae65d30e4a81ac2f",
       "version_major": 2,
       "version_minor": 0
      },
      "text/plain": [
       "modules.json:   0%|          | 0.00/461 [00:00<?, ?B/s]"
      ]
     },
     "metadata": {},
     "output_type": "display_data"
    },
    {
     "data": {
      "application/vnd.jupyter.widget-view+json": {
       "model_id": "22615e7778b646f482dfc4f97ea1f28f",
       "version_major": 2,
       "version_minor": 0
      },
      "text/plain": [
       "README.md:   0%|          | 0.00/1.71k [00:00<?, ?B/s]"
      ]
     },
     "metadata": {},
     "output_type": "display_data"
    },
    {
     "data": {
      "application/vnd.jupyter.widget-view+json": {
       "model_id": "28f7b37576e84d4d98fc72a4f7630e6c",
       "version_major": 2,
       "version_minor": 0
      },
      "text/plain": [
       "sentence_bert_config.json:   0%|          | 0.00/53.0 [00:00<?, ?B/s]"
      ]
     },
     "metadata": {},
     "output_type": "display_data"
    },
    {
     "name": "stderr",
     "output_type": "stream",
     "text": [
      "/home/yagor/anaconda3/envs/torch/lib/python3.9/site-packages/huggingface_hub/file_download.py:1132: FutureWarning: `resume_download` is deprecated and will be removed in version 1.0.0. Downloads always resume when possible. If you want to force a new download, use `force_download=True`.\n",
      "  warnings.warn(\n"
     ]
    },
    {
     "data": {
      "application/vnd.jupyter.widget-view+json": {
       "model_id": "3daede67b0174128ba675bc95677af96",
       "version_major": 2,
       "version_minor": 0
      },
      "text/plain": [
       "config.json:   0%|          | 0.00/806 [00:00<?, ?B/s]"
      ]
     },
     "metadata": {},
     "output_type": "display_data"
    },
    {
     "data": {
      "application/vnd.jupyter.widget-view+json": {
       "model_id": "6ac01341a13a4e7d99a8fd44800a632c",
       "version_major": 2,
       "version_minor": 0
      },
      "text/plain": [
       "model.safetensors:   0%|          | 0.00/516M [00:00<?, ?B/s]"
      ]
     },
     "metadata": {},
     "output_type": "display_data"
    },
    {
     "data": {
      "application/vnd.jupyter.widget-view+json": {
       "model_id": "54bde56abdd948fba52bd65d8daffddd",
       "version_major": 2,
       "version_minor": 0
      },
      "text/plain": [
       "tokenizer_config.json:   0%|          | 0.00/49.0 [00:00<?, ?B/s]"
      ]
     },
     "metadata": {},
     "output_type": "display_data"
    },
    {
     "data": {
      "application/vnd.jupyter.widget-view+json": {
       "model_id": "bd416ac45529413e930d14e7959bff3e",
       "version_major": 2,
       "version_minor": 0
      },
      "text/plain": [
       "vocab.txt:   0%|          | 0.00/521k [00:00<?, ?B/s]"
      ]
     },
     "metadata": {},
     "output_type": "display_data"
    },
    {
     "data": {
      "application/vnd.jupyter.widget-view+json": {
       "model_id": "3abeee3c378e4af89dd268e3113e3fd9",
       "version_major": 2,
       "version_minor": 0
      },
      "text/plain": [
       "special_tokens_map.json:   0%|          | 0.00/112 [00:00<?, ?B/s]"
      ]
     },
     "metadata": {},
     "output_type": "display_data"
    },
    {
     "data": {
      "application/vnd.jupyter.widget-view+json": {
       "model_id": "a03cb09d385c4d0aaaca9775a8ad860c",
       "version_major": 2,
       "version_minor": 0
      },
      "text/plain": [
       "1_Pooling/config.json:   0%|          | 0.00/190 [00:00<?, ?B/s]"
      ]
     },
     "metadata": {},
     "output_type": "display_data"
    },
    {
     "data": {
      "application/vnd.jupyter.widget-view+json": {
       "model_id": "c490298696904403b7594650180e039a",
       "version_major": 2,
       "version_minor": 0
      },
      "text/plain": [
       "2_Dense/config.json:   0%|          | 0.00/114 [00:00<?, ?B/s]"
      ]
     },
     "metadata": {},
     "output_type": "display_data"
    },
    {
     "data": {
      "application/vnd.jupyter.widget-view+json": {
       "model_id": "2540e78845df45f387004797dfed2e23",
       "version_major": 2,
       "version_minor": 0
      },
      "text/plain": [
       "pytorch_model.bin:   0%|          | 0.00/2.36M [00:00<?, ?B/s]"
      ]
     },
     "metadata": {},
     "output_type": "display_data"
    }
   ],
   "source": [
    "from langchain.vectorstores import FAISS\n",
    "from langchain.embeddings import HuggingFaceEmbeddings\n",
    "embeddings = HuggingFaceEmbeddings(model_name=\"cointegrated/LaBSE-en-ru\")\n",
    "db = FAISS.from_documents(chunks, embeddings)"
   ]
  },
  {
   "cell_type": "code",
   "execution_count": 40,
   "metadata": {},
   "outputs": [],
   "source": [
    "dir_name = 'unstructured_vdb'\n",
    "all_path_dir = os.path.join(\"..\", \"data\", dir_name)\n",
    "if not os.path.exists(all_path_dir):\n",
    "    os.makedirs(all_path_dir)"
   ]
  },
  {
   "cell_type": "code",
   "execution_count": 46,
   "metadata": {},
   "outputs": [],
   "source": [
    "faiss_vdb = \"index\""
   ]
  },
  {
   "cell_type": "code",
   "execution_count": 47,
   "metadata": {},
   "outputs": [],
   "source": [
    "db.save_local(all_path_dir, faiss_vdb)"
   ]
  },
  {
   "cell_type": "markdown",
   "metadata": {},
   "source": [
    "### Тестирование"
   ]
  },
  {
   "cell_type": "code",
   "execution_count": 48,
   "metadata": {},
   "outputs": [],
   "source": [
    "embeddings = HuggingFaceEmbeddings(model_name=\"cointegrated/LaBSE-en-ru\")"
   ]
  },
  {
   "cell_type": "code",
   "execution_count": 44,
   "metadata": {},
   "outputs": [
    {
     "name": "stderr",
     "output_type": "stream",
     "text": [
      "huggingface/tokenizers: The current process just got forked, after parallelism has already been used. Disabling parallelism to avoid deadlocks...\n",
      "To disable this warning, you can either:\n",
      "\t- Avoid using `tokenizers` before the fork if possible\n",
      "\t- Explicitly set the environment variable TOKENIZERS_PARALLELISM=(true | false)\n"
     ]
    },
    {
     "name": "stdout",
     "output_type": "stream",
     "text": [
      "create_txt_from_pdf.ipynb  rag_for_unstructured.ipynb\n"
     ]
    }
   ],
   "source": [
    "ls"
   ]
  },
  {
   "cell_type": "code",
   "execution_count": 50,
   "metadata": {},
   "outputs": [],
   "source": [
    "# /home/yagor/Рабочий стол/atomic/AtomHack/data/unstructured_vdb\n",
    "db2 = FAISS.load_local(\n",
    "    os.path.join(\"..\", \"data\", 'unstructured_vdb'),\n",
    "    embeddings,\n",
    "    allow_dangerous_deserialization = True\n",
    ")"
   ]
  },
  {
   "cell_type": "code",
   "execution_count": 51,
   "metadata": {},
   "outputs": [],
   "source": [
    "query = \"Что является целью интеграционного сценария «Массовая выгрузка документов из ЕОСДО?\"\n",
    "docs = db2.similarity_search(query)"
   ]
  },
  {
   "cell_type": "code",
   "execution_count": 52,
   "metadata": {},
   "outputs": [
    {
     "name": "stdout",
     "output_type": "stream",
     "text": [
      "Автор АО «Гринатом» Инструкция пользователей «Интеграция 1С ERP 2.0: \n",
      "Цифровой Росатом с ЕОСДО » Страница 10 \n",
      "Страниц 35 \n",
      "Версия  6 \n",
      "1.2 Интеграционный сценарий «Массовая выгрузка доку ментов из \n",
      "ЕОСДО» \n",
      "Схематично интеграционный сценарий изображён на Рис унке 1.2: \n",
      "Рисунок 1.2. Сценарий «Массовая выгрузка документов  из ЕОСДО» \n",
      "Формирование \n",
      "реестра и отправка \n",
      "реестра в ЕОСДО \n",
      "Получение и \n",
      "обработка реестра Выгрузка скан-\n",
      "образов \n",
      "документов на \n",
      "файловый сервер Подтверждение \n",
      "завершения \n",
      "выгрузки \n",
      "M .O.3 M .I.3\n",
      " \n",
      "Целью интеграционного сценария «Массовая выгрузка д окументов из \n",
      "ЕОСДО» является автоматизация предоставления реестр а скан-образов \n",
      "документов в контролирующие органы. \n",
      "Зависимые бизнес-процессы:  \n",
      " D-1C1-1.10.19 Формирование налоговой декларации по НП; \n",
      " D-1C1-1.10.15 Формирование налоговой декларации по НДС; \n",
      " D-1C1-1.10.35 Учет средств целевого финансирования;  \n",
      " D-1C1-1.10.40 Формирование бухгалтерской отчетности .\n",
      "Страница: 10 Исходный документ: Инструкция Интеграция с ЕОСДО v5.pdf\n"
     ]
    }
   ],
   "source": [
    "print(docs[0].page_content)\n",
    "page = docs[0].metadata[\"source\"].split(\"/\")[-1].split(\"_\")[-1].split(\".\")[0]\n",
    "file_name = docs[0].metadata['source'].split('/')[-2] + \".pdf\"\n",
    "print(f\"Страница: {page}\", f\"Исходный документ: {file_name}\")"
   ]
  }
 ],
 "metadata": {
  "kernelspec": {
   "display_name": "torch",
   "language": "python",
   "name": "torch"
  },
  "language_info": {
   "codemirror_mode": {
    "name": "ipython",
    "version": 3
   },
   "file_extension": ".py",
   "mimetype": "text/x-python",
   "name": "python",
   "nbconvert_exporter": "python",
   "pygments_lexer": "ipython3",
   "version": "3.9.13"
  },
  "orig_nbformat": 4
 },
 "nbformat": 4,
 "nbformat_minor": 2
}
