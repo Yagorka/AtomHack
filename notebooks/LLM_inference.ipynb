{
 "cells": [
  {
   "cell_type": "code",
   "execution_count": 1,
   "metadata": {},
   "outputs": [],
   "source": [
    "# from yandex_chain import YandexEmbeddings\n",
    "from langchain_community.vectorstores import FAISS\n",
    "\n",
    "import os"
   ]
  },
  {
   "cell_type": "code",
   "execution_count": null,
   "metadata": {},
   "outputs": [],
   "source": [
    "# !pip install accelerate"
   ]
  },
  {
   "cell_type": "code",
   "execution_count": null,
   "metadata": {},
   "outputs": [],
   "source": [
    "# !pip install -i https://pypi.org/simple/ bitsandbytes"
   ]
  },
  {
   "cell_type": "code",
   "execution_count": 7,
   "metadata": {},
   "outputs": [
    {
     "name": "stderr",
     "output_type": "stream",
     "text": [
      "Special tokens have been added in the vocabulary, make sure the associated word embeddings are fine-tuned or trained.\n"
     ]
    },
    {
     "data": {
      "application/vnd.jupyter.widget-view+json": {
       "model_id": "1ffca6e340b64bf1b0e9333a1d0bebdf",
       "version_major": 2,
       "version_minor": 0
      },
      "text/plain": [
       "Loading checkpoint shards:   0%|          | 0/4 [00:00<?, ?it/s]"
      ]
     },
     "metadata": {},
     "output_type": "display_data"
    }
   ],
   "source": [
    "import torch\n",
    "from transformers import AutoTokenizer, AutoModelForCausalLM\n",
    "\n",
    "model_id = 'IlyaGusev/saiga_llama3_8b'\n",
    "\n",
    "tokenizer = AutoTokenizer.from_pretrained(model_id)\n",
    "model = AutoModelForCausalLM.from_pretrained(\n",
    "    model_id,\n",
    "    # load_in_8bit=True,\n",
    "    torch_dtype = torch.bfloat16,\n",
    "    device_map = \"auto\"\n",
    ")\n",
    "\n"
   ]
  },
  {
   "cell_type": "code",
   "execution_count": 8,
   "metadata": {},
   "outputs": [
    {
     "data": {
      "text/plain": [
       "LlamaForCausalLM(\n",
       "  (model): LlamaModel(\n",
       "    (embed_tokens): Embedding(128256, 4096)\n",
       "    (layers): ModuleList(\n",
       "      (0-31): 32 x LlamaDecoderLayer(\n",
       "        (self_attn): LlamaSdpaAttention(\n",
       "          (q_proj): Linear(in_features=4096, out_features=4096, bias=False)\n",
       "          (k_proj): Linear(in_features=4096, out_features=1024, bias=False)\n",
       "          (v_proj): Linear(in_features=4096, out_features=1024, bias=False)\n",
       "          (o_proj): Linear(in_features=4096, out_features=4096, bias=False)\n",
       "          (rotary_emb): LlamaRotaryEmbedding()\n",
       "        )\n",
       "        (mlp): LlamaMLP(\n",
       "          (gate_proj): Linear(in_features=4096, out_features=14336, bias=False)\n",
       "          (up_proj): Linear(in_features=4096, out_features=14336, bias=False)\n",
       "          (down_proj): Linear(in_features=14336, out_features=4096, bias=False)\n",
       "          (act_fn): SiLU()\n",
       "        )\n",
       "        (input_layernorm): LlamaRMSNorm()\n",
       "        (post_attention_layernorm): LlamaRMSNorm()\n",
       "      )\n",
       "    )\n",
       "    (norm): LlamaRMSNorm()\n",
       "  )\n",
       "  (lm_head): Linear(in_features=4096, out_features=128256, bias=False)\n",
       ")"
      ]
     },
     "execution_count": 8,
     "metadata": {},
     "output_type": "execute_result"
    }
   ],
   "source": [
    "model.eval()"
   ]
  },
  {
   "cell_type": "code",
   "execution_count": 59,
   "metadata": {},
   "outputs": [
    {
     "name": "stdout",
     "output_type": "stream",
     "text": [
      "GenerationConfig {\n",
      "  \"bos_token_id\": 128000,\n",
      "  \"do_sample\": true,\n",
      "  \"eos_token_id\": 128009,\n",
      "  \"max_new_tokens\": 1536,\n",
      "  \"pad_token_id\": 128000,\n",
      "  \"repetition_penalty\": 1.12,\n",
      "  \"temperature\": 0.2,\n",
      "  \"top_k\": 30,\n",
      "  \"top_p\": 0.9\n",
      "}\n",
      "\n"
     ]
    }
   ],
   "source": [
    "from transformers import GenerationConfig\n",
    "generation_config = GenerationConfig.from_pretrained(model_id)\n",
    "print(generation_config)"
   ]
  },
  {
   "cell_type": "code",
   "execution_count": 61,
   "metadata": {},
   "outputs": [
    {
     "data": {
      "text/plain": [
       "transformers.generation.configuration_utils.GenerationConfig"
      ]
     },
     "execution_count": 61,
     "metadata": {},
     "output_type": "execute_result"
    }
   ],
   "source": [
    "type(generation_config)"
   ]
  },
  {
   "cell_type": "code",
   "execution_count": 137,
   "metadata": {},
   "outputs": [],
   "source": [
    "generation_config.max_new_tokens = 300\n",
    "generation_config.temperature = 0.2\n",
    "generation_config.top_k= 10"
   ]
  },
  {
   "cell_type": "code",
   "execution_count": 138,
   "metadata": {},
   "outputs": [],
   "source": [
    "def get_llm_answer(query, chunks_join):\n",
    "    user_prompt = '''Используй только следующий контекст, чтобы очень кратко ответить на вопрос в конце.\n",
    "    Не пытайся выдумывать ответ.\n",
    "    Контекст:\n",
    "    ===========\n",
    "    {chunks_join}\n",
    "    ===========\n",
    "    Вопрос:\n",
    "    ===========\n",
    "    {query}'''.format(chunks_join=chunks_join, query=query)\n",
    "    \n",
    "    SYSTEM_PROMPT = \"Ты — Сайга, русскоязычный автоматический ассистент. Ты разговариваешь с людьми и помогаешь им.\"\n",
    "    RESPONSE_TEMPLATE = \"<|im_start|>assistant\\n\"\n",
    "    \n",
    "    prompt = f'''<|im_start|>system\\n{SYSTEM_PROMPT}<|im_end|>\\n<|im_start|>user\\n{user_prompt}<|im_end|>\\n{RESPONSE_TEMPLATE}'''\n",
    "    \n",
    "    def generate(model, tokenizer, prompt):\n",
    "        data = tokenizer(prompt, return_tensors=\"pt\", add_special_tokens=False)\n",
    "        data = {k: v.to(model.device) for k, v in data.items()}\n",
    "        output_ids = model.generate(\n",
    "            **data,\n",
    "            generation_config=generation_config\n",
    "        )[0]\n",
    "        output_ids = output_ids[len(data[\"input_ids\"][0]) :]\n",
    "        output = tokenizer.decode(output_ids, skip_special_tokens=True)\n",
    "        return output.strip()\n",
    "    \n",
    "    response = generate(model, tokenizer, prompt)\n",
    "    \n",
    "    return response"
   ]
  },
  {
   "cell_type": "markdown",
   "metadata": {},
   "source": [
    "### Поиск по описаниям вопросов"
   ]
  },
  {
   "cell_type": "code",
   "execution_count": 9,
   "metadata": {},
   "outputs": [
    {
     "name": "stderr",
     "output_type": "stream",
     "text": [
      "/home/yagor/anaconda3/envs/torch/lib/python3.9/site-packages/huggingface_hub/file_download.py:1132: FutureWarning: `resume_download` is deprecated and will be removed in version 1.0.0. Downloads always resume when possible. If you want to force a new download, use `force_download=True`.\n",
      "  warnings.warn(\n"
     ]
    }
   ],
   "source": [
    "from langchain.vectorstores import FAISS\n",
    "from langchain.embeddings import HuggingFaceEmbeddings\n",
    "embeddings = HuggingFaceEmbeddings(model_name=\"cointegrated/LaBSE-en-ru\")"
   ]
  },
  {
   "cell_type": "code",
   "execution_count": 10,
   "metadata": {},
   "outputs": [],
   "source": [
    "# /home/yagor/Рабочий стол/atomic/AtomHack/data/unstructured_vdb\n",
    "db2 = FAISS.load_local(\n",
    "    os.path.join(\"..\", \"data\", 'structured_vdb'),\n",
    "    embeddings,\n",
    "    allow_dangerous_deserialization = True\n",
    ")"
   ]
  },
  {
   "cell_type": "code",
   "execution_count": 25,
   "metadata": {},
   "outputs": [],
   "source": [
    "query = 'в счете не отображается номер договора и период оплаты.'#\"нет графы для п суточных и количества дней проживания\"\n",
    "# docs = retriever.invoke(\"query\") 'Почему документ создает переоценку только на последнее число месяца?' #'Есть несколько вопросов по формированию отчета Задолженность клиентов и поставщиков по срокам'"
   ]
  },
  {
   "cell_type": "code",
   "execution_count": 26,
   "metadata": {},
   "outputs": [],
   "source": [
    "docs = db2.similarity_search_with_score(query, k=5)"
   ]
  },
  {
   "cell_type": "code",
   "execution_count": 29,
   "metadata": {},
   "outputs": [
    {
     "data": {
      "text/plain": [
       "(Document(page_content='В Карточке Договора отражены сведения по оплате: {cid:imageXXX.png@XXDAXXAC.XBXXXBFX] В заказе отражены сведения по датам и процентам оплаты: {cid:imageXXX.png@XXDAXXAD.XXCXAXXX] А при формировании отчета высвечивается просроченная задолженность: {cid:imageXXX.png@XXDAXXAE.DXXXACXX]', metadata={'Код': 'IM23362338', 'Категория': 'запрос на обслуживание', 'Время регистрации': '17.04.2024 10:18:03', 'Рабочая группа': '1с erp 2.0 1 линия - казначейство', 'Краткое описание': '1С 2.0 АО НИФХИ_ГК Росатом.', 'Решение': 'добрый день. Инструкции есть в рабочей базе в разделе «помощь пользователям и новости» пункт «инструкции и памятки». В приложении X к инструкции по формированию графиков описаны шаги по корректировке дат планового погашения.', 'Аналитика 1': 'Казначейство, взаиморасчеты', 'Аналитика 2': 'Взаиморасчеты', 'Аналитика 3': 'Графики отгрузки и оплаты'}),\n",
       " 0.71577466)"
      ]
     },
     "execution_count": 29,
     "metadata": {},
     "output_type": "execute_result"
    }
   ],
   "source": [
    "docs[1]"
   ]
  },
  {
   "cell_type": "code",
   "execution_count": 30,
   "metadata": {},
   "outputs": [],
   "source": [
    "norm_docs_from_excel = [i for i in docs if i[1]<=0.658243]"
   ]
  },
  {
   "cell_type": "code",
   "execution_count": 37,
   "metadata": {},
   "outputs": [
    {
     "data": {
      "text/plain": [
       "Document(page_content='Добрый день! При формировании счета на оплату клиентам в X С ЕРП X.X Цифровой Росатом, в счете не отображается номер договора и период оплаты.', metadata={'Код': 'IM22455038', 'Категория': 'запрос на обслуживание', 'Время регистрации': '17.01.2024 11:15:19', 'Рабочая группа': '1с erp 2.0 1-я линия', 'Краткое описание': '1 С ЕРП 2.0 Цифровой Росатом', 'Решение': 'Добрый день! Пользователь разобрался с функционалом самостоятельно', 'Аналитика 1': 'Опер.контур', 'Аналитика 2': 'Продажи', 'Аналитика 3': 'Прочее'})"
      ]
     },
     "execution_count": 37,
     "metadata": {},
     "output_type": "execute_result"
    }
   ],
   "source": [
    "norm_docs_from_excel[0][0]"
   ]
  },
  {
   "cell_type": "code",
   "execution_count": 139,
   "metadata": {},
   "outputs": [
    {
     "name": "stdout",
     "output_type": "stream",
     "text": [
      "Обращение: Добрый день! При формировании счета на оплату клиентам в X С ЕРП X.X Цифровой Росатом, в счете не отображается номер договора и период оплаты.\n",
      "Решение аналогичного вопроса: Добрый день! Пользователь разобрался с функционалом самостоятельно\n",
      "Категория: Прочее\n"
     ]
    }
   ],
   "source": [
    "if len(norm_docs_from_excel)>=0:\n",
    "    real_question = norm_docs_from_excel[0][0]\n",
    "    print('Обращение:' , real_question.page_content)\n",
    "    print('Решение аналогичного вопроса:', real_question.metadata[\"Решение\"])\n",
    "    category = real_question.metadata[\"Аналитика 3\"] if 'nan' != str(real_question.metadata['Аналитика 3']) else real_question.metadata[\"Аналитика 2\"]\n",
    "    if 'nan' == category:\n",
    "        category = real_question.metadata[\"Аналитика 1\"]\n",
    "    print(\"Категория:\", category)"
   ]
  },
  {
   "cell_type": "markdown",
   "metadata": {},
   "source": [
    "### Поиск чанков с близкими эмбеддингами из векторной базы"
   ]
  },
  {
   "cell_type": "code",
   "execution_count": 40,
   "metadata": {},
   "outputs": [],
   "source": [
    "from langchain.vectorstores import FAISS\n",
    "from langchain.embeddings import HuggingFaceEmbeddings"
   ]
  },
  {
   "cell_type": "code",
   "execution_count": 41,
   "metadata": {},
   "outputs": [
    {
     "name": "stderr",
     "output_type": "stream",
     "text": [
      "/home/yagor/anaconda3/envs/torch/lib/python3.9/site-packages/huggingface_hub/file_download.py:1132: FutureWarning: `resume_download` is deprecated and will be removed in version 1.0.0. Downloads always resume when possible. If you want to force a new download, use `force_download=True`.\n",
      "  warnings.warn(\n"
     ]
    }
   ],
   "source": [
    "embeddings = HuggingFaceEmbeddings(model_name=\"cointegrated/LaBSE-en-ru\")"
   ]
  },
  {
   "cell_type": "code",
   "execution_count": 43,
   "metadata": {},
   "outputs": [],
   "source": [
    "# /home/yagor/Рабочий стол/atomic/AtomHack/data/unstructured_vdb\n",
    "db = FAISS.load_local(\n",
    "    os.path.join(\"..\", \"data\", 'unstructured_vdb'),\n",
    "    embeddings,\n",
    "    allow_dangerous_deserialization = True\n",
    ")"
   ]
  },
  {
   "cell_type": "code",
   "execution_count": 52,
   "metadata": {},
   "outputs": [],
   "source": [
    "query = \"Что является целью интеграционного сценария «Массовая выгрузка документов из ЕОСДО?\"\n",
    "docs = db.similarity_search(query, k=5)"
   ]
  },
  {
   "cell_type": "code",
   "execution_count": 53,
   "metadata": {},
   "outputs": [
    {
     "data": {
      "text/plain": [
       "[Document(page_content='Автор АО «Гринатом» Инструкция пользователей «Интеграция 1С ERP 2.0: \\nЦифровой Росатом с ЕОСДО » Страница 10 \\nСтраниц 35 \\nВерсия  6 \\n1.2 Интеграционный сценарий «Массовая выгрузка доку ментов из \\nЕОСДО» \\nСхематично интеграционный сценарий изображён на Рис унке 1.2: \\nРисунок 1.2. Сценарий «Массовая выгрузка документов  из ЕОСДО» \\nФормирование \\nреестра и отправка \\nреестра в ЕОСДО \\nПолучение и \\nобработка реестра Выгрузка скан-\\nобразов \\nдокументов на \\nфайловый сервер Подтверждение \\nзавершения \\nвыгрузки \\nM .O.3 M .I.3\\n \\nЦелью интеграционного сценария «Массовая выгрузка д окументов из \\nЕОСДО» является автоматизация предоставления реестр а скан-образов \\nдокументов в контролирующие органы. \\nЗависимые бизнес-процессы:  \\n\\uf0b7 D-1C1-1.10.19 Формирование налоговой декларации по НП; \\n\\uf0b7 D-1C1-1.10.15 Формирование налоговой декларации по НДС; \\n\\uf0b7 D-1C1-1.10.35 Учет средств целевого финансирования;  \\n\\uf0b7 D-1C1-1.10.40 Формирование бухгалтерской отчетности .', metadata={'source': '/home/yagor/Рабочий стол/atomic/AtomHack/data/txt_data/Инструкция Интеграция с ЕОСДО v5/page_10.txt'}),\n",
       " Document(page_content='Автор АО «Гринатом» Инструкция пользователей «Интеграция 1С ERP 2.0: \\nЦифровой Росатом с ЕОСДО » Страница 26 \\nСтраниц 35 \\nВерсия  6 \\n2.2 Интеграционный сценарий «Массовая выгрузка доку ментов из \\nЕОСДО» \\nИнтеграционный сценарий представлен следующими внеш ними \\nобработками: \\n\\uf0b7 «Выгрузка скан-образов первичных документов из ЕОСД О (в части \\nДекларации по НП)»; \\n\\uf0b7 «Выгрузка скан-образов первичных документов из ЕОСД О (в части \\nДекларации по НДС)»; \\n\\uf0b7 «Выгрузка скан-образов первичных документов из ЕОСД О (в части счета \\n41)»; \\n\\uf0b7 «Выгрузка скан-образов платежных документов из ЕОСД О»; \\n\\uf0b7 «Выгрузка скан-образов документов по использованию средств ЦФ из \\nЕОСДО». \\nОбработки доступны из справочника внешние обработки , либо из пункта \\n«Дополнительные обработки» меню «Регламентированный  учет» (Рисунок 2.21). \\nРисунок 2.21. Обработки для массовой выгрузки скан- образов документов', metadata={'source': '/home/yagor/Рабочий стол/atomic/AtomHack/data/txt_data/Инструкция Интеграция с ЕОСДО v5/page_26.txt'}),\n",
       " Document(page_content='Автор АО «Гринатом» Инструкция пользователей «Интеграция 1С ERP 2.0: \\nЦифровой Росатом с ЕОСДО » Страница 5 \\nСтраниц 35 \\nВерсия  6 \\nЦЕЛИ И ЗАДА ЧИ НАСТОЯЩЕЙ ИНСТУКЦИИ \\nЦель настоящего документа – предоставить пользовате лю, не имеющему \\nопыта работы с унифицированной системой управления ресурсами предприятия на \\nбазе ПО «1С ERP 2.0», пособие, с помощью которого о н сможет овладеть \\nосновными приемами работы с системой в соответствии  с унифицированными \\nбизнес-процессами. \\nЗадача - описать последовательность действий и осно вные приемы работы с \\nобъектами системы в рамках интеграции с ЕОСДО.', metadata={'source': '/home/yagor/Рабочий стол/atomic/AtomHack/data/txt_data/Инструкция Интеграция с ЕОСДО v5/page_5.txt'}),\n",
       " Document(page_content='Автор АО «Гринатом» Инструкция пользователей «Интеграция 1С ERP 2.0: \\nЦифровой Росатом с ЕОСДО » Страница 33 \\nСтраниц 35 \\nВерсия  6 \\n Бухгалтер по учету средств целевого финансирования  / \\nГлавный бухгалтер: Формирование реестра документов по \\nиспользованию средств целевого финансирования \\nВыберем в дополнительных обработках обработку «Выгр узка скан-образов \\nдокументов по использованию средств ЦФ из ЕОСДО».  \\nВ обработке пользователь указывает следующие параме тры отбора \\nнеобходимых документов (Рисунок 2.27): \\n\\uf0b7 организация; \\n\\uf0b7 период; \\n\\uf0b7 email; \\n\\uf0b7 источник финансирования. \\nДалее необходимо нажать кнопку «Заполнить». Реестр заполнится \\nдокументами, которые являются основанием для исполь зования средств целевого \\nфинансирования. \\nАлгоритм заполнения реестра аналогичен алгоритму фо рмирования \\nвнешнего отчета «Реестр документов по целевому фина нсированию». \\nРисунок 2.27. Заполнение обработки «Выгрузка скан-о бразов документов по  \\nиспользованию средств ЦФ из ЕОСДО»', metadata={'source': '/home/yagor/Рабочий стол/atomic/AtomHack/data/txt_data/Инструкция Интеграция с ЕОСДО v5/page_33.txt'}),\n",
       " Document(page_content='использованию средств ЦФ из ЕОСДО» \\n \\nПо кнопке «Выгрузить сканы» можно запросить из ЕОСД О выгрузку данного \\nреестра в сетевую папку в том случае, если документ ы были ранее \\nзарегистрированы в ЕОСДО посредством 10-го сценария  ЕОСДО, либо \\nэлектронного документооборота.', metadata={'source': '/home/yagor/Рабочий стол/atomic/AtomHack/data/txt_data/Инструкция Интеграция с ЕОСДО v5/page_33.txt'})]"
      ]
     },
     "execution_count": 53,
     "metadata": {},
     "output_type": "execute_result"
    }
   ],
   "source": [
    "docs"
   ]
  },
  {
   "cell_type": "code",
   "execution_count": 54,
   "metadata": {},
   "outputs": [
    {
     "data": {
      "text/plain": [
       "Document(page_content='Автор АО «Гринатом» Инструкция пользователей «Интеграция 1С ERP 2.0: \\nЦифровой Росатом с ЕОСДО » Страница 10 \\nСтраниц 35 \\nВерсия  6 \\n1.2 Интеграционный сценарий «Массовая выгрузка доку ментов из \\nЕОСДО» \\nСхематично интеграционный сценарий изображён на Рис унке 1.2: \\nРисунок 1.2. Сценарий «Массовая выгрузка документов  из ЕОСДО» \\nФормирование \\nреестра и отправка \\nреестра в ЕОСДО \\nПолучение и \\nобработка реестра Выгрузка скан-\\nобразов \\nдокументов на \\nфайловый сервер Подтверждение \\nзавершения \\nвыгрузки \\nM .O.3 M .I.3\\n \\nЦелью интеграционного сценария «Массовая выгрузка д окументов из \\nЕОСДО» является автоматизация предоставления реестр а скан-образов \\nдокументов в контролирующие органы. \\nЗависимые бизнес-процессы:  \\n\\uf0b7 D-1C1-1.10.19 Формирование налоговой декларации по НП; \\n\\uf0b7 D-1C1-1.10.15 Формирование налоговой декларации по НДС; \\n\\uf0b7 D-1C1-1.10.35 Учет средств целевого финансирования;  \\n\\uf0b7 D-1C1-1.10.40 Формирование бухгалтерской отчетности .', metadata={'source': '/home/yagor/Рабочий стол/atomic/AtomHack/data/txt_data/Инструкция Интеграция с ЕОСДО v5/page_10.txt'})"
      ]
     },
     "execution_count": 54,
     "metadata": {},
     "output_type": "execute_result"
    }
   ],
   "source": [
    "docs[0]"
   ]
  },
  {
   "cell_type": "code",
   "execution_count": 55,
   "metadata": {},
   "outputs": [
    {
     "name": "stdout",
     "output_type": "stream",
     "text": [
      "Автор АО «Гринатом» Инструкция пользователей «Интеграция 1С ERP 2.0: \n",
      "Цифровой Росатом с ЕОСДО » Страница 10 \n",
      "Страниц 35 \n",
      "Версия  6 \n",
      "1.2 Интеграционный сценарий «Массовая выгрузка доку ментов из \n",
      "ЕОСДО» \n",
      "Схематично интеграционный сценарий изображён на Рис унке 1.2: \n",
      "Рисунок 1.2. Сценарий «Массовая выгрузка документов  из ЕОСДО» \n",
      "Формирование \n",
      "реестра и отправка \n",
      "реестра в ЕОСДО \n",
      "Получение и \n",
      "обработка реестра Выгрузка скан-\n",
      "образов \n",
      "документов на \n",
      "файловый сервер Подтверждение \n",
      "завершения \n",
      "выгрузки \n",
      "M .O.3 M .I.3\n",
      " \n",
      "Целью интеграционного сценария «Массовая выгрузка д окументов из \n",
      "ЕОСДО» является автоматизация предоставления реестр а скан-образов \n",
      "документов в контролирующие органы. \n",
      "Зависимые бизнес-процессы:  \n",
      " D-1C1-1.10.19 Формирование налоговой декларации по НП; \n",
      " D-1C1-1.10.15 Формирование налоговой декларации по НДС; \n",
      " D-1C1-1.10.35 Учет средств целевого финансирования;  \n",
      " D-1C1-1.10.40 Формирование бухгалтерской отчетности .\n",
      "Страница: 10 Исходный документ: Инструкция Интеграция с ЕОСДО v5.pdf\n"
     ]
    }
   ],
   "source": [
    "print(docs[0].page_content)\n",
    "page = docs[0].metadata[\"source\"].split(\"/\")[-1].split(\"_\")[-1].split(\".\")[0]\n",
    "file_name = docs[0].metadata['source'].split('/')[-2] + \".pdf\"\n",
    "print(f\"Страница: {page}\", f\"Исходный документ: {file_name}\")"
   ]
  },
  {
   "cell_type": "code",
   "execution_count": null,
   "metadata": {},
   "outputs": [],
   "source": [
    "# !pip install torch==2.2.2"
   ]
  },
  {
   "cell_type": "code",
   "execution_count": null,
   "metadata": {},
   "outputs": [],
   "source": [
    "result = get_llm_answer(query, docs[0].page_content)"
   ]
  },
  {
   "cell_type": "code",
   "execution_count": 64,
   "metadata": {},
   "outputs": [
    {
     "data": {
      "text/plain": [
       "'Целью интеграционного сценария «Массовая выгрузка документов из ЕОСДО» является автоматизация предоставления реестра скан-образов документов в контролирующие органы. <|im_end|>  ```python\\n```  ```  ```  ```  ```  ```  ```  ```  ```  ```  ```  ```  ```  ```  ```  ```  ```  ```  ```  ```  ```  ```  ```  ```  ```  ```  ```  ```  ```  ```  ```  ```  ```  ```  ```  ```  ```  ```  ```  ```  ```  ```  ```  ```  ```  ```  ```  ```  ```  ```  ```  ```  ```  ```  ```  ```  ```  ```  ```  ```  ```  ```  ```  ```  ```  ```  ```  ```  ```  ```  ```  ```  ```  ```  ```  ```  ```  ```  ```  ```  ```  ```  ```  ```  ```  ```  ```  ```  ```  ```  ```  ```  ```  ```  ```  ```  ```  ```  ```  ```  ```  ```  ```  ```  ```  ```  ```  ```  ```  ```  ```  ```  ```  ```  ```  ```  ```  ```  ```  ```  ```  ```  ```  ```  ```  ```  ```  ```  ```  ```  ```  ```  ```  ```  ```  ```  ```  ```  ```  ```  ```  ```  ```  ```  ```  ```  ```  ```  ```  ```  ```  ```  ```  ```  ```  ```  ```  ```  ```  ```  ```  ```  ```  ```  ```  ```  ```  ```  ```  ```  ```  ```  ```  ```  ```  ```  ```  ```  ```  ```  ```  ```  ```  ```  ```  ```  ```  ```  ```  ```  ```  ```  ```  ```  ```  ```  ```  ```  ```  ```  ```  ```  ```  ```  ```  ```  ```  ```  ```  ```  ```  ```  ```  ```  ```  ```  ```  ```  ```  ```  ```  ```  ```  ```  ```'"
      ]
     },
     "execution_count": 64,
     "metadata": {},
     "output_type": "execute_result"
    }
   ],
   "source": [
    "result"
   ]
  },
  {
   "cell_type": "code",
   "execution_count": 41,
   "metadata": {},
   "outputs": [
    {
     "data": {
      "text/plain": [
       "'Целью интеграционного сценария «Массовая выгрузка документов из ЕОСДО» является автоматизация предоставления реестра скан-образов документов в контролирующие органы. <|im_end|>'"
      ]
     },
     "execution_count": 41,
     "metadata": {},
     "output_type": "execute_result"
    }
   ],
   "source": [
    "result"
   ]
  },
  {
   "cell_type": "code",
   "execution_count": 65,
   "metadata": {},
   "outputs": [],
   "source": [
    "query = \"\"\"при настройке видов сертификатов.  Счета учета расчет ов с контрагентами, настраиваемые с использованием \\nэлементов списка  Группы настроек финансового учета расчетов, представлены в \\nвиде групп в соответствии с их применением в операциях:\"\"\"\n",
    "docs = db2.similarity_search(query)"
   ]
  },
  {
   "cell_type": "code",
   "execution_count": 66,
   "metadata": {},
   "outputs": [
    {
     "data": {
      "text/plain": [
       "[Document(page_content='при настройке видов сертификатов.  \\n\\uf0b7 Счета учета расчет ов с контрагентами, настраиваемые с использованием \\nэлементов списка  Группы настроек финансового учета расчетов, представлены в \\nвиде групп в соответствии с их применением в операциях:  \\no Расчетов с клиентами;  \\no Расчетов с поставщиками;  \\no Расчетов с комиссионерами;  \\no Расчетов с комитентами;  \\no Расчетов с кредиторами;  \\no Расчетов с дебиторами;  \\no Расчетов с лизингодателями.  \\n\\uf0b7 Производства  – задаются счета учета прямых производственных затрат \\n(номенклатурные затраты на счетах 20, 23, 29) для подразделений в рамках \\nкаждой организац ии. \\n\\uf0b7 Внеоборотных активов  – счета учета внеоборотных активов, настраиваемые с \\nиспользованием элементов списка  Группы финансового учета внеоборотных \\nактивов  при ведении в информационной базе учета внеоборотных активов по \\nверсии 2.4.  \\n\\uf0b7 Прочих расходов  – счета у чета постатейных расходов, настраиваемые с \\nиспользованием элементов списка  Статьи расходов:', metadata={'source': '/home/yagor/Рабочий стол/atomic/AtomHack/data/txt_data/Инструкция_Настройки_регламентированного_учета/page_19.txt'}),\n",
       " Document(page_content='настроек отражения документов в  форму настроек, провалившись двойным кликом в саму \\nгруппу учета  (Рисунок 19) : \\n \\nРисунок 18: Группа настроек финансового учета расчетов с партнерами  \\nУказан ие Групп настроек финансового учета расчетов с партнерами может быть \\nвыполнено в договоре  (Рисунок 20) :', metadata={'source': '/home/yagor/Рабочий стол/atomic/AtomHack/data/txt_data/Инструкция_Настройки_регламентированного_учета/page_21.txt'}),\n",
       " Document(page_content='В случае установки в настрой ках учетной политики Организации V \\n«Участник консолидированной группы налогоплательщиков» в система должна \\nработать в соответствии с требованиями (см. ПР D-1-1C-1.10.17 «Расчетные \\nпроцедуры»):  \\n\\uf0b7 добавлены предопределенные счета 78, 78.01, 78.02, 99.02.7', metadata={'source': '/home/yagor/Рабочий стол/atomic/AtomHack/data/txt_data/Инструкция_D_1C1_1_10_41_Учет_операций_при_закрытии_периода_НФ/page_107.txt'}),\n",
       " Document(page_content='Инструкция пользователей D -1C1 -1 \\nНастройки регламентированного учета  \\nАвтор  ООО \"НПЦ \"1С\"  Инструкция пользователей D -1C1-1 \\n«Настройки регламентированного учета » Страница  19 \\nСтраниц  36 \\nВерсия  2 \\n \\n\\uf0b7 Номенклатуры  – счета учета товарно -материальных ценностей (ТМЦ), \\nнастраиваемые с использованием элементов списка  Группы настроек \\nфинансового учета номенклатуры.  \\n\\uf0b7 Номенклатуры у контрагентов  – счета учета ТМЦ, переданных на комиссию или \\nв переработку, настраиваемые с использованием элементов списка  Группы \\nнастроек финансового учета номенклатуры.  \\n\\uf0b7 ТМЦ в эксплуатации  – счета балансового и забалансового учета находящихся в \\nэксплуатации ТМЦ, настраиваем ые с использованием элементов \\nсписка  Категории эксплуатации.  \\n\\uf0b7 Денежных средств  – счета учета, заданные в кассах и банковских счетах.  \\n\\uf0b7 Подарочных сертификатов  – счета учета подарочных сертификатов, заданные \\nпри настройке видов сертификатов.', metadata={'source': '/home/yagor/Рабочий стол/atomic/AtomHack/data/txt_data/Инструкция_Настройки_регламентированного_учета/page_19.txt'})]"
      ]
     },
     "execution_count": 66,
     "metadata": {},
     "output_type": "execute_result"
    }
   ],
   "source": [
    "docs"
   ]
  },
  {
   "cell_type": "code",
   "execution_count": 67,
   "metadata": {},
   "outputs": [
    {
     "name": "stdout",
     "output_type": "stream",
     "text": [
      "Счета учета расчетов с контрагентами настраиваются с использованием элементов списка \"Группы настроек финансового учета расчетов\" в виде групп в соответствии с их применением в операциях: Расчетов с клиентами; Расчетов с поставщиками; Расчетов с комиссионерами; Расчетов с комитентами; Расчетов с кредиторами; Расчетов с дебиторами; Расчетов с лизингодателями. <|im_end|>\n",
      "```python\n",
      "def main():\n",
      "    print(\"Счета учета расчетов с контрагентами настраиваются с использованием элементов списка 'Группы настроек финансового учета расчетов' в виде групп в соответствии с их применением в операциях:\")\n",
      "    print(\"Расчетов с клиентами;\")\n",
      "    print(\"Расчетов с поставщиками;\")\n",
      "    print(\"Расчетов с комиссионерами;\")\n",
      "    print(\"Расчетов с комитентами;\")\n",
      "    print(\"Расчетов с кредиторами;\")\n",
      "    print(\"Расчетов с дебиторами;\")\n",
      "    print(\"Расчетов с лизингодателями.\")\n",
      "\n",
      "if __name__ == \"__main__\":\n",
      "    main()\n",
      "```\n",
      "\n",
      "Этот код создает функцию `main`, которая выводит список групп, используемых для настройки счетов учета расчетов с контрагентами. Функция вызывается при запуске скрипта.\n",
      "\n",
      "```bash\n",
      "$ python script.py\n",
      "Счета учета расчетов с контрагентами настраиваются с использованием элементов списка 'Группы настроек финансового учета расчетов' в виде групп в соответствии с их применением в операциях:\n",
      "Расчетов с клиентами;\n",
      "Расчетов с поставщиками;\n",
      "Расчетов с комиссионерами;\n",
      "Расчетов с комитентами;\n",
      "Расчетов с кредиторами;\n",
      "Расчетов с дебиторами;\n",
      "Расчетов с лизингодателями.\n",
      "```\n"
     ]
    }
   ],
   "source": [
    "# большая температура -> придуманный ответ\n",
    "result = get_llm_answer(query, docs[0].page_content)\n",
    "print(result)"
   ]
  },
  {
   "cell_type": "code",
   "execution_count": 68,
   "metadata": {},
   "outputs": [],
   "source": [
    "real_result = result.split('<|im_end|>')[0]"
   ]
  },
  {
   "cell_type": "code",
   "execution_count": 69,
   "metadata": {},
   "outputs": [
    {
     "data": {
      "text/plain": [
       "'Счета учета расчетов с контрагентами настраиваются с использованием элементов списка \"Группы настроек финансового учета расчетов\" в виде групп в соответствии с их применением в операциях: Расчетов с клиентами; Расчетов с поставщиками; Расчетов с комиссионерами; Расчетов с комитентами; Расчетов с кредиторами; Расчетов с дебиторами; Расчетов с лизингодателями. '"
      ]
     },
     "execution_count": 69,
     "metadata": {},
     "output_type": "execute_result"
    }
   ],
   "source": [
    "real_result"
   ]
  },
  {
   "cell_type": "markdown",
   "metadata": {},
   "source": [
    "### reranker"
   ]
  },
  {
   "cell_type": "code",
   "execution_count": 74,
   "metadata": {},
   "outputs": [
    {
     "data": {
      "text/plain": [
       "Document(page_content='при настройке видов сертификатов.  \\n\\uf0b7 Счета учета расчет ов с контрагентами, настраиваемые с использованием \\nэлементов списка  Группы настроек финансового учета расчетов, представлены в \\nвиде групп в соответствии с их применением в операциях:  \\no Расчетов с клиентами;  \\no Расчетов с поставщиками;  \\no Расчетов с комиссионерами;  \\no Расчетов с комитентами;  \\no Расчетов с кредиторами;  \\no Расчетов с дебиторами;  \\no Расчетов с лизингодателями.  \\n\\uf0b7 Производства  – задаются счета учета прямых производственных затрат \\n(номенклатурные затраты на счетах 20, 23, 29) для подразделений в рамках \\nкаждой организац ии. \\n\\uf0b7 Внеоборотных активов  – счета учета внеоборотных активов, настраиваемые с \\nиспользованием элементов списка  Группы финансового учета внеоборотных \\nактивов  при ведении в информационной базе учета внеоборотных активов по \\nверсии 2.4.  \\n\\uf0b7 Прочих расходов  – счета у чета постатейных расходов, настраиваемые с \\nиспользованием элементов списка  Статьи расходов:', metadata={'source': '/home/yagor/Рабочий стол/atomic/AtomHack/data/txt_data/Инструкция_Настройки_регламентированного_учета/page_19.txt'})"
      ]
     },
     "execution_count": 74,
     "metadata": {},
     "output_type": "execute_result"
    }
   ],
   "source": [
    "docs[0]"
   ]
  },
  {
   "cell_type": "code",
   "execution_count": 76,
   "metadata": {},
   "outputs": [
    {
     "data": {
      "text/plain": [
       "['при настройке видов сертификатов',\n",
       " ' \\n\\uf0b7 Счета учета расчет ов с контрагентами, настраиваемые с использованием \\nэлементов списка  Группы настроек финансового учета расчетов, представлены в \\nвиде групп в соответствии с их применением в операциях:  \\no Расчетов с клиентами;  \\no Расчетов с поставщиками;  \\no Расчетов с комиссионерами;  \\no Расчетов с комитентами;  \\no Расчетов с кредиторами;  \\no Расчетов с дебиторами;  \\no Расчетов с лизингодателями',\n",
       " ' \\n\\uf0b7 Производства  – задаются счета учета прямых производственных затрат \\n(номенклатурные затраты на счетах 20, 23, 29) для подразделений в рамках \\nкаждой организац ии',\n",
       " '\\n\\uf0b7 Внеоборотных активов  – счета учета внеоборотных активов, настраиваемые с \\nиспользованием элементов списка  Группы финансового учета внеоборотных \\nактивов  при ведении в информационной базе учета внеоборотных активов по \\nверсии 2.4',\n",
       " ' \\n\\uf0b7 Прочих расходов  – счета у чета постатейных расходов, настраиваемые с \\nиспользованием элементов списка  Статьи расходов:']"
      ]
     },
     "execution_count": 76,
     "metadata": {},
     "output_type": "execute_result"
    }
   ],
   "source": [
    "docs[0].page_content.split('. ')"
   ]
  },
  {
   "cell_type": "code",
   "execution_count": 77,
   "metadata": {},
   "outputs": [],
   "source": [
    "sentences = docs[0].page_content.split('. ')"
   ]
  },
  {
   "cell_type": "code",
   "execution_count": 141,
   "metadata": {},
   "outputs": [
    {
     "name": "stdout",
     "output_type": "stream",
     "text": [
      "tensor([[ 0.0355, -0.0222, -0.0135,  ..., -0.0340, -0.0576, -0.0533],\n",
      "        [-0.0069, -0.0249, -0.0469,  ...,  0.0414, -0.0441, -0.0164],\n",
      "        [ 0.0011, -0.0559, -0.0254,  ..., -0.0377, -0.0407, -0.0265],\n",
      "        [-0.0212, -0.0323, -0.0088,  ...,  0.0140, -0.0365, -0.0433],\n",
      "        [ 0.0332, -0.0448, -0.0358,  ...,  0.0015, -0.0095,  0.0010],\n",
      "        [ 0.0335, -0.0338, -0.0176,  ...,  0.0246, -0.0365, -0.0460]])\n"
     ]
    }
   ],
   "source": [
    "import torch\n",
    "from transformers import AutoTokenizer, AutoModel\n",
    "tokenizer = AutoTokenizer.from_pretrained(\"cointegrated/LaBSE-en-ru\")\n",
    "model_emb = AutoModel.from_pretrained(\"cointegrated/LaBSE-en-ru\")"
   ]
  },
  {
   "cell_type": "code",
   "execution_count": 100,
   "metadata": {},
   "outputs": [],
   "source": [
    "def embeddings_text(sentences):\n",
    "    encoded_input = tokenizer(sentences, padding=True, truncation=True, max_length=512, return_tensors='pt')\n",
    "    with torch.no_grad():\n",
    "        model_output = model_emb(**encoded_input)\n",
    "    embeddings = model_output.pooler_output\n",
    "    embeddings = torch.nn.functional.normalize(embeddings)\n",
    "    return embeddings"
   ]
  },
  {
   "cell_type": "code",
   "execution_count": 97,
   "metadata": {},
   "outputs": [
    {
     "data": {
      "text/plain": [
       "[Document(page_content='при настройке видов сертификатов.  \\n\\uf0b7 Счета учета расчет ов с контрагентами, настраиваемые с использованием \\nэлементов списка  Группы настроек финансового учета расчетов, представлены в \\nвиде групп в соответствии с их применением в операциях:  \\no Расчетов с клиентами;  \\no Расчетов с поставщиками;  \\no Расчетов с комиссионерами;  \\no Расчетов с комитентами;  \\no Расчетов с кредиторами;  \\no Расчетов с дебиторами;  \\no Расчетов с лизингодателями.  \\n\\uf0b7 Производства  – задаются счета учета прямых производственных затрат \\n(номенклатурные затраты на счетах 20, 23, 29) для подразделений в рамках \\nкаждой организац ии. \\n\\uf0b7 Внеоборотных активов  – счета учета внеоборотных активов, настраиваемые с \\nиспользованием элементов списка  Группы финансового учета внеоборотных \\nактивов  при ведении в информационной базе учета внеоборотных активов по \\nверсии 2.4.  \\n\\uf0b7 Прочих расходов  – счета у чета постатейных расходов, настраиваемые с \\nиспользованием элементов списка  Статьи расходов:', metadata={'source': '/home/yagor/Рабочий стол/atomic/AtomHack/data/txt_data/Инструкция_Настройки_регламентированного_учета/page_19.txt'}),\n",
       " Document(page_content='настроек отражения документов в  форму настроек, провалившись двойным кликом в саму \\nгруппу учета  (Рисунок 19) : \\n \\nРисунок 18: Группа настроек финансового учета расчетов с партнерами  \\nУказан ие Групп настроек финансового учета расчетов с партнерами может быть \\nвыполнено в договоре  (Рисунок 20) :', metadata={'source': '/home/yagor/Рабочий стол/atomic/AtomHack/data/txt_data/Инструкция_Настройки_регламентированного_учета/page_21.txt'}),\n",
       " Document(page_content='В случае установки в настрой ках учетной политики Организации V \\n«Участник консолидированной группы налогоплательщиков» в система должна \\nработать в соответствии с требованиями (см. ПР D-1-1C-1.10.17 «Расчетные \\nпроцедуры»):  \\n\\uf0b7 добавлены предопределенные счета 78, 78.01, 78.02, 99.02.7', metadata={'source': '/home/yagor/Рабочий стол/atomic/AtomHack/data/txt_data/Инструкция_D_1C1_1_10_41_Учет_операций_при_закрытии_периода_НФ/page_107.txt'}),\n",
       " Document(page_content='Инструкция пользователей D -1C1 -1 \\nНастройки регламентированного учета  \\nАвтор  ООО \"НПЦ \"1С\"  Инструкция пользователей D -1C1-1 \\n«Настройки регламентированного учета » Страница  19 \\nСтраниц  36 \\nВерсия  2 \\n \\n\\uf0b7 Номенклатуры  – счета учета товарно -материальных ценностей (ТМЦ), \\nнастраиваемые с использованием элементов списка  Группы настроек \\nфинансового учета номенклатуры.  \\n\\uf0b7 Номенклатуры у контрагентов  – счета учета ТМЦ, переданных на комиссию или \\nв переработку, настраиваемые с использованием элементов списка  Группы \\nнастроек финансового учета номенклатуры.  \\n\\uf0b7 ТМЦ в эксплуатации  – счета балансового и забалансового учета находящихся в \\nэксплуатации ТМЦ, настраиваем ые с использованием элементов \\nсписка  Категории эксплуатации.  \\n\\uf0b7 Денежных средств  – счета учета, заданные в кассах и банковских счетах.  \\n\\uf0b7 Подарочных сертификатов  – счета учета подарочных сертификатов, заданные \\nпри настройке видов сертификатов.', metadata={'source': '/home/yagor/Рабочий стол/atomic/AtomHack/data/txt_data/Инструкция_Настройки_регламентированного_учета/page_19.txt'})]"
      ]
     },
     "execution_count": 97,
     "metadata": {},
     "output_type": "execute_result"
    }
   ],
   "source": [
    "docs"
   ]
  },
  {
   "cell_type": "code",
   "execution_count": 107,
   "metadata": {},
   "outputs": [],
   "source": [
    "def reranker_part_chunk(sentences, question_embedding):\n",
    "    context_embeddings = embeddings_text(sentences)\n",
    "    res = torch.nn.functional.cosine_similarity(context_embeddings, question_embedding, dim=1)\n",
    "    return res"
   ]
  },
  {
   "cell_type": "code",
   "execution_count": 101,
   "metadata": {},
   "outputs": [],
   "source": [
    "question_embedding = embeddings_text([query])"
   ]
  },
  {
   "cell_type": "code",
   "execution_count": 104,
   "metadata": {},
   "outputs": [
    {
     "data": {
      "text/plain": [
       "torch.Size([1, 768])"
      ]
     },
     "execution_count": 104,
     "metadata": {},
     "output_type": "execute_result"
    }
   ],
   "source": [
    "question_embedding.shape"
   ]
  },
  {
   "cell_type": "code",
   "execution_count": null,
   "metadata": {},
   "outputs": [],
   "source": [
    "question_embedding"
   ]
  },
  {
   "cell_type": "code",
   "execution_count": 109,
   "metadata": {},
   "outputs": [
    {
     "data": {
      "text/plain": [
       "tensor([0.5365, 0.8278, 0.4757, 0.6429, 0.6274])"
      ]
     },
     "execution_count": 109,
     "metadata": {},
     "output_type": "execute_result"
    }
   ],
   "source": [
    "res = reranker_part_chunk(sentences, question_embedding)\n",
    "res"
   ]
  },
  {
   "cell_type": "code",
   "execution_count": 130,
   "metadata": {},
   "outputs": [],
   "source": [
    "def real_rerank(docs, query):\n",
    "    question_embedding = embeddings_text([query])\n",
    "    result_points = torch.zeros(len(docs))\n",
    "    for i, doc in enumerate(docs):\n",
    "        sentences = doc.page_content.split('. ')\n",
    "        result_points[i] = reranker_part_chunk(sentences, question_embedding).max()\n",
    "    return result_points"
   ]
  },
  {
   "cell_type": "code",
   "execution_count": 131,
   "metadata": {},
   "outputs": [],
   "source": [
    "result_points=real_rerank(docs, query)"
   ]
  },
  {
   "cell_type": "code",
   "execution_count": 132,
   "metadata": {},
   "outputs": [
    {
     "data": {
      "text/plain": [
       "tensor([0.8278, 0.6588, 0.6250, 0.7323])"
      ]
     },
     "execution_count": 132,
     "metadata": {},
     "output_type": "execute_result"
    }
   ],
   "source": [
    "result_points"
   ]
  },
  {
   "cell_type": "code",
   "execution_count": 135,
   "metadata": {},
   "outputs": [],
   "source": [
    "doc_real = docs[int(result_points.argmax())]"
   ]
  },
  {
   "cell_type": "code",
   "execution_count": 136,
   "metadata": {},
   "outputs": [
    {
     "data": {
      "text/plain": [
       "Document(page_content='при настройке видов сертификатов.  \\n\\uf0b7 Счета учета расчет ов с контрагентами, настраиваемые с использованием \\nэлементов списка  Группы настроек финансового учета расчетов, представлены в \\nвиде групп в соответствии с их применением в операциях:  \\no Расчетов с клиентами;  \\no Расчетов с поставщиками;  \\no Расчетов с комиссионерами;  \\no Расчетов с комитентами;  \\no Расчетов с кредиторами;  \\no Расчетов с дебиторами;  \\no Расчетов с лизингодателями.  \\n\\uf0b7 Производства  – задаются счета учета прямых производственных затрат \\n(номенклатурные затраты на счетах 20, 23, 29) для подразделений в рамках \\nкаждой организац ии. \\n\\uf0b7 Внеоборотных активов  – счета учета внеоборотных активов, настраиваемые с \\nиспользованием элементов списка  Группы финансового учета внеоборотных \\nактивов  при ведении в информационной базе учета внеоборотных активов по \\nверсии 2.4.  \\n\\uf0b7 Прочих расходов  – счета у чета постатейных расходов, настраиваемые с \\nиспользованием элементов списка  Статьи расходов:', metadata={'source': '/home/yagor/Рабочий стол/atomic/AtomHack/data/txt_data/Инструкция_Настройки_регламентированного_учета/page_19.txt'})"
      ]
     },
     "execution_count": 136,
     "metadata": {},
     "output_type": "execute_result"
    }
   ],
   "source": [
    "doc_real"
   ]
  }
 ],
 "metadata": {
  "kernelspec": {
   "display_name": "torch",
   "language": "python",
   "name": "torch"
  },
  "language_info": {
   "codemirror_mode": {
    "name": "ipython",
    "version": 3
   },
   "file_extension": ".py",
   "mimetype": "text/x-python",
   "name": "python",
   "nbconvert_exporter": "python",
   "pygments_lexer": "ipython3",
   "version": "3.9.13"
  },
  "orig_nbformat": 4,
  "vscode": {
   "interpreter": {
    "hash": "13817f8bfaf6244a5bdc7f32f3f11f9be8f2d1244bd341f6811bf2e18438b9c9"
   }
  }
 },
 "nbformat": 4,
 "nbformat_minor": 2
}
