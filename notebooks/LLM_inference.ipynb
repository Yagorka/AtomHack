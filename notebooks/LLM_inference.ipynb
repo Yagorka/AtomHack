{
 "cells": [
  {
   "cell_type": "code",
   "execution_count": 1,
   "metadata": {},
   "outputs": [],
   "source": [
    "# from yandex_chain import YandexEmbeddings\n",
    "from langchain_community.vectorstores import FAISS\n",
    "\n",
    "import os"
   ]
  },
  {
   "cell_type": "code",
   "execution_count": null,
   "metadata": {},
   "outputs": [],
   "source": [
    "!pip install accelerate"
   ]
  },
  {
   "cell_type": "code",
   "execution_count": 26,
   "metadata": {},
   "outputs": [
    {
     "name": "stderr",
     "output_type": "stream",
     "text": [
      "Special tokens have been added in the vocabulary, make sure the associated word embeddings are fine-tuned or trained.\n"
     ]
    },
    {
     "data": {
      "application/vnd.jupyter.widget-view+json": {
       "model_id": "e45f4986889543069b8ed860e6d585a8",
       "version_major": 2,
       "version_minor": 0
      },
      "text/plain": [
       "Loading checkpoint shards:   0%|          | 0/4 [00:00<?, ?it/s]"
      ]
     },
     "metadata": {},
     "output_type": "display_data"
    }
   ],
   "source": [
    "import torch\n",
    "from transformers import AutoTokenizer, AutoModelForCausalLM\n",
    "\n",
    "model_id = 'IlyaGusev/saiga_llama3_8b'\n",
    "\n",
    "tokenizer = AutoTokenizer.from_pretrained(model_id)\n",
    "model = AutoModelForCausalLM.from_pretrained(\n",
    "    model_id,\n",
    "    # load_in_8bit=True,\n",
    "    torch_dtype = torch.bfloat16,\n",
    "    device_map = \"auto\"\n",
    ")\n",
    "\n"
   ]
  },
  {
   "cell_type": "code",
   "execution_count": null,
   "metadata": {},
   "outputs": [],
   "source": [
    "model.eval()"
   ]
  },
  {
   "cell_type": "code",
   "execution_count": 51,
   "metadata": {},
   "outputs": [
    {
     "name": "stdout",
     "output_type": "stream",
     "text": [
      "GenerationConfig {\n",
      "  \"bos_token_id\": 128000,\n",
      "  \"do_sample\": true,\n",
      "  \"eos_token_id\": 128009,\n",
      "  \"max_new_tokens\": 1536,\n",
      "  \"pad_token_id\": 128000,\n",
      "  \"repetition_penalty\": 1.12,\n",
      "  \"temperature\": 0.2,\n",
      "  \"top_k\": 30,\n",
      "  \"top_p\": 0.9\n",
      "}\n",
      "\n"
     ]
    }
   ],
   "source": [
    "from transformers import GenerationConfig\n",
    "generation_config = GenerationConfig.from_pretrained(model_id)\n",
    "print(generation_config)"
   ]
  },
  {
   "cell_type": "code",
   "execution_count": 52,
   "metadata": {},
   "outputs": [],
   "source": [
    "generation_config.max_new_tokens = 512\n",
    "generation_config.temperature = 0.2\n",
    "generation_config.top_k= 80"
   ]
  },
  {
   "cell_type": "code",
   "execution_count": 37,
   "metadata": {},
   "outputs": [],
   "source": [
    "def get_llm_answer(query, chunks_join):\n",
    "    user_prompt = '''Используй только следующий контекст, чтобы очень кратко ответить на вопрос в конце.\n",
    "    Не пытайся выдумывать ответ.\n",
    "    Контекст:\n",
    "    ===========\n",
    "    {chunks_join}\n",
    "    ===========\n",
    "    Вопрос:\n",
    "    ===========\n",
    "    {query}'''.format(chunks_join=chunks_join, query=query)\n",
    "    \n",
    "    SYSTEM_PROMPT = \"Ты — Сайга, русскоязычный автоматический ассистент. Ты разговариваешь с людьми и помогаешь им.\"\n",
    "    RESPONSE_TEMPLATE = \"<|im_start|>assistant\\n\"\n",
    "    \n",
    "    prompt = f'''<|im_start|>system\\n{SYSTEM_PROMPT}<|im_end|>\\n<|im_start|>user\\n{user_prompt}<|im_end|>\\n{RESPONSE_TEMPLATE}'''\n",
    "    \n",
    "    def generate(model, tokenizer, prompt):\n",
    "        data = tokenizer(prompt, return_tensors=\"pt\", add_special_tokens=False)\n",
    "        data = {k: v.to(model.device) for k, v in data.items()}\n",
    "        output_ids = model.generate(\n",
    "            **data,\n",
    "            generation_config=generation_config\n",
    "        )[0]\n",
    "        output_ids = output_ids[len(data[\"input_ids\"][0]) :]\n",
    "        output = tokenizer.decode(output_ids, skip_special_tokens=True)\n",
    "        return output.strip()\n",
    "    \n",
    "    response = generate(model, tokenizer, prompt)\n",
    "    \n",
    "    return response"
   ]
  },
  {
   "cell_type": "markdown",
   "metadata": {},
   "source": [
    "### Поиск чанков с близкими эмбеддингами из векторной базы"
   ]
  },
  {
   "cell_type": "code",
   "execution_count": 6,
   "metadata": {},
   "outputs": [],
   "source": [
    "from langchain.vectorstores import FAISS\n",
    "from langchain.embeddings import HuggingFaceEmbeddings"
   ]
  },
  {
   "cell_type": "code",
   "execution_count": 7,
   "metadata": {},
   "outputs": [
    {
     "name": "stderr",
     "output_type": "stream",
     "text": [
      "/home/yagor/anaconda3/envs/torch/lib/python3.9/site-packages/huggingface_hub/file_download.py:1132: FutureWarning: `resume_download` is deprecated and will be removed in version 1.0.0. Downloads always resume when possible. If you want to force a new download, use `force_download=True`.\n",
      "  warnings.warn(\n"
     ]
    }
   ],
   "source": [
    "embeddings = HuggingFaceEmbeddings(model_name=\"cointegrated/LaBSE-en-ru\")"
   ]
  },
  {
   "cell_type": "code",
   "execution_count": 8,
   "metadata": {},
   "outputs": [],
   "source": [
    "# /home/yagor/Рабочий стол/atomic/AtomHack/data/unstructured_vdb\n",
    "db2 = FAISS.load_local(\n",
    "    os.path.join(\"..\", \"data\", 'unstructured_vdb'),\n",
    "    embeddings,\n",
    "    allow_dangerous_deserialization = True\n",
    ")"
   ]
  },
  {
   "cell_type": "code",
   "execution_count": 15,
   "metadata": {},
   "outputs": [],
   "source": [
    "query = \"Что является целью интеграционного сценария «Массовая выгрузка документов из ЕОСДО?\"\n",
    "docs = db2.similarity_search(query)"
   ]
  },
  {
   "cell_type": "code",
   "execution_count": 16,
   "metadata": {},
   "outputs": [
    {
     "data": {
      "text/plain": [
       "[Document(page_content='Автор АО «Гринатом» Инструкция пользователей «Интеграция 1С ERP 2.0: \\nЦифровой Росатом с ЕОСДО » Страница 10 \\nСтраниц 35 \\nВерсия  6 \\n1.2 Интеграционный сценарий «Массовая выгрузка доку ментов из \\nЕОСДО» \\nСхематично интеграционный сценарий изображён на Рис унке 1.2: \\nРисунок 1.2. Сценарий «Массовая выгрузка документов  из ЕОСДО» \\nФормирование \\nреестра и отправка \\nреестра в ЕОСДО \\nПолучение и \\nобработка реестра Выгрузка скан-\\nобразов \\nдокументов на \\nфайловый сервер Подтверждение \\nзавершения \\nвыгрузки \\nM .O.3 M .I.3\\n \\nЦелью интеграционного сценария «Массовая выгрузка д окументов из \\nЕОСДО» является автоматизация предоставления реестр а скан-образов \\nдокументов в контролирующие органы. \\nЗависимые бизнес-процессы:  \\n\\uf0b7 D-1C1-1.10.19 Формирование налоговой декларации по НП; \\n\\uf0b7 D-1C1-1.10.15 Формирование налоговой декларации по НДС; \\n\\uf0b7 D-1C1-1.10.35 Учет средств целевого финансирования;  \\n\\uf0b7 D-1C1-1.10.40 Формирование бухгалтерской отчетности .', metadata={'source': '/home/yagor/Рабочий стол/atomic/AtomHack/data/txt_data/Инструкция Интеграция с ЕОСДО v5/page_10.txt'}),\n",
       " Document(page_content='Автор АО «Гринатом» Инструкция пользователей «Интеграция 1С ERP 2.0: \\nЦифровой Росатом с ЕОСДО » Страница 26 \\nСтраниц 35 \\nВерсия  6 \\n2.2 Интеграционный сценарий «Массовая выгрузка доку ментов из \\nЕОСДО» \\nИнтеграционный сценарий представлен следующими внеш ними \\nобработками: \\n\\uf0b7 «Выгрузка скан-образов первичных документов из ЕОСД О (в части \\nДекларации по НП)»; \\n\\uf0b7 «Выгрузка скан-образов первичных документов из ЕОСД О (в части \\nДекларации по НДС)»; \\n\\uf0b7 «Выгрузка скан-образов первичных документов из ЕОСД О (в части счета \\n41)»; \\n\\uf0b7 «Выгрузка скан-образов платежных документов из ЕОСД О»; \\n\\uf0b7 «Выгрузка скан-образов документов по использованию средств ЦФ из \\nЕОСДО». \\nОбработки доступны из справочника внешние обработки , либо из пункта \\n«Дополнительные обработки» меню «Регламентированный  учет» (Рисунок 2.21). \\nРисунок 2.21. Обработки для массовой выгрузки скан- образов документов', metadata={'source': '/home/yagor/Рабочий стол/atomic/AtomHack/data/txt_data/Инструкция Интеграция с ЕОСДО v5/page_26.txt'}),\n",
       " Document(page_content='Автор АО «Гринатом» Инструкция пользователей «Интеграция 1С ERP 2.0: \\nЦифровой Росатом с ЕОСДО » Страница 5 \\nСтраниц 35 \\nВерсия  6 \\nЦЕЛИ И ЗАДА ЧИ НАСТОЯЩЕЙ ИНСТУКЦИИ \\nЦель настоящего документа – предоставить пользовате лю, не имеющему \\nопыта работы с унифицированной системой управления ресурсами предприятия на \\nбазе ПО «1С ERP 2.0», пособие, с помощью которого о н сможет овладеть \\nосновными приемами работы с системой в соответствии  с унифицированными \\nбизнес-процессами. \\nЗадача - описать последовательность действий и осно вные приемы работы с \\nобъектами системы в рамках интеграции с ЕОСДО.', metadata={'source': '/home/yagor/Рабочий стол/atomic/AtomHack/data/txt_data/Инструкция Интеграция с ЕОСДО v5/page_5.txt'}),\n",
       " Document(page_content='Автор АО «Гринатом» Инструкция пользователей «Интеграция 1С ERP 2.0: \\nЦифровой Росатом с ЕОСДО » Страница 33 \\nСтраниц 35 \\nВерсия  6 \\n Бухгалтер по учету средств целевого финансирования  / \\nГлавный бухгалтер: Формирование реестра документов по \\nиспользованию средств целевого финансирования \\nВыберем в дополнительных обработках обработку «Выгр узка скан-образов \\nдокументов по использованию средств ЦФ из ЕОСДО».  \\nВ обработке пользователь указывает следующие параме тры отбора \\nнеобходимых документов (Рисунок 2.27): \\n\\uf0b7 организация; \\n\\uf0b7 период; \\n\\uf0b7 email; \\n\\uf0b7 источник финансирования. \\nДалее необходимо нажать кнопку «Заполнить». Реестр заполнится \\nдокументами, которые являются основанием для исполь зования средств целевого \\nфинансирования. \\nАлгоритм заполнения реестра аналогичен алгоритму фо рмирования \\nвнешнего отчета «Реестр документов по целевому фина нсированию». \\nРисунок 2.27. Заполнение обработки «Выгрузка скан-о бразов документов по  \\nиспользованию средств ЦФ из ЕОСДО»', metadata={'source': '/home/yagor/Рабочий стол/atomic/AtomHack/data/txt_data/Инструкция Интеграция с ЕОСДО v5/page_33.txt'})]"
      ]
     },
     "execution_count": 16,
     "metadata": {},
     "output_type": "execute_result"
    }
   ],
   "source": [
    "docs"
   ]
  },
  {
   "cell_type": "code",
   "execution_count": 27,
   "metadata": {},
   "outputs": [
    {
     "name": "stdout",
     "output_type": "stream",
     "text": [
      "Автор АО «Гринатом» Инструкция пользователей «Интеграция 1С ERP 2.0: \n",
      "Цифровой Росатом с ЕОСДО » Страница 10 \n",
      "Страниц 35 \n",
      "Версия  6 \n",
      "1.2 Интеграционный сценарий «Массовая выгрузка доку ментов из \n",
      "ЕОСДО» \n",
      "Схематично интеграционный сценарий изображён на Рис унке 1.2: \n",
      "Рисунок 1.2. Сценарий «Массовая выгрузка документов  из ЕОСДО» \n",
      "Формирование \n",
      "реестра и отправка \n",
      "реестра в ЕОСДО \n",
      "Получение и \n",
      "обработка реестра Выгрузка скан-\n",
      "образов \n",
      "документов на \n",
      "файловый сервер Подтверждение \n",
      "завершения \n",
      "выгрузки \n",
      "M .O.3 M .I.3\n",
      " \n",
      "Целью интеграционного сценария «Массовая выгрузка д окументов из \n",
      "ЕОСДО» является автоматизация предоставления реестр а скан-образов \n",
      "документов в контролирующие органы. \n",
      "Зависимые бизнес-процессы:  \n",
      " D-1C1-1.10.19 Формирование налоговой декларации по НП; \n",
      " D-1C1-1.10.15 Формирование налоговой декларации по НДС; \n",
      " D-1C1-1.10.35 Учет средств целевого финансирования;  \n",
      " D-1C1-1.10.40 Формирование бухгалтерской отчетности .\n",
      "Страница: 10 Исходный документ: Инструкция Интеграция с ЕОСДО v5.pdf\n"
     ]
    }
   ],
   "source": [
    "print(docs[0].page_content)\n",
    "page = docs[0].metadata[\"source\"].split(\"/\")[-1].split(\"_\")[-1].split(\".\")[0]\n",
    "file_name = docs[0].metadata['source'].split('/')[-2] + \".pdf\"\n",
    "print(f\"Страница: {page}\", f\"Исходный документ: {file_name}\")"
   ]
  },
  {
   "cell_type": "code",
   "execution_count": null,
   "metadata": {},
   "outputs": [],
   "source": [
    "# !pip install torch==2.2.2"
   ]
  },
  {
   "cell_type": "code",
   "execution_count": 40,
   "metadata": {},
   "outputs": [],
   "source": [
    "result = get_llm_answer(query, docs[0].page_content)"
   ]
  },
  {
   "cell_type": "code",
   "execution_count": 41,
   "metadata": {},
   "outputs": [
    {
     "data": {
      "text/plain": [
       "'Целью интеграционного сценария «Массовая выгрузка документов из ЕОСДО» является автоматизация предоставления реестра скан-образов документов в контролирующие органы. <|im_end|>'"
      ]
     },
     "execution_count": 41,
     "metadata": {},
     "output_type": "execute_result"
    }
   ],
   "source": [
    "result"
   ]
  },
  {
   "cell_type": "code",
   "execution_count": 48,
   "metadata": {},
   "outputs": [],
   "source": [
    "query = \"\"\"Посмотри счета учета расчетов, настраиваемые с использованием \n",
    "элементов списка. Выведи все в виде групп в соответствии с их применением в операциях\"\"\"\n",
    "docs = db2.similarity_search(query)"
   ]
  },
  {
   "cell_type": "code",
   "execution_count": 49,
   "metadata": {},
   "outputs": [
    {
     "data": {
      "text/plain": [
       "[Document(page_content='отражаем в регламентированном учете. Суммы пересчитываются исходя из', metadata={'source': '/home/yagor/Рабочий стол/atomic/AtomHack/data/txt_data/Инструкция_D_1C1_1_10_04_Учет_банковских_операций_НФ_v2_28_1/page_110.txt'}),\n",
       " Document(page_content='при настройке видов сертификатов.  \\n\\uf0b7 Счета учета расчет ов с контрагентами, настраиваемые с использованием \\nэлементов списка  Группы настроек финансового учета расчетов, представлены в \\nвиде групп в соответствии с их применением в операциях:  \\no Расчетов с клиентами;  \\no Расчетов с поставщиками;  \\no Расчетов с комиссионерами;  \\no Расчетов с комитентами;  \\no Расчетов с кредиторами;  \\no Расчетов с дебиторами;  \\no Расчетов с лизингодателями.  \\n\\uf0b7 Производства  – задаются счета учета прямых производственных затрат \\n(номенклатурные затраты на счетах 20, 23, 29) для подразделений в рамках \\nкаждой организац ии. \\n\\uf0b7 Внеоборотных активов  – счета учета внеоборотных активов, настраиваемые с \\nиспользованием элементов списка  Группы финансового учета внеоборотных \\nактивов  при ведении в информационной базе учета внеоборотных активов по \\nверсии 2.4.  \\n\\uf0b7 Прочих расходов  – счета у чета постатейных расходов, настраиваемые с \\nиспользованием элементов списка  Статьи расходов:', metadata={'source': '/home/yagor/Рабочий стол/atomic/AtomHack/data/txt_data/Инструкция_Настройки_регламентированного_учета/page_19.txt'}),\n",
       " Document(page_content='\\uf0b7 настройка счетов для применения по  умолчанию;  \\n\\uf0b7 непосредственное указание счетов в  документах, использующих адресацию \\nна статьи активов/пассивов;  \\nСчета учета, применяемые по  умолчанию, можно  задать  для:', metadata={'source': '/home/yagor/Рабочий стол/atomic/AtomHack/data/txt_data/Инструкция_Настройки_регламентированного_учета/page_15.txt'}),\n",
       " Document(page_content='деятельности  для выбранных  позиций  из документа  поступления.  Список  \\nдокументов  находится  в разделе  Финансовый  результат  и контроллинг  – НДС  \\n– Корректировка  вида  деятельности  НДС  (Рисунок  98).', metadata={'source': '/home/yagor/Рабочий стол/atomic/AtomHack/data/txt_data/Инструкция D-1C1-1.10.14  Учет НДС_v7/page_79.txt'})]"
      ]
     },
     "execution_count": 49,
     "metadata": {},
     "output_type": "execute_result"
    }
   ],
   "source": [
    "docs"
   ]
  },
  {
   "cell_type": "code",
   "execution_count": 50,
   "metadata": {},
   "outputs": [
    {
     "name": "stdout",
     "output_type": "stream",
     "text": [
      "Вывод всех счетов учета расчетов, настраиваемых с использованием элементов списка, в виде групп по их применению в операциях: \n",
      "1. **Группа 1: Расходы на материалы**\n",
      "   - Счет 101: Материалы для производства\n",
      "   - Счет 102: Инструменты и оборудование\n",
      "\n",
      "2. **Группа 2: Зарплата сотрудников**\n",
      "   - Счет 201: Заработная плата\n",
      "   - Счет 202: Начисления на социальное страхование\n",
      "\n",
      "3. **Группа 3: Аренда и коммунальные платежи**\n",
      "   - Счет 301: Аренда помещений\n",
      "   - Счет 302: Электроэнергия\n",
      "   - Счет 303: Вода\n",
      "\n",
      "4. **Группа 4: Транспортные расходы**\n",
      "   - Счет 401: Грузоперевозки\n",
      "   - Счет 402: Автотранспорт\n",
      "\n",
      "5. **Группа 5: Общепроизводственные расходы**\n",
      "   - Счет 501: Услуги сторонних организаций\n",
      "   - Счет 502: Ремонт и техническое обслуживание оборудования\n",
      "\n",
      "6. **Группа 6: Прочие расходы**\n",
      "   - Счет 601: Коммуникационные услуги\n",
      "   - Счет 602: Печати и бумаги\n",
      "\n",
      "7. **Группа 7: Прибыль**\n",
      "   - Счет 701: Продажа товаров (услуг)\n",
      "   - Счет 702: Отчисление прибыли\n",
      "\n",
      "8. **Группа 8: Налоговые обязательства**\n",
      "   - Счет 801: Налог на добавленную стоимость (НДС)\n",
      "   - Счет 802: Федеральный налог на доходы физических лиц\n",
      "\n",
      "9. **Группа 9: Дебиторская задолженность**\n",
      "   - Счет 901: Дебиторская задолженность по продажам\n",
      "   - Счет 902: Дебиторская задолженность по кредитам\n",
      "\n",
      "10.**Группа 10: Кредитная задолженность**\n",
      "    - Счет 1001: Кредитная задолженность банков\n"
     ]
    }
   ],
   "source": [
    "# большая температура -> придуманный ответ\n",
    "result = get_llm_answer(query, docs[0].page_content)\n",
    "print(result)"
   ]
  },
  {
   "cell_type": "code",
   "execution_count": 53,
   "metadata": {},
   "outputs": [],
   "source": [
    "result = get_llm_answer(query, docs[0].page_content)\n",
    "print(result)"
   ]
  }
 ],
 "metadata": {
  "kernelspec": {
   "display_name": "torch",
   "language": "python",
   "name": "torch"
  },
  "language_info": {
   "codemirror_mode": {
    "name": "ipython",
    "version": 3
   },
   "file_extension": ".py",
   "mimetype": "text/x-python",
   "name": "python",
   "nbconvert_exporter": "python",
   "pygments_lexer": "ipython3",
   "version": "3.9.13"
  },
  "orig_nbformat": 4,
  "vscode": {
   "interpreter": {
    "hash": "13817f8bfaf6244a5bdc7f32f3f11f9be8f2d1244bd341f6811bf2e18438b9c9"
   }
  }
 },
 "nbformat": 4,
 "nbformat_minor": 2
}
