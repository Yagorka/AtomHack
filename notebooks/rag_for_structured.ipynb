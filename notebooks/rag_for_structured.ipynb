{
 "cells": [
  {
   "cell_type": "code",
   "execution_count": 2,
   "metadata": {},
   "outputs": [],
   "source": [
    "import os\n",
    "from langchain_community.document_loaders.text import TextLoader\n",
    "from langchain_community.document_loaders import DirectoryLoader\n",
    "# from langchain_experimental.text_splitter import SemanticChunker\n",
    "from langchain_text_splitters import RecursiveCharacterTextSplitter\n",
    "# from yandex_chain import YandexEmbeddings\n",
    "from langchain_community.vectorstores import FAISS\n",
    "\n",
    "from langchain_community.document_loaders.csv_loader import CSVLoader"
   ]
  },
  {
   "cell_type": "code",
   "execution_count": 32,
   "metadata": {},
   "outputs": [],
   "source": [
    "csv_file_name = 'csv_files/history.csv'\n",
    "full_path = os.path.join(\"..\", \"data\", csv_file_name)"
   ]
  },
  {
   "cell_type": "code",
   "execution_count": 47,
   "metadata": {},
   "outputs": [
    {
     "data": {
      "text/html": [
       "<div>\n",
       "<style scoped>\n",
       "    .dataframe tbody tr th:only-of-type {\n",
       "        vertical-align: middle;\n",
       "    }\n",
       "\n",
       "    .dataframe tbody tr th {\n",
       "        vertical-align: top;\n",
       "    }\n",
       "\n",
       "    .dataframe thead th {\n",
       "        text-align: right;\n",
       "    }\n",
       "</style>\n",
       "<table border=\"1\" class=\"dataframe\">\n",
       "  <thead>\n",
       "    <tr style=\"text-align: right;\">\n",
       "      <th></th>\n",
       "      <th>Код</th>\n",
       "      <th>Категория</th>\n",
       "      <th>Время регистрации</th>\n",
       "      <th>Рабочая группа</th>\n",
       "      <th>Краткое описание</th>\n",
       "      <th>Описание</th>\n",
       "      <th>Решение</th>\n",
       "      <th>Аналитика 1</th>\n",
       "      <th>Аналитика 2</th>\n",
       "      <th>Аналитика 3</th>\n",
       "    </tr>\n",
       "  </thead>\n",
       "  <tbody>\n",
       "    <tr>\n",
       "      <th>0</th>\n",
       "      <td>C03919673</td>\n",
       "      <td>Изменение</td>\n",
       "      <td>16.08.2021 2:16:11</td>\n",
       "      <td>изм 1с erp 2.0</td>\n",
       "      <td>Без СППР. 2021 ЯФИ Заполнение ТЧ по реквизитам</td>\n",
       "      <td>в УПП была кнопка для заполнения колонки в ТЧ ...</td>\n",
       "      <td>Обращение от XXXX года неактуально.</td>\n",
       "      <td>Менеджер услуги</td>\n",
       "      <td>Другой вопрос</td>\n",
       "      <td>NaN</td>\n",
       "    </tr>\n",
       "    <tr>\n",
       "      <th>1</th>\n",
       "      <td>C04273748</td>\n",
       "      <td>Изменение</td>\n",
       "      <td>03.12.2021 1:09:46</td>\n",
       "      <td>изм 1с erp 2.0 запросы на развитие</td>\n",
       "      <td>Без СППР.  FW: 2.0 _АО_ нет графы количества</td>\n",
       "      <td>В авансовых отчетах программы XС X.X нет графы...</td>\n",
       "      <td>добрый день!  Доработка функционала XC ERP X.X...</td>\n",
       "      <td>Казначейство, взаиморасчеты</td>\n",
       "      <td>Расчеты с персоналом</td>\n",
       "      <td>Авансовые отчеты</td>\n",
       "    </tr>\n",
       "    <tr>\n",
       "      <th>2</th>\n",
       "      <td>C04274763</td>\n",
       "      <td>Изменение</td>\n",
       "      <td>03.12.2021 3:52:24</td>\n",
       "      <td>изм 1с erp 2.0 запросы на развитие</td>\n",
       "      <td>Без СППР.   2023 ЗИ - 1.2 ФУНКЦИОНАЛ 1С ЕРП2. ...</td>\n",
       "      <td>Система «срезает» часть номера ЗРС при отражен...</td>\n",
       "      <td>Доработка функционала возможна в рамках запрос...</td>\n",
       "      <td>Казначейство, взаиморасчеты</td>\n",
       "      <td>Казначейство</td>\n",
       "      <td>Заявки на оплату</td>\n",
       "    </tr>\n",
       "    <tr>\n",
       "      <th>3</th>\n",
       "      <td>C04331762</td>\n",
       "      <td>Изменение</td>\n",
       "      <td>20.12.2021 1:46:04</td>\n",
       "      <td>изм 1с erp 2.0 запросы на развитие</td>\n",
       "      <td>Без СППР.   Настройки для отчета по дебиторско...</td>\n",
       "      <td>Добрый день!  Отправляю обращение проектной ко...</td>\n",
       "      <td>Добрый день. а. В системе созданы отчеты по де...</td>\n",
       "      <td>Казначейство, взаиморасчеты</td>\n",
       "      <td>Взаиморасчеты</td>\n",
       "      <td>Отчеты</td>\n",
       "    </tr>\n",
       "    <tr>\n",
       "      <th>4</th>\n",
       "      <td>C04393042</td>\n",
       "      <td>Изменение</td>\n",
       "      <td>14.01.2022 12:45:38</td>\n",
       "      <td>изм 1с erp 2.0 запросы на развитие</td>\n",
       "      <td>Без СППР.     1.2 ФУНКЦИОНАЛ 1С ЕРП2: в дополн...</td>\n",
       "      <td>Добрый день,  Признак ``Списать на расходы``  ...</td>\n",
       "      <td>Доработка функционала возможна в рамках запрос...</td>\n",
       "      <td>Казначейство, взаиморасчеты</td>\n",
       "      <td>Казначейство</td>\n",
       "      <td>Платежные документы</td>\n",
       "    </tr>\n",
       "  </tbody>\n",
       "</table>\n",
       "</div>"
      ],
      "text/plain": [
       "         Код  Категория    Время регистрации  \\\n",
       "0  C03919673  Изменение   16.08.2021 2:16:11   \n",
       "1  C04273748  Изменение   03.12.2021 1:09:46   \n",
       "2  C04274763  Изменение   03.12.2021 3:52:24   \n",
       "3  C04331762  Изменение   20.12.2021 1:46:04   \n",
       "4  C04393042  Изменение  14.01.2022 12:45:38   \n",
       "\n",
       "                       Рабочая группа  \\\n",
       "0                      изм 1с erp 2.0   \n",
       "1  изм 1с erp 2.0 запросы на развитие   \n",
       "2  изм 1с erp 2.0 запросы на развитие   \n",
       "3  изм 1с erp 2.0 запросы на развитие   \n",
       "4  изм 1с erp 2.0 запросы на развитие   \n",
       "\n",
       "                                    Краткое описание  \\\n",
       "0     Без СППР. 2021 ЯФИ Заполнение ТЧ по реквизитам   \n",
       "1       Без СППР.  FW: 2.0 _АО_ нет графы количества   \n",
       "2  Без СППР.   2023 ЗИ - 1.2 ФУНКЦИОНАЛ 1С ЕРП2. ...   \n",
       "3  Без СППР.   Настройки для отчета по дебиторско...   \n",
       "4  Без СППР.     1.2 ФУНКЦИОНАЛ 1С ЕРП2: в дополн...   \n",
       "\n",
       "                                            Описание  \\\n",
       "0  в УПП была кнопка для заполнения колонки в ТЧ ...   \n",
       "1  В авансовых отчетах программы XС X.X нет графы...   \n",
       "2  Система «срезает» часть номера ЗРС при отражен...   \n",
       "3  Добрый день!  Отправляю обращение проектной ко...   \n",
       "4  Добрый день,  Признак ``Списать на расходы``  ...   \n",
       "\n",
       "                                             Решение  \\\n",
       "0                Обращение от XXXX года неактуально.   \n",
       "1  добрый день!  Доработка функционала XC ERP X.X...   \n",
       "2  Доработка функционала возможна в рамках запрос...   \n",
       "3  Добрый день. а. В системе созданы отчеты по де...   \n",
       "4  Доработка функционала возможна в рамках запрос...   \n",
       "\n",
       "                   Аналитика 1           Аналитика 2          Аналитика 3  \n",
       "0              Менеджер услуги         Другой вопрос                  NaN  \n",
       "1  Казначейство, взаиморасчеты  Расчеты с персоналом     Авансовые отчеты  \n",
       "2  Казначейство, взаиморасчеты          Казначейство     Заявки на оплату  \n",
       "3  Казначейство, взаиморасчеты         Взаиморасчеты               Отчеты  \n",
       "4  Казначейство, взаиморасчеты          Казначейство  Платежные документы  "
      ]
     },
     "execution_count": 47,
     "metadata": {},
     "output_type": "execute_result"
    }
   ],
   "source": [
    "import pandas as pd\n",
    "import numpy as np\n",
    "df = pd.read_csv(full_path, index_col=0)\n",
    "df.head()\n"
   ]
  },
  {
   "cell_type": "code",
   "execution_count": 70,
   "metadata": {},
   "outputs": [],
   "source": [
    "#load documents from Pandas dataframe for insertion into database\n",
    "from langchain.document_loaders import DataFrameLoader\n",
    "\n",
    "# page_content_column is the column name in the dataframe to create embeddings for\n",
    "loader = DataFrameLoader(df, page_content_column = 'Описание')\n",
    "docs = loader.load()\n"
   ]
  },
  {
   "cell_type": "code",
   "execution_count": 71,
   "metadata": {},
   "outputs": [
    {
     "data": {
      "text/plain": [
       "Document(page_content='в УПП была кнопка для заполнения колонки в ТЧ документа одним значением На скриншотах документы ``Передача материалов в кладовую``, ``Заказ материалов в производство`` возможна реализация в рамках официального ЗИ - нужно оценить трудозатраты --------------------- Добрый день! Имеется ввиду в документах по строкам «заполнение по реквизитам» , как было в УПП, например в заказе материалов не выбирать   в каждой позиции дату отгрузки.  X. В документах, например, «заказ поставщику», нет возможности как в XСERP заполнять строки аналитик «по реквизитам», просим добавить такую возможность в документы. Просьба пояснить, что имеется ввиду  ----- ', metadata={'Код': 'C03919673', 'Категория': 'Изменение', 'Время регистрации': '16.08.2021 2:16:11', 'Рабочая группа': 'изм 1с erp 2.0', 'Краткое описание': 'Без СППР. 2021 ЯФИ Заполнение ТЧ по реквизитам', 'Решение': 'Обращение от XXXX года неактуально.', 'Аналитика 1': 'Менеджер услуги', 'Аналитика 2': 'Другой вопрос', 'Аналитика 3': nan})"
      ]
     },
     "execution_count": 71,
     "metadata": {},
     "output_type": "execute_result"
    }
   ],
   "source": [
    "docs[0]"
   ]
  },
  {
   "cell_type": "code",
   "execution_count": 72,
   "metadata": {},
   "outputs": [
    {
     "data": {
      "text/plain": [
       "nan"
      ]
     },
     "execution_count": 72,
     "metadata": {},
     "output_type": "execute_result"
    }
   ],
   "source": [
    "docs[0].metadata['Аналитика 3']"
   ]
  },
  {
   "cell_type": "code",
   "execution_count": 74,
   "metadata": {},
   "outputs": [
    {
     "data": {
      "text/plain": [
       "True"
      ]
     },
     "execution_count": 74,
     "metadata": {},
     "output_type": "execute_result"
    }
   ],
   "source": [
    "'nan' == str(docs[0].metadata['Аналитика 3'])"
   ]
  },
  {
   "cell_type": "code",
   "execution_count": 53,
   "metadata": {},
   "outputs": [],
   "source": [
    "text_splitter=RecursiveCharacterTextSplitter( # TODO: semantic chunking\n",
    "    chunk_size=1000, # TODO: tune this\n",
    "    chunk_overlap=70\n",
    ")\n",
    "\n",
    "chunks = text_splitter.split_documents(docs)"
   ]
  },
  {
   "cell_type": "code",
   "execution_count": 54,
   "metadata": {},
   "outputs": [
    {
     "data": {
      "text/plain": [
       "Document(page_content='В авансовых отчетах программы XС X.X нет графы для проставления количества суточных и количества дней проживания в гостинице', metadata={'Код': 'C04273748', 'Категория': 'Изменение', 'Время регистрации': '03.12.2021 1:09:46', 'Рабочая группа': 'изм 1с erp 2.0 запросы на развитие', 'Краткое описание': 'Без СППР.  FW: 2.0 _АО_ нет графы количества', 'Решение': 'добрый день!  Доработка функционала XC ERP X.X возможна только в рамках запроса на изменение (ЗИ), инициатором обязательно должен быть предоставлен расчет экономического эффекта от реализации ЗИ. Если требования по доработке авансового отчета актуальны, то для реализации ЗИ необходимо направить новое обращение с вложением расчета экономического эффекта от реализации ЗИ. Во вложении направляем памятку по оценке экономической эффективности деятельности.', 'Аналитика 1': 'Казначейство, взаиморасчеты', 'Аналитика 2': 'Расчеты с персоналом', 'Аналитика 3': 'Авансовые отчеты'})"
      ]
     },
     "execution_count": 54,
     "metadata": {},
     "output_type": "execute_result"
    }
   ],
   "source": [
    "chunks[1]"
   ]
  },
  {
   "cell_type": "code",
   "execution_count": 55,
   "metadata": {},
   "outputs": [
    {
     "name": "stderr",
     "output_type": "stream",
     "text": [
      "/home/yagor/anaconda3/envs/torch/lib/python3.9/site-packages/huggingface_hub/file_download.py:1132: FutureWarning: `resume_download` is deprecated and will be removed in version 1.0.0. Downloads always resume when possible. If you want to force a new download, use `force_download=True`.\n",
      "  warnings.warn(\n"
     ]
    }
   ],
   "source": [
    "from langchain.vectorstores import FAISS\n",
    "from langchain.embeddings import HuggingFaceEmbeddings\n",
    "embeddings = HuggingFaceEmbeddings(model_name=\"cointegrated/LaBSE-en-ru\")\n",
    "db = FAISS.from_documents(chunks, embeddings)"
   ]
  },
  {
   "cell_type": "code",
   "execution_count": 56,
   "metadata": {},
   "outputs": [],
   "source": [
    "dir_name = 'structured_vdb'\n",
    "all_path_dir = os.path.join(\"..\", \"data\", dir_name)\n",
    "if not os.path.exists(all_path_dir):\n",
    "    os.makedirs(all_path_dir)"
   ]
  },
  {
   "cell_type": "code",
   "execution_count": 57,
   "metadata": {},
   "outputs": [],
   "source": [
    "faiss_vdb = \"index\""
   ]
  },
  {
   "cell_type": "code",
   "execution_count": 58,
   "metadata": {},
   "outputs": [],
   "source": [
    "db.save_local(all_path_dir, faiss_vdb)"
   ]
  },
  {
   "cell_type": "markdown",
   "metadata": {},
   "source": [
    "### Тестирование"
   ]
  },
  {
   "cell_type": "code",
   "execution_count": 59,
   "metadata": {},
   "outputs": [],
   "source": [
    "embeddings = HuggingFaceEmbeddings(model_name=\"cointegrated/LaBSE-en-ru\")"
   ]
  },
  {
   "cell_type": "code",
   "execution_count": 60,
   "metadata": {},
   "outputs": [],
   "source": [
    "# /home/yagor/Рабочий стол/atomic/AtomHack/data/unstructured_vdb\n",
    "db2 = FAISS.load_local(\n",
    "    os.path.join(\"..\", \"data\", 'structured_vdb'),\n",
    "    embeddings,\n",
    "    allow_dangerous_deserialization = True\n",
    ")"
   ]
  },
  {
   "cell_type": "code",
   "execution_count": 78,
   "metadata": {},
   "outputs": [],
   "source": [
    "query = \"нет графы для п суточных и количества дней проживания\"\n",
    "docs = db2.similarity_search(query)"
   ]
  },
  {
   "cell_type": "code",
   "execution_count": 79,
   "metadata": {},
   "outputs": [
    {
     "data": {
      "text/plain": [
       "Document(page_content='В авансовых отчетах программы XС X.X нет графы для проставления количества суточных и количества дней проживания в гостинице', metadata={'Код': 'C04273748', 'Категория': 'Изменение', 'Время регистрации': '03.12.2021 1:09:46', 'Рабочая группа': 'изм 1с erp 2.0 запросы на развитие', 'Краткое описание': 'Без СППР.  FW: 2.0 _АО_ нет графы количества', 'Решение': 'добрый день!  Доработка функционала XC ERP X.X возможна только в рамках запроса на изменение (ЗИ), инициатором обязательно должен быть предоставлен расчет экономического эффекта от реализации ЗИ. Если требования по доработке авансового отчета актуальны, то для реализации ЗИ необходимо направить новое обращение с вложением расчета экономического эффекта от реализации ЗИ. Во вложении направляем памятку по оценке экономической эффективности деятельности.', 'Аналитика 1': 'Казначейство, взаиморасчеты', 'Аналитика 2': 'Расчеты с персоналом', 'Аналитика 3': 'Авансовые отчеты'})"
      ]
     },
     "execution_count": 79,
     "metadata": {},
     "output_type": "execute_result"
    }
   ],
   "source": [
    "docs[0]"
   ]
  },
  {
   "cell_type": "code",
   "execution_count": 81,
   "metadata": {},
   "outputs": [
    {
     "name": "stdout",
     "output_type": "stream",
     "text": [
      "Обращение: В авансовых отчетах программы XС X.X нет графы для проставления количества суточных и количества дней проживания в гостинице\n",
      "Решение: добрый день!  Доработка функционала XC ERP X.X возможна только в рамках запроса на изменение (ЗИ), инициатором обязательно должен быть предоставлен расчет экономического эффекта от реализации ЗИ. Если требования по доработке авансового отчета актуальны, то для реализации ЗИ необходимо направить новое обращение с вложением расчета экономического эффекта от реализации ЗИ. Во вложении направляем памятку по оценке экономической эффективности деятельности.\n",
      "Категория: Авансовые отчеты\n"
     ]
    }
   ],
   "source": [
    "print('Обращение:' , docs[0].page_content)\n",
    "print('Решение:', docs[0].metadata[\"Решение\"])\n",
    "category = docs[0].metadata[\"Аналитика 3\"] if 'nan' != str(docs[0].metadata['Аналитика 3']) else docs[0].metadata[\"Аналитика 2\"]\n",
    "if 'nan' == category:\n",
    "    category = docs[0].metadata[\"Аналитика 1\"]\n",
    "print(\"Категория:\", category)"
   ]
  }
 ],
 "metadata": {
  "kernelspec": {
   "display_name": "torch",
   "language": "python",
   "name": "torch"
  },
  "language_info": {
   "codemirror_mode": {
    "name": "ipython",
    "version": 3
   },
   "file_extension": ".py",
   "mimetype": "text/x-python",
   "name": "python",
   "nbconvert_exporter": "python",
   "pygments_lexer": "ipython3",
   "version": "3.9.13"
  },
  "orig_nbformat": 4,
  "vscode": {
   "interpreter": {
    "hash": "13817f8bfaf6244a5bdc7f32f3f11f9be8f2d1244bd341f6811bf2e18438b9c9"
   }
  }
 },
 "nbformat": 4,
 "nbformat_minor": 2
}
