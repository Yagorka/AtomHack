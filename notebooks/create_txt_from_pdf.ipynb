{
 "cells": [
  {
   "cell_type": "markdown",
   "metadata": {},
   "source": [
    "## Создание текстовых файлов на основе pdf"
   ]
  },
  {
   "cell_type": "code",
   "execution_count": 10,
   "metadata": {},
   "outputs": [],
   "source": [
    "import os\n",
    "import PyPDF2\n",
    "import pytesseract\n",
    "from pdf2image import convert_from_path\n",
    "\n",
    "import glob\n",
    "import tqdm\n",
    "import re"
   ]
  },
  {
   "cell_type": "code",
   "execution_count": 13,
   "metadata": {},
   "outputs": [],
   "source": [
    "pdfs = glob.glob('/home/yagor/Рабочий стол/atomic/реальныепдф/*.pdf')"
   ]
  },
  {
   "cell_type": "code",
   "execution_count": 14,
   "metadata": {},
   "outputs": [
    {
     "data": {
      "text/plain": [
       "30"
      ]
     },
     "execution_count": 14,
     "metadata": {},
     "output_type": "execute_result"
    }
   ],
   "source": [
    "len(pdfs)"
   ]
  },
  {
   "cell_type": "code",
   "execution_count": null,
   "metadata": {},
   "outputs": [],
   "source": [
    "input_dir = '/home/yagor/Рабочий стол/atomic/реальныепдф'\n",
    "output_dir = '/home/yagor/Рабочий стол/atomic/AtomHack/data/txt_data'\n",
    "file_names = os.listdir(input_dir)\n",
    "\n",
    "for file_name in tqdm.tqdm([f for f in file_names if f.endswith(\".pdf\")]):\n",
    "    pagewise_text_list = []\n",
    "    pdf_document = os.path.join(input_dir, file_name)\n",
    "    with open(pdf_document, \"rb\") as pdf_file:\n",
    "        reader = PyPDF2.PdfReader(pdf_file)\n",
    "        num_pages = len(reader.pages)\n",
    "\n",
    "        # Iterate through the pages and extract text\n",
    "        for page_num in range(num_pages):\n",
    "            page = reader.pages[page_num]\n",
    "            text = page.extract_text() # TODO: what happens if there is a table?\n",
    "\n",
    "            if len(re.sub('[^A-Za-z0-9]+', '', text)) == 0: # let's use OCR\n",
    "                images = convert_from_path(pdf_document, first_page=page_num + 1, last_page=page_num + 1)\n",
    "                text = ''\n",
    "                for image_num in range(len(images)):\n",
    "                    text += pytesseract.image_to_string(images[image_num], lang='rus')\n",
    "\n",
    "            pagewise_text_list.append(text)\n",
    "            output_file_path = os.path.join(output_dir, file_name.replace(\".pdf\", \"\"))\n",
    "            if not os.path.exists(output_file_path):\n",
    "                os.makedirs(output_file_path)\n",
    "\n",
    "            for page_num, text in enumerate(pagewise_text_list):\n",
    "                page_file_path = os.path.join(output_file_path, f\"page_{page_num + 1}.txt\")\n",
    "                with open(page_file_path, \"w\") as page_file:\n",
    "                    page_file.write(text)"
   ]
  }
 ],
 "metadata": {
  "kernelspec": {
   "display_name": "Python 3.11.4 ('time_series')",
   "language": "python",
   "name": "python3"
  },
  "language_info": {
   "codemirror_mode": {
    "name": "ipython",
    "version": 3
   },
   "file_extension": ".py",
   "mimetype": "text/x-python",
   "name": "python",
   "nbconvert_exporter": "python",
   "pygments_lexer": "ipython3",
   "version": "3.11.4"
  },
  "orig_nbformat": 4,
  "vscode": {
   "interpreter": {
    "hash": "13817f8bfaf6244a5bdc7f32f3f11f9be8f2d1244bd341f6811bf2e18438b9c9"
   }
  }
 },
 "nbformat": 4,
 "nbformat_minor": 2
}
